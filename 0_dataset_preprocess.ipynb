{
 "cells": [
  {
   "cell_type": "markdown",
   "metadata": {},
   "source": [
    "# Dataset StackOverflow"
   ]
  },
  {
   "cell_type": "markdown",
   "metadata": {},
   "source": [
    "Loading Libraries"
   ]
  },
  {
   "cell_type": "code",
   "execution_count": 49,
   "metadata": {},
   "outputs": [],
   "source": [
    "import pandas as pd\n",
    "import os\n",
    "import seaborn as sns\n",
    "import matplotlib.pyplot as plt\n",
    "import numpy as np\n",
    "from collections import Counter"
   ]
  },
  {
   "cell_type": "markdown",
   "metadata": {},
   "source": [
    "## Preprocessing"
   ]
  },
  {
   "cell_type": "markdown",
   "metadata": {},
   "source": [
    "### Joining all files into a single one"
   ]
  },
  {
   "cell_type": "code",
   "execution_count": 50,
   "metadata": {},
   "outputs": [],
   "source": [
    "def join_dfs(folder_path):\n",
    "    dataframes = []\n",
    "    \n",
    "    #Iterate over the files\n",
    "    for file_name in os.listdir(folder_path):\n",
    "        if file_name.endswith('.csv'):  \n",
    "            file_path = os.path.join(folder_path, file_name)\n",
    "            df = pd.read_csv(file_path)\n",
    "            dataframes.append(df)\n",
    "            \n",
    "    #Combine all dataframes\n",
    "    combined_df = pd.concat(dataframes, ignore_index=True)\n",
    "    return combined_df"
   ]
  },
  {
   "cell_type": "markdown",
   "metadata": {},
   "source": [
    "Join Questions"
   ]
  },
  {
   "cell_type": "code",
   "execution_count": 51,
   "metadata": {},
   "outputs": [],
   "source": [
    "folder_path_questions = 'stackoverflow_2019/questions'\n",
    "df_questions = join_dfs(folder_path_questions)"
   ]
  },
  {
   "cell_type": "markdown",
   "metadata": {},
   "source": [
    "Join Answers"
   ]
  },
  {
   "cell_type": "code",
   "execution_count": 52,
   "metadata": {},
   "outputs": [],
   "source": [
    "folder_path_answer = 'stackoverflow_2019/answers'\n",
    "df_answers = join_dfs(folder_path_answer)"
   ]
  },
  {
   "cell_type": "markdown",
   "metadata": {},
   "source": [
    "Clean tags"
   ]
  },
  {
   "cell_type": "code",
   "execution_count": 53,
   "metadata": {},
   "outputs": [],
   "source": [
    "# Replace NaN with empty strings (if applicable) before processing\n",
    "df_questions[\"QuestionTags\"] = df_questions[\"QuestionTags\"].fillna(\"\")\n",
    "\n",
    "# Transform the tags into a list format\n",
    "df_questions[\"QuestionTags\"] = df_questions[\"QuestionTags\"].apply(lambda tags: tags.split(\"><\") if tags else [])\n",
    "df_questions[\"QuestionTags\"] = df_questions[\"QuestionTags\"].apply(lambda tags: [tag.strip(\"<>\") for tag in tags])\n"
   ]
  },
  {
   "cell_type": "markdown",
   "metadata": {},
   "source": [
    "Save DFs"
   ]
  },
  {
   "cell_type": "code",
   "execution_count": 54,
   "metadata": {},
   "outputs": [],
   "source": [
    "df_questions.to_csv(\"dataset/questions_2019.csv\", index=False)\n",
    "df_answers.to_csv(\"dataset/answers_2019.csv\", index=False)"
   ]
  },
  {
   "cell_type": "markdown",
   "metadata": {},
   "source": [
    "## Analysing Dataset"
   ]
  },
  {
   "cell_type": "markdown",
   "metadata": {},
   "source": [
    "### Question Data Analysis"
   ]
  },
  {
   "cell_type": "code",
   "execution_count": 55,
   "metadata": {},
   "outputs": [
    {
     "data": {
      "text/html": [
       "<div>\n",
       "<style scoped>\n",
       "    .dataframe tbody tr th:only-of-type {\n",
       "        vertical-align: middle;\n",
       "    }\n",
       "\n",
       "    .dataframe tbody tr th {\n",
       "        vertical-align: top;\n",
       "    }\n",
       "\n",
       "    .dataframe thead th {\n",
       "        text-align: right;\n",
       "    }\n",
       "</style>\n",
       "<table border=\"1\" class=\"dataframe\">\n",
       "  <thead>\n",
       "    <tr style=\"text-align: right;\">\n",
       "      <th></th>\n",
       "      <th>QuestionId</th>\n",
       "      <th>QuestionOwnerId</th>\n",
       "      <th>QuestionTitle</th>\n",
       "      <th>QuestionTags</th>\n",
       "      <th>QuestionVotes</th>\n",
       "      <th>QuestionCreationDate</th>\n",
       "      <th>AnswerCount</th>\n",
       "    </tr>\n",
       "  </thead>\n",
       "  <tbody>\n",
       "    <tr>\n",
       "      <th>0</th>\n",
       "      <td>54936100</td>\n",
       "      <td>3419772</td>\n",
       "      <td>R 3.5.2: Error in loading stock data from zoo</td>\n",
       "      <td>[r]</td>\n",
       "      <td>0</td>\n",
       "      <td>2019-03-01 00:00:10</td>\n",
       "      <td>1</td>\n",
       "    </tr>\n",
       "    <tr>\n",
       "      <th>1</th>\n",
       "      <td>54936106</td>\n",
       "      <td>3997132</td>\n",
       "      <td>Different behaviour of range with lodash/fp</td>\n",
       "      <td>[functional-programming, lodash]</td>\n",
       "      <td>1</td>\n",
       "      <td>2019-03-01 00:01:48</td>\n",
       "      <td>1</td>\n",
       "    </tr>\n",
       "    <tr>\n",
       "      <th>2</th>\n",
       "      <td>54936108</td>\n",
       "      <td>4992551</td>\n",
       "      <td>webPack dev server proxy rewrite URLs in response</td>\n",
       "      <td>[webpack, webpack-dev-server]</td>\n",
       "      <td>2</td>\n",
       "      <td>2019-03-01 00:01:55</td>\n",
       "      <td>1</td>\n",
       "    </tr>\n",
       "    <tr>\n",
       "      <th>3</th>\n",
       "      <td>54936109</td>\n",
       "      <td>2239552</td>\n",
       "      <td>EF Core 2.0 Global Filter</td>\n",
       "      <td>[c#]</td>\n",
       "      <td>0</td>\n",
       "      <td>2019-03-01 00:02:36</td>\n",
       "      <td>0</td>\n",
       "    </tr>\n",
       "    <tr>\n",
       "      <th>4</th>\n",
       "      <td>54936112</td>\n",
       "      <td>5505171</td>\n",
       "      <td>Clustered column chart in C# using Chart in Wi...</td>\n",
       "      <td>[c#, winforms, charts, column-chart]</td>\n",
       "      <td>0</td>\n",
       "      <td>2019-03-01 00:02:47</td>\n",
       "      <td>0</td>\n",
       "    </tr>\n",
       "    <tr>\n",
       "      <th>...</th>\n",
       "      <td>...</td>\n",
       "      <td>...</td>\n",
       "      <td>...</td>\n",
       "      <td>...</td>\n",
       "      <td>...</td>\n",
       "      <td>...</td>\n",
       "      <td>...</td>\n",
       "    </tr>\n",
       "    <tr>\n",
       "      <th>878713</th>\n",
       "      <td>54272409</td>\n",
       "      <td>10245420</td>\n",
       "      <td>Selenium iframe Data issue - python</td>\n",
       "      <td>[python, selenium, selenium-webdriver, iframe]</td>\n",
       "      <td>1</td>\n",
       "      <td>2019-01-19 23:57:14</td>\n",
       "      <td>1</td>\n",
       "    </tr>\n",
       "    <tr>\n",
       "      <th>878714</th>\n",
       "      <td>54272411</td>\n",
       "      <td>8906835</td>\n",
       "      <td>Problem on adding Bootstrap carousel component</td>\n",
       "      <td>[bootstrap-4, bootstrap-carousel]</td>\n",
       "      <td>0</td>\n",
       "      <td>2019-01-19 23:57:26</td>\n",
       "      <td>1</td>\n",
       "    </tr>\n",
       "    <tr>\n",
       "      <th>878715</th>\n",
       "      <td>54272412</td>\n",
       "      <td>10893334</td>\n",
       "      <td>NativeScript Vue nativescript-sqlite cannot as...</td>\n",
       "      <td>[sqlite, nativescript, nativescript-vue]</td>\n",
       "      <td>0</td>\n",
       "      <td>2019-01-19 23:57:36</td>\n",
       "      <td>1</td>\n",
       "    </tr>\n",
       "    <tr>\n",
       "      <th>878716</th>\n",
       "      <td>54272414</td>\n",
       "      <td>10564619</td>\n",
       "      <td>How to fix 'TypeError' that comes up for some ...</td>\n",
       "      <td>[python, typeerror]</td>\n",
       "      <td>1</td>\n",
       "      <td>2019-01-19 23:57:54</td>\n",
       "      <td>1</td>\n",
       "    </tr>\n",
       "    <tr>\n",
       "      <th>878717</th>\n",
       "      <td>54272418</td>\n",
       "      <td>10934024</td>\n",
       "      <td>Getting only a repeating files from directory ...</td>\n",
       "      <td>[powershell, csv, unique, get-childitem]</td>\n",
       "      <td>1</td>\n",
       "      <td>2019-01-19 23:59:27</td>\n",
       "      <td>1</td>\n",
       "    </tr>\n",
       "  </tbody>\n",
       "</table>\n",
       "<p>878718 rows × 7 columns</p>\n",
       "</div>"
      ],
      "text/plain": [
       "        QuestionId  QuestionOwnerId  \\\n",
       "0         54936100          3419772   \n",
       "1         54936106          3997132   \n",
       "2         54936108          4992551   \n",
       "3         54936109          2239552   \n",
       "4         54936112          5505171   \n",
       "...            ...              ...   \n",
       "878713    54272409         10245420   \n",
       "878714    54272411          8906835   \n",
       "878715    54272412         10893334   \n",
       "878716    54272414         10564619   \n",
       "878717    54272418         10934024   \n",
       "\n",
       "                                            QuestionTitle  \\\n",
       "0           R 3.5.2: Error in loading stock data from zoo   \n",
       "1             Different behaviour of range with lodash/fp   \n",
       "2       webPack dev server proxy rewrite URLs in response   \n",
       "3                               EF Core 2.0 Global Filter   \n",
       "4       Clustered column chart in C# using Chart in Wi...   \n",
       "...                                                   ...   \n",
       "878713                Selenium iframe Data issue - python   \n",
       "878714     Problem on adding Bootstrap carousel component   \n",
       "878715  NativeScript Vue nativescript-sqlite cannot as...   \n",
       "878716  How to fix 'TypeError' that comes up for some ...   \n",
       "878717  Getting only a repeating files from directory ...   \n",
       "\n",
       "                                          QuestionTags  QuestionVotes  \\\n",
       "0                                                  [r]              0   \n",
       "1                     [functional-programming, lodash]              1   \n",
       "2                        [webpack, webpack-dev-server]              2   \n",
       "3                                                 [c#]              0   \n",
       "4                 [c#, winforms, charts, column-chart]              0   \n",
       "...                                                ...            ...   \n",
       "878713  [python, selenium, selenium-webdriver, iframe]              1   \n",
       "878714               [bootstrap-4, bootstrap-carousel]              0   \n",
       "878715        [sqlite, nativescript, nativescript-vue]              0   \n",
       "878716                             [python, typeerror]              1   \n",
       "878717        [powershell, csv, unique, get-childitem]              1   \n",
       "\n",
       "       QuestionCreationDate  AnswerCount  \n",
       "0       2019-03-01 00:00:10            1  \n",
       "1       2019-03-01 00:01:48            1  \n",
       "2       2019-03-01 00:01:55            1  \n",
       "3       2019-03-01 00:02:36            0  \n",
       "4       2019-03-01 00:02:47            0  \n",
       "...                     ...          ...  \n",
       "878713  2019-01-19 23:57:14            1  \n",
       "878714  2019-01-19 23:57:26            1  \n",
       "878715  2019-01-19 23:57:36            1  \n",
       "878716  2019-01-19 23:57:54            1  \n",
       "878717  2019-01-19 23:59:27            1  \n",
       "\n",
       "[878718 rows x 7 columns]"
      ]
     },
     "execution_count": 55,
     "metadata": {},
     "output_type": "execute_result"
    }
   ],
   "source": [
    "df_questions"
   ]
  },
  {
   "cell_type": "code",
   "execution_count": 56,
   "metadata": {},
   "outputs": [
    {
     "data": {
      "text/plain": [
       "(878718, 7)"
      ]
     },
     "execution_count": 56,
     "metadata": {},
     "output_type": "execute_result"
    }
   ],
   "source": [
    "df_questions.shape"
   ]
  },
  {
   "cell_type": "markdown",
   "metadata": {},
   "source": [
    "Answers Distribution"
   ]
  },
  {
   "cell_type": "code",
   "execution_count": 57,
   "metadata": {},
   "outputs": [
    {
     "name": "stdout",
     "output_type": "stream",
     "text": [
      "    AnswerCount   Count  Percentage\n",
      "0             1  476150   54.186895\n",
      "1             2  166587   18.957959\n",
      "2             0  155835   17.734358\n",
      "3             3   51912    5.907697\n",
      "4             4   16960    1.930085\n",
      "5             5    6034    0.686682\n",
      "6             6    2343    0.266638\n",
      "7             7    1071    0.121882\n",
      "8             8     597    0.067940\n",
      "9             9     337    0.038351\n",
      "10           10     205    0.023329\n",
      "11           11     132    0.015022\n",
      "12           12     107    0.012177\n",
      "13           13      84    0.009559\n",
      "14           14      57    0.006487\n",
      "15           15      45    0.005121\n",
      "16           16      38    0.004324\n",
      "17           18      32    0.003642\n",
      "18           17      27    0.003073\n",
      "19           21      22    0.002504\n",
      "20           20      20    0.002276\n",
      "21           23      16    0.001821\n",
      "22           19      15    0.001707\n",
      "23           22      11    0.001252\n",
      "24           27      10    0.001138\n",
      "25           24       9    0.001024\n",
      "26           28       9    0.001024\n",
      "27           30       9    0.001024\n",
      "28           25       7    0.000797\n",
      "29           26       6    0.000683\n",
      "30           35       4    0.000455\n",
      "31           29       4    0.000455\n",
      "32           32       3    0.000341\n",
      "33           36       3    0.000341\n",
      "34           34       3    0.000341\n",
      "35           33       3    0.000341\n",
      "36           38       3    0.000341\n",
      "37           31       2    0.000228\n",
      "38           75       1    0.000114\n",
      "39           58       1    0.000114\n",
      "40           39       1    0.000114\n",
      "41           44       1    0.000114\n",
      "42           41       1    0.000114\n",
      "43           59       1    0.000114\n"
     ]
    }
   ],
   "source": [
    "# Value counts with percentage\n",
    "value_counts = df_questions[\"AnswerCount\"].value_counts()\n",
    "percentages = (value_counts / len(df_questions)) * 100\n",
    "\n",
    "# Combine into a single DataFrame\n",
    "result = pd.DataFrame({\n",
    "    \"Count\": value_counts,\n",
    "    \"Percentage\": percentages\n",
    "}).reset_index()\n",
    "\n",
    "result.columns = [\"AnswerCount\", \"Count\", \"Percentage\"]\n",
    "\n",
    "# Display the result\n",
    "print(result)"
   ]
  },
  {
   "cell_type": "code",
   "execution_count": 58,
   "metadata": {},
   "outputs": [
    {
     "data": {
      "text/plain": [
       "Text(0.5, 0, 'Number of Answers')"
      ]
     },
     "execution_count": 58,
     "metadata": {},
     "output_type": "execute_result"
    },
    {
     "data": {
      "image/png": "[encoded data removed]",
      "text/plain": [
       "<Figure size 640x480 with 1 Axes>"
      ]
     },
     "metadata": {},
     "output_type": "display_data"
    }
   ],
   "source": [
    "sns.boxplot(data=df_questions, x=\"AnswerCount\")\n",
    "plt.title(\"Boxplot of Answer Distribution\")\n",
    "plt.xlabel(\"Number of Answers\")"
   ]
  },
  {
   "cell_type": "markdown",
   "metadata": {},
   "source": [
    "#### Tags"
   ]
  },
  {
   "cell_type": "markdown",
   "metadata": {},
   "source": [
    "Number of Unique tags"
   ]
  },
  {
   "cell_type": "code",
   "execution_count": 59,
   "metadata": {},
   "outputs": [
    {
     "data": {
      "text/plain": [
       "35380"
      ]
     },
     "execution_count": 59,
     "metadata": {},
     "output_type": "execute_result"
    }
   ],
   "source": [
    "all_tags = [tag for tags in df_questions[\"QuestionTags\"] for tag in tags]\n",
    "len(set(all_tags))"
   ]
  },
  {
   "cell_type": "markdown",
   "metadata": {},
   "source": [
    "Number of tags distribution"
   ]
  },
  {
   "cell_type": "code",
   "execution_count": 60,
   "metadata": {},
   "outputs": [
    {
     "data": {
      "text/plain": [
       "NumTags\n",
       "3    249774\n",
       "2    245804\n",
       "4    161642\n",
       "1    118277\n",
       "5    102878\n",
       "0       332\n",
       "6        11\n",
       "Name: count, dtype: int64"
      ]
     },
     "execution_count": 60,
     "metadata": {},
     "output_type": "execute_result"
    }
   ],
   "source": [
    "df_questions[\"NumTags\"] = df_questions[\"QuestionTags\"].apply(len)\n",
    "df_questions[\"NumTags\"].value_counts()"
   ]
  },
  {
   "cell_type": "markdown",
   "metadata": {},
   "source": [
    "Most recurring tags"
   ]
  },
  {
   "cell_type": "code",
   "execution_count": 61,
   "metadata": {},
   "outputs": [
    {
     "data": {
      "text/html": [
       "<div>\n",
       "<style scoped>\n",
       "    .dataframe tbody tr th:only-of-type {\n",
       "        vertical-align: middle;\n",
       "    }\n",
       "\n",
       "    .dataframe tbody tr th {\n",
       "        vertical-align: top;\n",
       "    }\n",
       "\n",
       "    .dataframe thead th {\n",
       "        text-align: right;\n",
       "    }\n",
       "</style>\n",
       "<table border=\"1\" class=\"dataframe\">\n",
       "  <thead>\n",
       "    <tr style=\"text-align: right;\">\n",
       "      <th></th>\n",
       "      <th>Tag</th>\n",
       "      <th>Count</th>\n",
       "    </tr>\n",
       "  </thead>\n",
       "  <tbody>\n",
       "    <tr>\n",
       "      <th>11</th>\n",
       "      <td>python</td>\n",
       "      <td>107424</td>\n",
       "    </tr>\n",
       "    <tr>\n",
       "      <th>37</th>\n",
       "      <td>javascript</td>\n",
       "      <td>92951</td>\n",
       "    </tr>\n",
       "    <tr>\n",
       "      <th>25</th>\n",
       "      <td>java</td>\n",
       "      <td>64052</td>\n",
       "    </tr>\n",
       "    <tr>\n",
       "      <th>5</th>\n",
       "      <td>c#</td>\n",
       "      <td>50201</td>\n",
       "    </tr>\n",
       "    <tr>\n",
       "      <th>17</th>\n",
       "      <td>android</td>\n",
       "      <td>42889</td>\n",
       "    </tr>\n",
       "    <tr>\n",
       "      <th>9</th>\n",
       "      <td>php</td>\n",
       "      <td>40793</td>\n",
       "    </tr>\n",
       "    <tr>\n",
       "      <th>79</th>\n",
       "      <td>html</td>\n",
       "      <td>37757</td>\n",
       "    </tr>\n",
       "    <tr>\n",
       "      <th>92</th>\n",
       "      <td>python-3.x</td>\n",
       "      <td>28890</td>\n",
       "    </tr>\n",
       "    <tr>\n",
       "      <th>14</th>\n",
       "      <td>reactjs</td>\n",
       "      <td>27362</td>\n",
       "    </tr>\n",
       "    <tr>\n",
       "      <th>76</th>\n",
       "      <td>angular</td>\n",
       "      <td>25651</td>\n",
       "    </tr>\n",
       "  </tbody>\n",
       "</table>\n",
       "</div>"
      ],
      "text/plain": [
       "           Tag   Count\n",
       "11      python  107424\n",
       "37  javascript   92951\n",
       "25        java   64052\n",
       "5           c#   50201\n",
       "17     android   42889\n",
       "9          php   40793\n",
       "79        html   37757\n",
       "92  python-3.x   28890\n",
       "14     reactjs   27362\n",
       "76     angular   25651"
      ]
     },
     "execution_count": 61,
     "metadata": {},
     "output_type": "execute_result"
    }
   ],
   "source": [
    "all_tags = [tag for tags in df_questions[\"QuestionTags\"] for tag in tags]\n",
    "tag_counts = Counter(all_tags)\n",
    "tag_counts_df = pd.DataFrame(tag_counts.items(), columns=[\"Tag\", \"Count\"]).sort_values(by=\"Count\", ascending=False)\n",
    "tag_counts_df.head(10)"
   ]
  },
  {
   "cell_type": "markdown",
   "metadata": {},
   "source": [
    "### Answer Data Analysis"
   ]
  },
  {
   "cell_type": "code",
   "execution_count": 62,
   "metadata": {},
   "outputs": [
    {
     "data": {
      "text/html": [
       "<div>\n",
       "<style scoped>\n",
       "    .dataframe tbody tr th:only-of-type {\n",
       "        vertical-align: middle;\n",
       "    }\n",
       "\n",
       "    .dataframe tbody tr th {\n",
       "        vertical-align: top;\n",
       "    }\n",
       "\n",
       "    .dataframe thead th {\n",
       "        text-align: right;\n",
       "    }\n",
       "</style>\n",
       "<table border=\"1\" class=\"dataframe\">\n",
       "  <thead>\n",
       "    <tr style=\"text-align: right;\">\n",
       "      <th></th>\n",
       "      <th>QuestionId</th>\n",
       "      <th>AnswerOwnerId</th>\n",
       "      <th>AnswerVotes</th>\n",
       "      <th>AnswerCreationDate</th>\n",
       "    </tr>\n",
       "  </thead>\n",
       "  <tbody>\n",
       "    <tr>\n",
       "      <th>0</th>\n",
       "      <td>56140111</td>\n",
       "      <td>10245958</td>\n",
       "      <td>3</td>\n",
       "      <td>2019-05-15 00:07:23</td>\n",
       "    </tr>\n",
       "    <tr>\n",
       "      <th>1</th>\n",
       "      <td>56140157</td>\n",
       "      <td>1226963</td>\n",
       "      <td>0</td>\n",
       "      <td>2019-05-15 00:12:34</td>\n",
       "    </tr>\n",
       "    <tr>\n",
       "      <th>2</th>\n",
       "      <td>56140125</td>\n",
       "      <td>6841773</td>\n",
       "      <td>0</td>\n",
       "      <td>2019-05-15 00:12:44</td>\n",
       "    </tr>\n",
       "    <tr>\n",
       "      <th>3</th>\n",
       "      <td>56140150</td>\n",
       "      <td>1440565</td>\n",
       "      <td>5</td>\n",
       "      <td>2019-05-15 00:12:52</td>\n",
       "    </tr>\n",
       "    <tr>\n",
       "      <th>4</th>\n",
       "      <td>56140150</td>\n",
       "      <td>11015427</td>\n",
       "      <td>15</td>\n",
       "      <td>2019-05-15 00:16:46</td>\n",
       "    </tr>\n",
       "  </tbody>\n",
       "</table>\n",
       "</div>"
      ],
      "text/plain": [
       "   QuestionId  AnswerOwnerId  AnswerVotes   AnswerCreationDate\n",
       "0    56140111       10245958            3  2019-05-15 00:07:23\n",
       "1    56140157        1226963            0  2019-05-15 00:12:34\n",
       "2    56140125        6841773            0  2019-05-15 00:12:44\n",
       "3    56140150        1440565            5  2019-05-15 00:12:52\n",
       "4    56140150       11015427           15  2019-05-15 00:16:46"
      ]
     },
     "execution_count": 62,
     "metadata": {},
     "output_type": "execute_result"
    }
   ],
   "source": [
    "df_answers.head()"
   ]
  },
  {
   "cell_type": "code",
   "execution_count": 63,
   "metadata": {},
   "outputs": [
    {
     "data": {
      "text/plain": [
       "(1105677, 4)"
      ]
     },
     "execution_count": 63,
     "metadata": {},
     "output_type": "execute_result"
    }
   ],
   "source": [
    "df_answers.shape"
   ]
  },
  {
   "cell_type": "markdown",
   "metadata": {},
   "source": [
    "Get number of users"
   ]
  },
  {
   "cell_type": "code",
   "execution_count": 64,
   "metadata": {},
   "outputs": [
    {
     "data": {
      "text/plain": [
       "283278"
      ]
     },
     "execution_count": 64,
     "metadata": {},
     "output_type": "execute_result"
    }
   ],
   "source": [
    "df_answers[\"AnswerOwnerId\"].nunique()"
   ]
  },
  {
   "cell_type": "markdown",
   "metadata": {},
   "source": [
    "Upvotes (Verifying negative)"
   ]
  },
  {
   "cell_type": "code",
   "execution_count": 65,
   "metadata": {},
   "outputs": [
    {
     "data": {
      "text/plain": [
       "26380"
      ]
     },
     "execution_count": 65,
     "metadata": {},
     "output_type": "execute_result"
    }
   ],
   "source": [
    "df_answers[\"AnswerVotes\"][df_answers[\"AnswerVotes\"]<0].count()"
   ]
  },
  {
   "cell_type": "markdown",
   "metadata": {},
   "source": [
    "Verifying number of answers by users"
   ]
  },
  {
   "cell_type": "code",
   "execution_count": 66,
   "metadata": {},
   "outputs": [
    {
     "data": {
      "text/html": [
       "<div>\n",
       "<style scoped>\n",
       "    .dataframe tbody tr th:only-of-type {\n",
       "        vertical-align: middle;\n",
       "    }\n",
       "\n",
       "    .dataframe tbody tr th {\n",
       "        vertical-align: top;\n",
       "    }\n",
       "\n",
       "    .dataframe thead th {\n",
       "        text-align: right;\n",
       "    }\n",
       "</style>\n",
       "<table border=\"1\" class=\"dataframe\">\n",
       "  <thead>\n",
       "    <tr style=\"text-align: right;\">\n",
       "      <th></th>\n",
       "      <th>AnswerOwnerId</th>\n",
       "      <th>AnswerCount</th>\n",
       "    </tr>\n",
       "  </thead>\n",
       "  <tbody>\n",
       "    <tr>\n",
       "      <th>29546</th>\n",
       "      <td>1144035</td>\n",
       "      <td>5614</td>\n",
       "    </tr>\n",
       "    <tr>\n",
       "      <th>70053</th>\n",
       "      <td>2901002</td>\n",
       "      <td>2600</td>\n",
       "    </tr>\n",
       "    <tr>\n",
       "      <th>85894</th>\n",
       "      <td>3732271</td>\n",
       "      <td>2031</td>\n",
       "    </tr>\n",
       "    <tr>\n",
       "      <th>163924</th>\n",
       "      <td>7964527</td>\n",
       "      <td>1768</td>\n",
       "    </tr>\n",
       "    <tr>\n",
       "      <th>47833</th>\n",
       "      <td>1863229</td>\n",
       "      <td>1657</td>\n",
       "    </tr>\n",
       "    <tr>\n",
       "      <th>204009</th>\n",
       "      <td>10221765</td>\n",
       "      <td>1466</td>\n",
       "    </tr>\n",
       "    <tr>\n",
       "      <th>209784</th>\n",
       "      <td>10498828</td>\n",
       "      <td>1429</td>\n",
       "    </tr>\n",
       "    <tr>\n",
       "      <th>37612</th>\n",
       "      <td>1447675</td>\n",
       "      <td>1415</td>\n",
       "    </tr>\n",
       "    <tr>\n",
       "      <th>38778</th>\n",
       "      <td>1491895</td>\n",
       "      <td>1274</td>\n",
       "    </tr>\n",
       "    <tr>\n",
       "      <th>90393</th>\n",
       "      <td>3962914</td>\n",
       "      <td>1206</td>\n",
       "    </tr>\n",
       "    <tr>\n",
       "      <th>190777</th>\n",
       "      <td>9515207</td>\n",
       "      <td>1161</td>\n",
       "    </tr>\n",
       "    <tr>\n",
       "      <th>122658</th>\n",
       "      <td>5632629</td>\n",
       "      <td>1107</td>\n",
       "    </tr>\n",
       "    <tr>\n",
       "      <th>87931</th>\n",
       "      <td>3832970</td>\n",
       "      <td>1102</td>\n",
       "    </tr>\n",
       "    <tr>\n",
       "      <th>5900</th>\n",
       "      <td>209103</td>\n",
       "      <td>1095</td>\n",
       "    </tr>\n",
       "    <tr>\n",
       "      <th>196325</th>\n",
       "      <td>9819146</td>\n",
       "      <td>1090</td>\n",
       "    </tr>\n",
       "    <tr>\n",
       "      <th>133987</th>\n",
       "      <td>6241235</td>\n",
       "      <td>992</td>\n",
       "    </tr>\n",
       "    <tr>\n",
       "      <th>190043</th>\n",
       "      <td>9473764</td>\n",
       "      <td>936</td>\n",
       "    </tr>\n",
       "    <tr>\n",
       "      <th>357</th>\n",
       "      <td>6309</td>\n",
       "      <td>919</td>\n",
       "    </tr>\n",
       "    <tr>\n",
       "      <th>174846</th>\n",
       "      <td>8591431</td>\n",
       "      <td>917</td>\n",
       "    </tr>\n",
       "    <tr>\n",
       "      <th>175347</th>\n",
       "      <td>8620333</td>\n",
       "      <td>904</td>\n",
       "    </tr>\n",
       "  </tbody>\n",
       "</table>\n",
       "</div>"
      ],
      "text/plain": [
       "        AnswerOwnerId  AnswerCount\n",
       "29546         1144035         5614\n",
       "70053         2901002         2600\n",
       "85894         3732271         2031\n",
       "163924        7964527         1768\n",
       "47833         1863229         1657\n",
       "204009       10221765         1466\n",
       "209784       10498828         1429\n",
       "37612         1447675         1415\n",
       "38778         1491895         1274\n",
       "90393         3962914         1206\n",
       "190777        9515207         1161\n",
       "122658        5632629         1107\n",
       "87931         3832970         1102\n",
       "5900           209103         1095\n",
       "196325        9819146         1090\n",
       "133987        6241235          992\n",
       "190043        9473764          936\n",
       "357              6309          919\n",
       "174846        8591431          917\n",
       "175347        8620333          904"
      ]
     },
     "execution_count": 66,
     "metadata": {},
     "output_type": "execute_result"
    }
   ],
   "source": [
    "answer_distribution = df_answers.groupby(\"AnswerOwnerId\").size().reset_index(name=\"AnswerCount\")\n",
    "answer_distribution = answer_distribution.sort_values(by=\"AnswerCount\", ascending=False)\n",
    "answer_distribution.head(20)"
   ]
  },
  {
   "cell_type": "code",
   "execution_count": 67,
   "metadata": {},
   "outputs": [
    {
     "data": {
      "image/png": "[encoded data removed]",
      "text/plain": [
       "<Figure size 1200x600 with 1 Axes>"
      ]
     },
     "metadata": {},
     "output_type": "display_data"
    }
   ],
   "source": [
    "# Step 1: Count the number of answers per user\n",
    "answer_distribution = df_answers.groupby(\"AnswerOwnerId\").size().reset_index(name=\"AnswerCount\")\n",
    "\n",
    "# Step 2: Sort the distribution (descending order by AnswerCount)\n",
    "answer_distribution = answer_distribution.sort_values(by=\"AnswerCount\", ascending=False).reset_index(drop=True)\n",
    "\n",
    "# Step 3: Slice the top 1,000 users\n",
    "top_users = answer_distribution.head(1000)\n",
    "x = np.arange(1, len(top_users) + 1)  # Rank of users\n",
    "y = top_users[\"AnswerCount\"]         # Number of answers\n",
    "\n",
    "# Step 4: Plot the Long Tail for Top 1,000 Users\n",
    "plt.figure(figsize=(12, 6))\n",
    "plt.plot(x, y, marker=\"o\", linestyle=\"-\", color=\"steelblue\", label=\"Number of Answers\")\n",
    "\n",
    "# Add shaded regions for \"Head\" and \"Tail\"\n",
    "head_cutoff = 50  # Define the number of top contributors in the \"Head\"\n",
    "plt.fill_between(x[:head_cutoff], y[:head_cutoff], color=\"lightblue\", alpha=0.5, label=\"Head (Top Contributors)\")\n",
    "plt.fill_between(x[head_cutoff:], y[head_cutoff:], color=\"lightgreen\", alpha=0.5, label=\"Tail (Other Users)\")\n",
    "\n",
    "# Add labels and customize ticks\n",
    "plt.title(\"The Long Tail of User Answer Contributions (Top 1,000 Users)\", fontsize=14)\n",
    "plt.xlabel(\"Users (Ranked by Number of Answers)\", fontsize=12)\n",
    "plt.ylabel(\"Number of Answers\", fontsize=12)\n",
    "plt.grid(True, linestyle=\"--\", linewidth=0.5)\n",
    "plt.legend(loc=\"upper right\", fontsize=10)\n",
    "plt.tight_layout()\n",
    "\n",
    "# Show the plot\n",
    "plt.show()\n"
   ]
  },
  {
   "cell_type": "markdown",
   "metadata": {},
   "source": [
    "## Filtered Question Dataset"
   ]
  },
  {
   "cell_type": "code",
   "execution_count": 68,
   "metadata": {},
   "outputs": [],
   "source": [
    "tags_to_filter = {'java', 'python', 'javascript', 'c#', 'android'}  # Faster lookup structure\n",
    "\n",
    "\n",
    "# Filter rows where any tag matches one of the target tags\n",
    "df_question_filtered = df_questions[df_questions['QuestionTags'].apply(lambda tags: any(tag in tags_to_filter for tag in tags))]\n"
   ]
  },
  {
   "cell_type": "code",
   "execution_count": 69,
   "metadata": {},
   "outputs": [
    {
     "data": {
      "text/plain": [
       "(343186, 8)"
      ]
     },
     "execution_count": 69,
     "metadata": {},
     "output_type": "execute_result"
    }
   ],
   "source": [
    "df_question_filtered.shape"
   ]
  },
  {
   "cell_type": "markdown",
   "metadata": {},
   "source": [
    "Number of Each tag"
   ]
  },
  {
   "cell_type": "code",
   "execution_count": 72,
   "metadata": {},
   "outputs": [
    {
     "data": {
      "text/plain": [
       "NumTags\n",
       "3    105621\n",
       "2     83219\n",
       "4     78069\n",
       "5     53054\n",
       "1     23215\n",
       "6         8\n",
       "Name: count, dtype: int64"
      ]
     },
     "execution_count": 72,
     "metadata": {},
     "output_type": "execute_result"
    }
   ],
   "source": [
    "df_question_filtered[\"NumTags\"].value_counts()"
   ]
  },
  {
   "cell_type": "code",
   "execution_count": 76,
   "metadata": {},
   "outputs": [
    {
     "data": {
      "image/png": "[encoded data removed]",
      "text/plain": [
       "<Figure size 640x480 with 1 Axes>"
      ]
     },
     "metadata": {},
     "output_type": "display_data"
    }
   ],
   "source": [
    "# Plot the countplot of Tags\n",
    "sns.countplot(data=df_question_filtered, x=\"NumTags\", color='#6495ED')\n",
    "\n",
    "# Add a title and axis labels\n",
    "plt.title('Number of Tags per Question', fontsize=14, pad=20)\n",
    "plt.xlabel('Number of Tags', fontsize=12)\n",
    "plt.ylabel('Questions Count', fontsize=12)\n",
    "\n",
    "# Show the plot\n",
    "plt.show()\n"
   ]
  },
  {
   "cell_type": "markdown",
   "metadata": {},
   "source": [
    "Distribution of after train and test of tags"
   ]
  },
  {
   "cell_type": "code",
   "execution_count": 79,
   "metadata": {},
   "outputs": [
    {
     "data": {
      "text/html": [
       "<div>\n",
       "<style scoped>\n",
       "    .dataframe tbody tr th:only-of-type {\n",
       "        vertical-align: middle;\n",
       "    }\n",
       "\n",
       "    .dataframe tbody tr th {\n",
       "        vertical-align: top;\n",
       "    }\n",
       "\n",
       "    .dataframe thead th {\n",
       "        text-align: right;\n",
       "    }\n",
       "</style>\n",
       "<table border=\"1\" class=\"dataframe\">\n",
       "  <thead>\n",
       "    <tr style=\"text-align: right;\">\n",
       "      <th></th>\n",
       "      <th>Tag</th>\n",
       "      <th>Count</th>\n",
       "    </tr>\n",
       "  </thead>\n",
       "  <tbody>\n",
       "    <tr>\n",
       "      <th>4</th>\n",
       "      <td>python</td>\n",
       "      <td>107424</td>\n",
       "    </tr>\n",
       "    <tr>\n",
       "      <th>16</th>\n",
       "      <td>javascript</td>\n",
       "      <td>92951</td>\n",
       "    </tr>\n",
       "    <tr>\n",
       "      <th>15</th>\n",
       "      <td>java</td>\n",
       "      <td>64052</td>\n",
       "    </tr>\n",
       "    <tr>\n",
       "      <th>0</th>\n",
       "      <td>c#</td>\n",
       "      <td>50201</td>\n",
       "    </tr>\n",
       "    <tr>\n",
       "      <th>7</th>\n",
       "      <td>android</td>\n",
       "      <td>42889</td>\n",
       "    </tr>\n",
       "  </tbody>\n",
       "</table>\n",
       "</div>"
      ],
      "text/plain": [
       "           Tag   Count\n",
       "4       python  107424\n",
       "16  javascript   92951\n",
       "15        java   64052\n",
       "0           c#   50201\n",
       "7      android   42889"
      ]
     },
     "execution_count": 79,
     "metadata": {},
     "output_type": "execute_result"
    }
   ],
   "source": [
    "all_tags = [tag for tags in df_question_filtered[\"QuestionTags\"] for tag in tags]\n",
    "tag_counts = Counter(all_tags)\n",
    "tag_counts_df = pd.DataFrame(tag_counts.items(), columns=[\"Tag\", \"Count\"]).sort_values(by=\"Count\", ascending=False)\n",
    "tag_counts_df.head(5)"
   ]
  },
  {
   "cell_type": "code",
   "execution_count": 82,
   "metadata": {},
   "outputs": [
    {
     "data": {
      "image/png": "[encoded data removed]",
      "text/plain": [
       "<Figure size 640x480 with 1 Axes>"
      ]
     },
     "metadata": {},
     "output_type": "display_data"
    }
   ],
   "source": [
    "# Plot the barplot of the top 5 tags\n",
    "sns.barplot(data=tag_counts_df.head(5), y=\"Count\", x=\"Tag\", color='#6495ED')\n",
    "\n",
    "# Add a title and axis labels\n",
    "plt.title('Top 5 Most Common Tags', fontsize=14, pad=20)\n",
    "plt.xlabel('Questions Count', fontsize=12)\n",
    "plt.ylabel('Tags', fontsize=12)\n",
    "\n",
    "# Show the plot\n",
    "plt.tight_layout()\n",
    "plt.show()\n"
   ]
  },
  {
   "cell_type": "code",
   "execution_count": 83,
   "metadata": {},
   "outputs": [],
   "source": [
    "# Ordering dataframe before split\n",
    "# Convert 'QuestionCreationDate' to datetime format using .loc\n",
    "df_question_filtered.loc[:, 'QuestionCreationDate'] = pd.to_datetime(df_question_filtered['QuestionCreationDate'])\n",
    "\n",
    "# Sort the DataFrame by 'QuestionCreationDate' without using inplace\n",
    "df_question_filtered = df_question_filtered.sort_values(by='QuestionCreationDate')"
   ]
  },
  {
   "cell_type": "code",
   "execution_count": 85,
   "metadata": {},
   "outputs": [],
   "source": [
    "# Determine the split index\n",
    "split_index = int(len(df_question_filtered) * 0.9) #10% for test \n",
    "\n",
    "# Split the DataFrame into training and testing sets\n",
    "train_data = df_question_filtered.iloc[:split_index]\n",
    "test_data = df_question_filtered.iloc[split_index:]"
   ]
  },
  {
   "cell_type": "code",
   "execution_count": 95,
   "metadata": {},
   "outputs": [],
   "source": [
    "all_tags = [tag for tags in train_data[\"QuestionTags\"] for tag in tags]\n",
    "tag_counts = Counter(all_tags)\n",
    "tag_counts_df_train = pd.DataFrame(tag_counts.items(), columns=[\"Tag\", \"Count\"]).sort_values(by=\"Count\", ascending=False).head(5)\n",
    "tag_counts_df_train[\"type\"] = \"train\"\n",
    "total_train = tag_counts_df_train['Count'].sum()\n",
    "tag_counts_df_train['Percentage'] = (tag_counts_df_train['Count'] / total_train) * 100\n",
    "\n",
    "\n",
    "all_tags = [tag for tags in test_data[\"QuestionTags\"] for tag in tags]\n",
    "tag_counts = Counter(all_tags)\n",
    "tag_counts_df_test = pd.DataFrame(tag_counts.items(), columns=[\"Tag\", \"Count\"]).sort_values(by=\"Count\", ascending=False).head(5)\n",
    "tag_counts_df_test[\"type\"] = \"test\"\n",
    "total_test = tag_counts_df_test['Count'].sum()\n",
    "tag_counts_df_test['Percentage'] = (tag_counts_df_test['Count'] / total_test) * 100\n",
    "\n",
    "\n",
    "\n",
    "tag_counts_df = pd.concat([tag_counts_df_train, tag_counts_df_test])\n",
    "\n"
   ]
  },
  {
   "cell_type": "code",
   "execution_count": 107,
   "metadata": {},
   "outputs": [
    {
     "data": {
      "image/png": "[encoded data removed]",
      "text/plain": [
       "<Figure size 1400x800 with 1 Axes>"
      ]
     },
     "metadata": {},
     "output_type": "display_data"
    }
   ],
   "source": [
    "combined_data_sorted = tag_counts_df.sort_values(by='Percentage', ascending=False)\n",
    "\n",
    "# Plot side-by-side bar chart\n",
    "plt.figure(figsize=(14, 8))\n",
    "sns.barplot(data=combined_data_sorted, x='Tag', y='Percentage', hue='type', palette=['#6495ED', '#FFA07A'], hue_order=['train', 'test'])\n",
    "\n",
    "# Add title and axis labels\n",
    "plt.title('Train vs Test Tag Distribution (Percentage)', fontsize=20, pad=20)\n",
    "plt.xlabel('Tags', fontsize=16)\n",
    "plt.ylabel('Percentage of the 5 Tags (%)', fontsize=16)\n",
    "\n",
    "# Rotate x-axis labels for better readability\n",
    "plt.xticks(rotation=45, ha=\"right\", fontsize=14)\n",
    "plt.yticks(fontsize=14)\n",
    "\n",
    "plt.legend(title='Dataset Type', fontsize=14, title_fontsize=16)\n",
    "plt.tight_layout()\n",
    "plt.show()"
   ]
  }
 ],
 "metadata": {
  "kernelspec": {
   "display_name": "data_science",
   "language": "python",
   "name": "python3"
  },
  "language_info": {
   "codemirror_mode": {
    "name": "ipython",
    "version": 3
   },
   "file_extension": ".py",
   "mimetype": "text/x-python",
   "name": "python",
   "nbconvert_exporter": "python",
   "pygments_lexer": "ipython3",
   "version": "3.9.18"
  }
 },
 "nbformat": 4,
 "nbformat_minor": 2
}
