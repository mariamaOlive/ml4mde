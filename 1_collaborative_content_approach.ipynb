{
 "cells": [
  {
   "cell_type": "markdown",
   "metadata": {},
   "source": [
    "# Rec Sys of Answerers for StackOverflow\n",
    "## 1 - Collaborative and Content Based Approach"
   ]
  },
  {
   "cell_type": "markdown",
   "metadata": {},
   "source": [
    "Loading Libraries"
   ]
  },
  {
   "cell_type": "code",
   "execution_count": 1,
   "metadata": {},
   "outputs": [],
   "source": [
    "import pandas as pd\n",
    "import numpy as np\n",
    "from sklearn.metrics.pairwise import cosine_similarity\n",
    "from collections import defaultdict\n",
    "from scipy.sparse import csr_matrix\n",
    "from scipy.sparse.linalg import norm\n",
    "from sklearn.model_selection import train_test_split\n",
    "import ast\n",
    "from tqdm import tqdm\n",
    "from functools import lru_cache"
   ]
  },
  {
   "cell_type": "markdown",
   "metadata": {},
   "source": [
    "Loading Data"
   ]
  },
  {
   "cell_type": "code",
   "execution_count": 2,
   "metadata": {},
   "outputs": [],
   "source": [
    "df_question = pd.read_csv(\"dataset/questions_2019.csv\")\n",
    "df_answer = pd.read_csv(\"dataset/answers_2019.csv\")"
   ]
  },
  {
   "cell_type": "code",
   "execution_count": 3,
   "metadata": {},
   "outputs": [
    {
     "data": {
      "text/html": [
       "<div>\n",
       "<style scoped>\n",
       "    .dataframe tbody tr th:only-of-type {\n",
       "        vertical-align: middle;\n",
       "    }\n",
       "\n",
       "    .dataframe tbody tr th {\n",
       "        vertical-align: top;\n",
       "    }\n",
       "\n",
       "    .dataframe thead th {\n",
       "        text-align: right;\n",
       "    }\n",
       "</style>\n",
       "<table border=\"1\" class=\"dataframe\">\n",
       "  <thead>\n",
       "    <tr style=\"text-align: right;\">\n",
       "      <th></th>\n",
       "      <th>QuestionId</th>\n",
       "      <th>QuestionOwnerId</th>\n",
       "      <th>QuestionTitle</th>\n",
       "      <th>QuestionTags</th>\n",
       "      <th>QuestionVotes</th>\n",
       "      <th>QuestionCreationDate</th>\n",
       "      <th>AnswerCount</th>\n",
       "    </tr>\n",
       "  </thead>\n",
       "  <tbody>\n",
       "    <tr>\n",
       "      <th>0</th>\n",
       "      <td>54936100</td>\n",
       "      <td>3419772</td>\n",
       "      <td>R 3.5.2: Error in loading stock data from zoo</td>\n",
       "      <td>['r']</td>\n",
       "      <td>0</td>\n",
       "      <td>2019-03-01 00:00:10</td>\n",
       "      <td>1</td>\n",
       "    </tr>\n",
       "    <tr>\n",
       "      <th>1</th>\n",
       "      <td>54936106</td>\n",
       "      <td>3997132</td>\n",
       "      <td>Different behaviour of range with lodash/fp</td>\n",
       "      <td>['functional-programming', 'lodash']</td>\n",
       "      <td>1</td>\n",
       "      <td>2019-03-01 00:01:48</td>\n",
       "      <td>1</td>\n",
       "    </tr>\n",
       "    <tr>\n",
       "      <th>2</th>\n",
       "      <td>54936108</td>\n",
       "      <td>4992551</td>\n",
       "      <td>webPack dev server proxy rewrite URLs in response</td>\n",
       "      <td>['webpack', 'webpack-dev-server']</td>\n",
       "      <td>2</td>\n",
       "      <td>2019-03-01 00:01:55</td>\n",
       "      <td>1</td>\n",
       "    </tr>\n",
       "    <tr>\n",
       "      <th>3</th>\n",
       "      <td>54936109</td>\n",
       "      <td>2239552</td>\n",
       "      <td>EF Core 2.0 Global Filter</td>\n",
       "      <td>['c#']</td>\n",
       "      <td>0</td>\n",
       "      <td>2019-03-01 00:02:36</td>\n",
       "      <td>0</td>\n",
       "    </tr>\n",
       "    <tr>\n",
       "      <th>4</th>\n",
       "      <td>54936112</td>\n",
       "      <td>5505171</td>\n",
       "      <td>Clustered column chart in C# using Chart in Wi...</td>\n",
       "      <td>['c#', 'winforms', 'charts', 'column-chart']</td>\n",
       "      <td>0</td>\n",
       "      <td>2019-03-01 00:02:47</td>\n",
       "      <td>0</td>\n",
       "    </tr>\n",
       "  </tbody>\n",
       "</table>\n",
       "</div>"
      ],
      "text/plain": [
       "   QuestionId  QuestionOwnerId  \\\n",
       "0    54936100          3419772   \n",
       "1    54936106          3997132   \n",
       "2    54936108          4992551   \n",
       "3    54936109          2239552   \n",
       "4    54936112          5505171   \n",
       "\n",
       "                                       QuestionTitle  \\\n",
       "0      R 3.5.2: Error in loading stock data from zoo   \n",
       "1        Different behaviour of range with lodash/fp   \n",
       "2  webPack dev server proxy rewrite URLs in response   \n",
       "3                          EF Core 2.0 Global Filter   \n",
       "4  Clustered column chart in C# using Chart in Wi...   \n",
       "\n",
       "                                   QuestionTags  QuestionVotes  \\\n",
       "0                                         ['r']              0   \n",
       "1          ['functional-programming', 'lodash']              1   \n",
       "2             ['webpack', 'webpack-dev-server']              2   \n",
       "3                                        ['c#']              0   \n",
       "4  ['c#', 'winforms', 'charts', 'column-chart']              0   \n",
       "\n",
       "  QuestionCreationDate  AnswerCount  \n",
       "0  2019-03-01 00:00:10            1  \n",
       "1  2019-03-01 00:01:48            1  \n",
       "2  2019-03-01 00:01:55            1  \n",
       "3  2019-03-01 00:02:36            0  \n",
       "4  2019-03-01 00:02:47            0  "
      ]
     },
     "execution_count": 3,
     "metadata": {},
     "output_type": "execute_result"
    }
   ],
   "source": [
    "df_question.head()"
   ]
  },
  {
   "cell_type": "code",
   "execution_count": 4,
   "metadata": {},
   "outputs": [
    {
     "data": {
      "text/html": [
       "<div>\n",
       "<style scoped>\n",
       "    .dataframe tbody tr th:only-of-type {\n",
       "        vertical-align: middle;\n",
       "    }\n",
       "\n",
       "    .dataframe tbody tr th {\n",
       "        vertical-align: top;\n",
       "    }\n",
       "\n",
       "    .dataframe thead th {\n",
       "        text-align: right;\n",
       "    }\n",
       "</style>\n",
       "<table border=\"1\" class=\"dataframe\">\n",
       "  <thead>\n",
       "    <tr style=\"text-align: right;\">\n",
       "      <th></th>\n",
       "      <th>QuestionId</th>\n",
       "      <th>AnswerOwnerId</th>\n",
       "      <th>AnswerVotes</th>\n",
       "      <th>AnswerCreationDate</th>\n",
       "    </tr>\n",
       "  </thead>\n",
       "  <tbody>\n",
       "    <tr>\n",
       "      <th>0</th>\n",
       "      <td>56140111</td>\n",
       "      <td>10245958</td>\n",
       "      <td>3</td>\n",
       "      <td>2019-05-15 00:07:23</td>\n",
       "    </tr>\n",
       "    <tr>\n",
       "      <th>1</th>\n",
       "      <td>56140157</td>\n",
       "      <td>1226963</td>\n",
       "      <td>0</td>\n",
       "      <td>2019-05-15 00:12:34</td>\n",
       "    </tr>\n",
       "    <tr>\n",
       "      <th>2</th>\n",
       "      <td>56140125</td>\n",
       "      <td>6841773</td>\n",
       "      <td>0</td>\n",
       "      <td>2019-05-15 00:12:44</td>\n",
       "    </tr>\n",
       "    <tr>\n",
       "      <th>3</th>\n",
       "      <td>56140150</td>\n",
       "      <td>1440565</td>\n",
       "      <td>5</td>\n",
       "      <td>2019-05-15 00:12:52</td>\n",
       "    </tr>\n",
       "    <tr>\n",
       "      <th>4</th>\n",
       "      <td>56140150</td>\n",
       "      <td>11015427</td>\n",
       "      <td>15</td>\n",
       "      <td>2019-05-15 00:16:46</td>\n",
       "    </tr>\n",
       "  </tbody>\n",
       "</table>\n",
       "</div>"
      ],
      "text/plain": [
       "   QuestionId  AnswerOwnerId  AnswerVotes   AnswerCreationDate\n",
       "0    56140111       10245958            3  2019-05-15 00:07:23\n",
       "1    56140157        1226963            0  2019-05-15 00:12:34\n",
       "2    56140125        6841773            0  2019-05-15 00:12:44\n",
       "3    56140150        1440565            5  2019-05-15 00:12:52\n",
       "4    56140150       11015427           15  2019-05-15 00:16:46"
      ]
     },
     "execution_count": 4,
     "metadata": {},
     "output_type": "execute_result"
    }
   ],
   "source": [
    "df_answer.head()"
   ]
  },
  {
   "cell_type": "markdown",
   "metadata": {},
   "source": [
    "Transfoming list of tags"
   ]
  },
  {
   "cell_type": "code",
   "execution_count": 5,
   "metadata": {},
   "outputs": [],
   "source": [
    "df_question['QuestionTags'] = df_question['QuestionTags'].apply(ast.literal_eval)"
   ]
  },
  {
   "cell_type": "code",
   "execution_count": null,
   "metadata": {},
   "outputs": [
    {
     "data": {
      "text/html": [
       "<div>\n",
       "<style scoped>\n",
       "    .dataframe tbody tr th:only-of-type {\n",
       "        vertical-align: middle;\n",
       "    }\n",
       "\n",
       "    .dataframe tbody tr th {\n",
       "        vertical-align: top;\n",
       "    }\n",
       "\n",
       "    .dataframe thead th {\n",
       "        text-align: right;\n",
       "    }\n",
       "</style>\n",
       "<table border=\"1\" class=\"dataframe\">\n",
       "  <thead>\n",
       "    <tr style=\"text-align: right;\">\n",
       "      <th></th>\n",
       "      <th>QuestionId</th>\n",
       "      <th>QuestionOwnerId</th>\n",
       "      <th>QuestionTitle</th>\n",
       "      <th>QuestionTags</th>\n",
       "      <th>QuestionVotes</th>\n",
       "      <th>QuestionCreationDate</th>\n",
       "      <th>AnswerCount</th>\n",
       "    </tr>\n",
       "  </thead>\n",
       "  <tbody>\n",
       "    <tr>\n",
       "      <th>0</th>\n",
       "      <td>54936100</td>\n",
       "      <td>3419772</td>\n",
       "      <td>R 3.5.2: Error in loading stock data from zoo</td>\n",
       "      <td>[r]</td>\n",
       "      <td>0</td>\n",
       "      <td>2019-03-01 00:00:10</td>\n",
       "      <td>1</td>\n",
       "    </tr>\n",
       "    <tr>\n",
       "      <th>1</th>\n",
       "      <td>54936106</td>\n",
       "      <td>3997132</td>\n",
       "      <td>Different behaviour of range with lodash/fp</td>\n",
       "      <td>[functional-programming, lodash]</td>\n",
       "      <td>1</td>\n",
       "      <td>2019-03-01 00:01:48</td>\n",
       "      <td>1</td>\n",
       "    </tr>\n",
       "    <tr>\n",
       "      <th>2</th>\n",
       "      <td>54936108</td>\n",
       "      <td>4992551</td>\n",
       "      <td>webPack dev server proxy rewrite URLs in response</td>\n",
       "      <td>[webpack, webpack-dev-server]</td>\n",
       "      <td>2</td>\n",
       "      <td>2019-03-01 00:01:55</td>\n",
       "      <td>1</td>\n",
       "    </tr>\n",
       "    <tr>\n",
       "      <th>3</th>\n",
       "      <td>54936109</td>\n",
       "      <td>2239552</td>\n",
       "      <td>EF Core 2.0 Global Filter</td>\n",
       "      <td>[c#]</td>\n",
       "      <td>0</td>\n",
       "      <td>2019-03-01 00:02:36</td>\n",
       "      <td>0</td>\n",
       "    </tr>\n",
       "    <tr>\n",
       "      <th>4</th>\n",
       "      <td>54936112</td>\n",
       "      <td>5505171</td>\n",
       "      <td>Clustered column chart in C# using Chart in Wi...</td>\n",
       "      <td>[c#, winforms, charts, column-chart]</td>\n",
       "      <td>0</td>\n",
       "      <td>2019-03-01 00:02:47</td>\n",
       "      <td>0</td>\n",
       "    </tr>\n",
       "    <tr>\n",
       "      <th>...</th>\n",
       "      <td>...</td>\n",
       "      <td>...</td>\n",
       "      <td>...</td>\n",
       "      <td>...</td>\n",
       "      <td>...</td>\n",
       "      <td>...</td>\n",
       "      <td>...</td>\n",
       "    </tr>\n",
       "    <tr>\n",
       "      <th>878713</th>\n",
       "      <td>54272409</td>\n",
       "      <td>10245420</td>\n",
       "      <td>Selenium iframe Data issue - python</td>\n",
       "      <td>[python, selenium, selenium-webdriver, iframe]</td>\n",
       "      <td>1</td>\n",
       "      <td>2019-01-19 23:57:14</td>\n",
       "      <td>1</td>\n",
       "    </tr>\n",
       "    <tr>\n",
       "      <th>878714</th>\n",
       "      <td>54272411</td>\n",
       "      <td>8906835</td>\n",
       "      <td>Problem on adding Bootstrap carousel component</td>\n",
       "      <td>[bootstrap-4, bootstrap-carousel]</td>\n",
       "      <td>0</td>\n",
       "      <td>2019-01-19 23:57:26</td>\n",
       "      <td>1</td>\n",
       "    </tr>\n",
       "    <tr>\n",
       "      <th>878715</th>\n",
       "      <td>54272412</td>\n",
       "      <td>10893334</td>\n",
       "      <td>NativeScript Vue nativescript-sqlite cannot as...</td>\n",
       "      <td>[sqlite, nativescript, nativescript-vue]</td>\n",
       "      <td>0</td>\n",
       "      <td>2019-01-19 23:57:36</td>\n",
       "      <td>1</td>\n",
       "    </tr>\n",
       "    <tr>\n",
       "      <th>878716</th>\n",
       "      <td>54272414</td>\n",
       "      <td>10564619</td>\n",
       "      <td>How to fix 'TypeError' that comes up for some ...</td>\n",
       "      <td>[python, typeerror]</td>\n",
       "      <td>1</td>\n",
       "      <td>2019-01-19 23:57:54</td>\n",
       "      <td>1</td>\n",
       "    </tr>\n",
       "    <tr>\n",
       "      <th>878717</th>\n",
       "      <td>54272418</td>\n",
       "      <td>10934024</td>\n",
       "      <td>Getting only a repeating files from directory ...</td>\n",
       "      <td>[powershell, csv, unique, get-childitem]</td>\n",
       "      <td>1</td>\n",
       "      <td>2019-01-19 23:59:27</td>\n",
       "      <td>1</td>\n",
       "    </tr>\n",
       "  </tbody>\n",
       "</table>\n",
       "<p>878718 rows × 7 columns</p>\n",
       "</div>"
      ],
      "text/plain": [
       "        QuestionId  QuestionOwnerId  \\\n",
       "0         54936100          3419772   \n",
       "1         54936106          3997132   \n",
       "2         54936108          4992551   \n",
       "3         54936109          2239552   \n",
       "4         54936112          5505171   \n",
       "...            ...              ...   \n",
       "878713    54272409         10245420   \n",
       "878714    54272411          8906835   \n",
       "878715    54272412         10893334   \n",
       "878716    54272414         10564619   \n",
       "878717    54272418         10934024   \n",
       "\n",
       "                                            QuestionTitle  \\\n",
       "0           R 3.5.2: Error in loading stock data from zoo   \n",
       "1             Different behaviour of range with lodash/fp   \n",
       "2       webPack dev server proxy rewrite URLs in response   \n",
       "3                               EF Core 2.0 Global Filter   \n",
       "4       Clustered column chart in C# using Chart in Wi...   \n",
       "...                                                   ...   \n",
       "878713                Selenium iframe Data issue - python   \n",
       "878714     Problem on adding Bootstrap carousel component   \n",
       "878715  NativeScript Vue nativescript-sqlite cannot as...   \n",
       "878716  How to fix 'TypeError' that comes up for some ...   \n",
       "878717  Getting only a repeating files from directory ...   \n",
       "\n",
       "                                          QuestionTags  QuestionVotes  \\\n",
       "0                                                  [r]              0   \n",
       "1                     [functional-programming, lodash]              1   \n",
       "2                        [webpack, webpack-dev-server]              2   \n",
       "3                                                 [c#]              0   \n",
       "4                 [c#, winforms, charts, column-chart]              0   \n",
       "...                                                ...            ...   \n",
       "878713  [python, selenium, selenium-webdriver, iframe]              1   \n",
       "878714               [bootstrap-4, bootstrap-carousel]              0   \n",
       "878715        [sqlite, nativescript, nativescript-vue]              0   \n",
       "878716                             [python, typeerror]              1   \n",
       "878717        [powershell, csv, unique, get-childitem]              1   \n",
       "\n",
       "       QuestionCreationDate  AnswerCount  \n",
       "0       2019-03-01 00:00:10            1  \n",
       "1       2019-03-01 00:01:48            1  \n",
       "2       2019-03-01 00:01:55            1  \n",
       "3       2019-03-01 00:02:36            0  \n",
       "4       2019-03-01 00:02:47            0  \n",
       "...                     ...          ...  \n",
       "878713  2019-01-19 23:57:14            1  \n",
       "878714  2019-01-19 23:57:26            1  \n",
       "878715  2019-01-19 23:57:36            1  \n",
       "878716  2019-01-19 23:57:54            1  \n",
       "878717  2019-01-19 23:59:27            1  \n",
       "\n",
       "[878718 rows x 7 columns]"
      ]
     },
     "execution_count": 137,
     "metadata": {},
     "output_type": "execute_result"
    },
    {
     "ename": "",
     "evalue": "",
     "output_type": "error",
     "traceback": [
      "\u001b[1;31mnotebook controller is DISPOSED. \n",
      "\u001b[1;31mView Jupyter <a href='command:jupyter.viewOutput'>log</a> for further details."
     ]
    },
    {
     "ename": "",
     "evalue": "",
     "output_type": "error",
     "traceback": [
      "\u001b[1;31mnotebook controller is DISPOSED. \n",
      "\u001b[1;31mView Jupyter <a href='command:jupyter.viewOutput'>log</a> for further details."
     ]
    },
    {
     "ename": "",
     "evalue": "",
     "output_type": "error",
     "traceback": [
      "\u001b[1;31mnotebook controller is DISPOSED. \n",
      "\u001b[1;31mView Jupyter <a href='command:jupyter.viewOutput'>log</a> for further details."
     ]
    },
    {
     "ename": "",
     "evalue": "",
     "output_type": "error",
     "traceback": [
      "\u001b[1;31mnotebook controller is DISPOSED. \n",
      "\u001b[1;31mView Jupyter <a href='command:jupyter.viewOutput'>log</a> for further details."
     ]
    },
    {
     "ename": "",
     "evalue": "",
     "output_type": "error",
     "traceback": [
      "\u001b[1;31mnotebook controller is DISPOSED. \n",
      "\u001b[1;31mView Jupyter <a href='command:jupyter.viewOutput'>log</a> for further details."
     ]
    }
   ],
   "source": [
    "df_question"
   ]
  },
  {
   "cell_type": "markdown",
   "metadata": {},
   "source": [
    "### Filtering Dataset to include only top 5 tags"
   ]
  },
  {
   "cell_type": "code",
   "execution_count": null,
   "metadata": {},
   "outputs": [],
   "source": [
    "# tags_to_filter = {'java', 'python', 'javascript', 'c#', 'android'}  # Faster lookup structure\n",
    "\n",
    "\n",
    "# # Filter rows where any tag matches one of the target tags\n",
    "# df_question = df_question[df_question['QuestionTags'].apply(lambda tags: any(tag in tags_to_filter for tag in tags))]\n"
   ]
  },
  {
   "cell_type": "markdown",
   "metadata": {},
   "source": [
    "## Prototype 1 - Approach Collaborative Filtering\n",
    "\n",
    "\n",
    "- **Goal:** Find answerers to new posted question.\n",
    "  \n",
    "- **Approach:** Collaborative Filtering (Item Based) --> Utilize question tags of previous answered questions, to indicate the most appropriate user.\n",
    "\n",
    "- **Steps:**\n",
    "\n",
    "1. Create Matrix of User-Tags\n",
    "2. Calculate cosine similarity between tags\n",
    "3. Calculate the the score of the user given the number of times they answerered certain question and the similarity of that tag with the the tags of the new question."
   ]
  },
  {
   "cell_type": "markdown",
   "metadata": {},
   "source": [
    "### Dividing the question dataset into Train and Test"
   ]
  },
  {
   "cell_type": "code",
   "execution_count": 7,
   "metadata": {},
   "outputs": [
    {
     "data": {
      "text/html": [
       "<div>\n",
       "<style scoped>\n",
       "    .dataframe tbody tr th:only-of-type {\n",
       "        vertical-align: middle;\n",
       "    }\n",
       "\n",
       "    .dataframe tbody tr th {\n",
       "        vertical-align: top;\n",
       "    }\n",
       "\n",
       "    .dataframe thead th {\n",
       "        text-align: right;\n",
       "    }\n",
       "</style>\n",
       "<table border=\"1\" class=\"dataframe\">\n",
       "  <thead>\n",
       "    <tr style=\"text-align: right;\">\n",
       "      <th></th>\n",
       "      <th>QuestionId</th>\n",
       "      <th>QuestionOwnerId</th>\n",
       "      <th>QuestionTitle</th>\n",
       "      <th>QuestionTags</th>\n",
       "      <th>QuestionVotes</th>\n",
       "      <th>QuestionCreationDate</th>\n",
       "      <th>AnswerCount</th>\n",
       "    </tr>\n",
       "  </thead>\n",
       "  <tbody>\n",
       "    <tr>\n",
       "      <th>767371</th>\n",
       "      <td>53992215</td>\n",
       "      <td>1758023</td>\n",
       "      <td>Using a ScheduledExecutorService to run a task...</td>\n",
       "      <td>[java, executorservice, java-threads]</td>\n",
       "      <td>0</td>\n",
       "      <td>2019-01-01 00:00:04</td>\n",
       "      <td>1</td>\n",
       "    </tr>\n",
       "    <tr>\n",
       "      <th>767372</th>\n",
       "      <td>53992219</td>\n",
       "      <td>4298538</td>\n",
       "      <td>How to programmatically change style sheet of ...</td>\n",
       "      <td>[c++, qt, qt5, qtstylesheets, qpushbutton]</td>\n",
       "      <td>1</td>\n",
       "      <td>2019-01-01 00:01:55</td>\n",
       "      <td>2</td>\n",
       "    </tr>\n",
       "    <tr>\n",
       "      <th>767373</th>\n",
       "      <td>53992220</td>\n",
       "      <td>6266364</td>\n",
       "      <td>Trying to put website into Maintenance Mode (3...</td>\n",
       "      <td>[]</td>\n",
       "      <td>2</td>\n",
       "      <td>2019-01-01 00:02:08</td>\n",
       "      <td>2</td>\n",
       "    </tr>\n",
       "    <tr>\n",
       "      <th>767374</th>\n",
       "      <td>53992221</td>\n",
       "      <td>9706003</td>\n",
       "      <td>Node.js Lambda Async return Undefined</td>\n",
       "      <td>[node.js, lambda]</td>\n",
       "      <td>2</td>\n",
       "      <td>2019-01-01 00:02:27</td>\n",
       "      <td>3</td>\n",
       "    </tr>\n",
       "    <tr>\n",
       "      <th>767375</th>\n",
       "      <td>53992223</td>\n",
       "      <td>7035033</td>\n",
       "      <td>Unable to print a class list attribute using i...</td>\n",
       "      <td>[python, python-3.x, list, class, printing]</td>\n",
       "      <td>0</td>\n",
       "      <td>2019-01-01 00:02:37</td>\n",
       "      <td>2</td>\n",
       "    </tr>\n",
       "    <tr>\n",
       "      <th>...</th>\n",
       "      <td>...</td>\n",
       "      <td>...</td>\n",
       "      <td>...</td>\n",
       "      <td>...</td>\n",
       "      <td>...</td>\n",
       "      <td>...</td>\n",
       "      <td>...</td>\n",
       "    </tr>\n",
       "    <tr>\n",
       "      <th>156669</th>\n",
       "      <td>56828823</td>\n",
       "      <td>8684836</td>\n",
       "      <td>Embedding localized satellite dll into exe app...</td>\n",
       "      <td>[c++, winforms, c++-cli, clr]</td>\n",
       "      <td>0</td>\n",
       "      <td>2019-06-30 23:55:26</td>\n",
       "      <td>2</td>\n",
       "    </tr>\n",
       "    <tr>\n",
       "      <th>156670</th>\n",
       "      <td>56828825</td>\n",
       "      <td>11721401</td>\n",
       "      <td>PS/2 keyboard won't send keypress interrupts, ...</td>\n",
       "      <td>[c, assembly, x86, interrupt, osdev]</td>\n",
       "      <td>9</td>\n",
       "      <td>2019-06-30 23:55:45</td>\n",
       "      <td>1</td>\n",
       "    </tr>\n",
       "    <tr>\n",
       "      <th>156671</th>\n",
       "      <td>56828831</td>\n",
       "      <td>11721524</td>\n",
       "      <td>How to convert a string to an integer in Power...</td>\n",
       "      <td>[string, powershell, integer, int]</td>\n",
       "      <td>0</td>\n",
       "      <td>2019-06-30 23:58:22</td>\n",
       "      <td>3</td>\n",
       "    </tr>\n",
       "    <tr>\n",
       "      <th>156672</th>\n",
       "      <td>56828833</td>\n",
       "      <td>1889720</td>\n",
       "      <td>How do I return the results from a query in Fi...</td>\n",
       "      <td>[node.js, typescript, firebase, google-cloud-f...</td>\n",
       "      <td>1</td>\n",
       "      <td>2019-06-30 23:58:37</td>\n",
       "      <td>2</td>\n",
       "    </tr>\n",
       "    <tr>\n",
       "      <th>156673</th>\n",
       "      <td>56828835</td>\n",
       "      <td>10671956</td>\n",
       "      <td>How to insert html code block directly to pug</td>\n",
       "      <td>[javascript, html, pug]</td>\n",
       "      <td>1</td>\n",
       "      <td>2019-06-30 23:58:46</td>\n",
       "      <td>1</td>\n",
       "    </tr>\n",
       "  </tbody>\n",
       "</table>\n",
       "<p>878718 rows × 7 columns</p>\n",
       "</div>"
      ],
      "text/plain": [
       "        QuestionId  QuestionOwnerId  \\\n",
       "767371    53992215          1758023   \n",
       "767372    53992219          4298538   \n",
       "767373    53992220          6266364   \n",
       "767374    53992221          9706003   \n",
       "767375    53992223          7035033   \n",
       "...            ...              ...   \n",
       "156669    56828823          8684836   \n",
       "156670    56828825         11721401   \n",
       "156671    56828831         11721524   \n",
       "156672    56828833          1889720   \n",
       "156673    56828835         10671956   \n",
       "\n",
       "                                            QuestionTitle  \\\n",
       "767371  Using a ScheduledExecutorService to run a task...   \n",
       "767372  How to programmatically change style sheet of ...   \n",
       "767373  Trying to put website into Maintenance Mode (3...   \n",
       "767374              Node.js Lambda Async return Undefined   \n",
       "767375  Unable to print a class list attribute using i...   \n",
       "...                                                   ...   \n",
       "156669  Embedding localized satellite dll into exe app...   \n",
       "156670  PS/2 keyboard won't send keypress interrupts, ...   \n",
       "156671  How to convert a string to an integer in Power...   \n",
       "156672  How do I return the results from a query in Fi...   \n",
       "156673      How to insert html code block directly to pug   \n",
       "\n",
       "                                             QuestionTags  QuestionVotes  \\\n",
       "767371              [java, executorservice, java-threads]              0   \n",
       "767372         [c++, qt, qt5, qtstylesheets, qpushbutton]              1   \n",
       "767373                                                 []              2   \n",
       "767374                                  [node.js, lambda]              2   \n",
       "767375        [python, python-3.x, list, class, printing]              0   \n",
       "...                                                   ...            ...   \n",
       "156669                      [c++, winforms, c++-cli, clr]              0   \n",
       "156670               [c, assembly, x86, interrupt, osdev]              9   \n",
       "156671                 [string, powershell, integer, int]              0   \n",
       "156672  [node.js, typescript, firebase, google-cloud-f...              1   \n",
       "156673                            [javascript, html, pug]              1   \n",
       "\n",
       "       QuestionCreationDate  AnswerCount  \n",
       "767371  2019-01-01 00:00:04            1  \n",
       "767372  2019-01-01 00:01:55            2  \n",
       "767373  2019-01-01 00:02:08            2  \n",
       "767374  2019-01-01 00:02:27            3  \n",
       "767375  2019-01-01 00:02:37            2  \n",
       "...                     ...          ...  \n",
       "156669  2019-06-30 23:55:26            2  \n",
       "156670  2019-06-30 23:55:45            1  \n",
       "156671  2019-06-30 23:58:22            3  \n",
       "156672  2019-06-30 23:58:37            2  \n",
       "156673  2019-06-30 23:58:46            1  \n",
       "\n",
       "[878718 rows x 7 columns]"
      ]
     },
     "execution_count": 7,
     "metadata": {},
     "output_type": "execute_result"
    }
   ],
   "source": [
    "df_question"
   ]
  },
  {
   "cell_type": "code",
   "execution_count": 6,
   "metadata": {},
   "outputs": [],
   "source": [
    "# Ordering dataframe before split\n",
    "# Convert 'QuestionCreationDate' to datetime format using .loc\n",
    "df_question.loc[:, 'QuestionCreationDate'] = pd.to_datetime(df_question['QuestionCreationDate'])\n",
    "\n",
    "# Sort the DataFrame by 'QuestionCreationDate' without using inplace\n",
    "df_question = df_question.sort_values(by='QuestionCreationDate')"
   ]
  },
  {
   "cell_type": "code",
   "execution_count": 8,
   "metadata": {},
   "outputs": [],
   "source": [
    "# Determine the split index\n",
    "split_index = int(len(df_question) * 0.9) #10% for test \n",
    "\n",
    "# Split the DataFrame into training and testing sets\n",
    "train_data = df_question.iloc[:split_index]\n",
    "test_data = df_question.iloc[split_index:]"
   ]
  },
  {
   "cell_type": "code",
   "execution_count": 9,
   "metadata": {},
   "outputs": [
    {
     "data": {
      "text/html": [
       "<div>\n",
       "<style scoped>\n",
       "    .dataframe tbody tr th:only-of-type {\n",
       "        vertical-align: middle;\n",
       "    }\n",
       "\n",
       "    .dataframe tbody tr th {\n",
       "        vertical-align: top;\n",
       "    }\n",
       "\n",
       "    .dataframe thead th {\n",
       "        text-align: right;\n",
       "    }\n",
       "</style>\n",
       "<table border=\"1\" class=\"dataframe\">\n",
       "  <thead>\n",
       "    <tr style=\"text-align: right;\">\n",
       "      <th></th>\n",
       "      <th>QuestionId</th>\n",
       "      <th>QuestionOwnerId</th>\n",
       "      <th>QuestionTitle</th>\n",
       "      <th>QuestionTags</th>\n",
       "      <th>QuestionVotes</th>\n",
       "      <th>QuestionCreationDate</th>\n",
       "      <th>AnswerCount</th>\n",
       "    </tr>\n",
       "  </thead>\n",
       "  <tbody>\n",
       "    <tr>\n",
       "      <th>568215</th>\n",
       "      <td>56546965</td>\n",
       "      <td>11631967</td>\n",
       "      <td>Percentage for each subgroup</td>\n",
       "      <td>[powerbi]</td>\n",
       "      <td>2</td>\n",
       "      <td>2019-06-11 15:22:52</td>\n",
       "      <td>1</td>\n",
       "    </tr>\n",
       "    <tr>\n",
       "      <th>568216</th>\n",
       "      <td>56546966</td>\n",
       "      <td>10744078</td>\n",
       "      <td>Managing floating point precision - Best pract...</td>\n",
       "      <td>[python, pandas]</td>\n",
       "      <td>0</td>\n",
       "      <td>2019-06-11 15:23:01</td>\n",
       "      <td>0</td>\n",
       "    </tr>\n",
       "    <tr>\n",
       "      <th>568217</th>\n",
       "      <td>56546968</td>\n",
       "      <td>4855106</td>\n",
       "      <td>Is the json import failing because of the JSON...</td>\n",
       "      <td>[json, python-3.x, visual-studio-code]</td>\n",
       "      <td>0</td>\n",
       "      <td>2019-06-11 15:23:12</td>\n",
       "      <td>0</td>\n",
       "    </tr>\n",
       "    <tr>\n",
       "      <th>568218</th>\n",
       "      <td>56546969</td>\n",
       "      <td>9877445</td>\n",
       "      <td>ggplot add text to the center of a donut chart...</td>\n",
       "      <td>[r, ggplot2, text, data-visualization, donut-c...</td>\n",
       "      <td>2</td>\n",
       "      <td>2019-06-11 15:23:14</td>\n",
       "      <td>1</td>\n",
       "    </tr>\n",
       "    <tr>\n",
       "      <th>568219</th>\n",
       "      <td>56546970</td>\n",
       "      <td>11379139</td>\n",
       "      <td>In Angular application, I keep getting this er...</td>\n",
       "      <td>[node.js, angular]</td>\n",
       "      <td>2</td>\n",
       "      <td>2019-06-11 15:23:16</td>\n",
       "      <td>1</td>\n",
       "    </tr>\n",
       "    <tr>\n",
       "      <th>...</th>\n",
       "      <td>...</td>\n",
       "      <td>...</td>\n",
       "      <td>...</td>\n",
       "      <td>...</td>\n",
       "      <td>...</td>\n",
       "      <td>...</td>\n",
       "      <td>...</td>\n",
       "    </tr>\n",
       "    <tr>\n",
       "      <th>156669</th>\n",
       "      <td>56828823</td>\n",
       "      <td>8684836</td>\n",
       "      <td>Embedding localized satellite dll into exe app...</td>\n",
       "      <td>[c++, winforms, c++-cli, clr]</td>\n",
       "      <td>0</td>\n",
       "      <td>2019-06-30 23:55:26</td>\n",
       "      <td>2</td>\n",
       "    </tr>\n",
       "    <tr>\n",
       "      <th>156670</th>\n",
       "      <td>56828825</td>\n",
       "      <td>11721401</td>\n",
       "      <td>PS/2 keyboard won't send keypress interrupts, ...</td>\n",
       "      <td>[c, assembly, x86, interrupt, osdev]</td>\n",
       "      <td>9</td>\n",
       "      <td>2019-06-30 23:55:45</td>\n",
       "      <td>1</td>\n",
       "    </tr>\n",
       "    <tr>\n",
       "      <th>156671</th>\n",
       "      <td>56828831</td>\n",
       "      <td>11721524</td>\n",
       "      <td>How to convert a string to an integer in Power...</td>\n",
       "      <td>[string, powershell, integer, int]</td>\n",
       "      <td>0</td>\n",
       "      <td>2019-06-30 23:58:22</td>\n",
       "      <td>3</td>\n",
       "    </tr>\n",
       "    <tr>\n",
       "      <th>156672</th>\n",
       "      <td>56828833</td>\n",
       "      <td>1889720</td>\n",
       "      <td>How do I return the results from a query in Fi...</td>\n",
       "      <td>[node.js, typescript, firebase, google-cloud-f...</td>\n",
       "      <td>1</td>\n",
       "      <td>2019-06-30 23:58:37</td>\n",
       "      <td>2</td>\n",
       "    </tr>\n",
       "    <tr>\n",
       "      <th>156673</th>\n",
       "      <td>56828835</td>\n",
       "      <td>10671956</td>\n",
       "      <td>How to insert html code block directly to pug</td>\n",
       "      <td>[javascript, html, pug]</td>\n",
       "      <td>1</td>\n",
       "      <td>2019-06-30 23:58:46</td>\n",
       "      <td>1</td>\n",
       "    </tr>\n",
       "  </tbody>\n",
       "</table>\n",
       "<p>87872 rows × 7 columns</p>\n",
       "</div>"
      ],
      "text/plain": [
       "        QuestionId  QuestionOwnerId  \\\n",
       "568215    56546965         11631967   \n",
       "568216    56546966         10744078   \n",
       "568217    56546968          4855106   \n",
       "568218    56546969          9877445   \n",
       "568219    56546970         11379139   \n",
       "...            ...              ...   \n",
       "156669    56828823          8684836   \n",
       "156670    56828825         11721401   \n",
       "156671    56828831         11721524   \n",
       "156672    56828833          1889720   \n",
       "156673    56828835         10671956   \n",
       "\n",
       "                                            QuestionTitle  \\\n",
       "568215                       Percentage for each subgroup   \n",
       "568216  Managing floating point precision - Best pract...   \n",
       "568217  Is the json import failing because of the JSON...   \n",
       "568218  ggplot add text to the center of a donut chart...   \n",
       "568219  In Angular application, I keep getting this er...   \n",
       "...                                                   ...   \n",
       "156669  Embedding localized satellite dll into exe app...   \n",
       "156670  PS/2 keyboard won't send keypress interrupts, ...   \n",
       "156671  How to convert a string to an integer in Power...   \n",
       "156672  How do I return the results from a query in Fi...   \n",
       "156673      How to insert html code block directly to pug   \n",
       "\n",
       "                                             QuestionTags  QuestionVotes  \\\n",
       "568215                                          [powerbi]              2   \n",
       "568216                                   [python, pandas]              0   \n",
       "568217             [json, python-3.x, visual-studio-code]              0   \n",
       "568218  [r, ggplot2, text, data-visualization, donut-c...              2   \n",
       "568219                                 [node.js, angular]              2   \n",
       "...                                                   ...            ...   \n",
       "156669                      [c++, winforms, c++-cli, clr]              0   \n",
       "156670               [c, assembly, x86, interrupt, osdev]              9   \n",
       "156671                 [string, powershell, integer, int]              0   \n",
       "156672  [node.js, typescript, firebase, google-cloud-f...              1   \n",
       "156673                            [javascript, html, pug]              1   \n",
       "\n",
       "       QuestionCreationDate  AnswerCount  \n",
       "568215  2019-06-11 15:22:52            1  \n",
       "568216  2019-06-11 15:23:01            0  \n",
       "568217  2019-06-11 15:23:12            0  \n",
       "568218  2019-06-11 15:23:14            1  \n",
       "568219  2019-06-11 15:23:16            1  \n",
       "...                     ...          ...  \n",
       "156669  2019-06-30 23:55:26            2  \n",
       "156670  2019-06-30 23:55:45            1  \n",
       "156671  2019-06-30 23:58:22            3  \n",
       "156672  2019-06-30 23:58:37            2  \n",
       "156673  2019-06-30 23:58:46            1  \n",
       "\n",
       "[87872 rows x 7 columns]"
      ]
     },
     "execution_count": 9,
     "metadata": {},
     "output_type": "execute_result"
    }
   ],
   "source": [
    "test_data"
   ]
  },
  {
   "cell_type": "markdown",
   "metadata": {},
   "source": [
    "Merging QuestionTags to UserAnswerId"
   ]
  },
  {
   "cell_type": "code",
   "execution_count": 10,
   "metadata": {},
   "outputs": [],
   "source": [
    "df_merged = train_data[[\"QuestionId\",\"QuestionTags\"]].merge(df_answer[[\"QuestionId\", \"AnswerOwnerId\"]], how='inner', on = \"QuestionId\", )"
   ]
  },
  {
   "cell_type": "code",
   "execution_count": 18,
   "metadata": {},
   "outputs": [
    {
     "data": {
      "text/plain": [
       "650900"
      ]
     },
     "execution_count": 18,
     "metadata": {},
     "output_type": "execute_result"
    }
   ],
   "source": [
    "df_merged[\"QuestionId\"].nunique()"
   ]
  },
  {
   "cell_type": "markdown",
   "metadata": {},
   "source": [
    "Getting all tags of a user -> for checking purposes"
   ]
  },
  {
   "cell_type": "code",
   "execution_count": 144,
   "metadata": {},
   "outputs": [],
   "source": [
    "# df_grouped_tags = (\n",
    "#     df_merged.groupby(\"AnswerOwnerId\")[\"QuestionTags\"]\n",
    "#     .apply(lambda tags: list(set(tag for sublist in tags for tag in sublist)))  # Flatten and deduplicate tags\n",
    "#     .reset_index()\n",
    "# )\n",
    "\n",
    "# df_grouped_tags.columns = [\"AnswerOwnerId\", \"CombinedTags\"]"
   ]
  },
  {
   "cell_type": "markdown",
   "metadata": {},
   "source": [
    "### Indexing tags and users"
   ]
  },
  {
   "cell_type": "code",
   "execution_count": 145,
   "metadata": {},
   "outputs": [],
   "source": [
    "dic_merged = df_merged.to_dict(orient=\"records\")"
   ]
  },
  {
   "cell_type": "code",
   "execution_count": 146,
   "metadata": {},
   "outputs": [],
   "source": [
    "unique_tags = list({tag for question in dic_merged for tag in question['QuestionTags']})\n",
    "unique_users = list({question['AnswerOwnerId'] for question in dic_merged})\n",
    "\n",
    "tag_to_index = {tag: idx for idx, tag in enumerate(unique_tags)}\n",
    "user_to_index = {user: idx for idx, user in enumerate(unique_users)}"
   ]
  },
  {
   "cell_type": "markdown",
   "metadata": {},
   "source": [
    "### Creating User-Tag Matrix"
   ]
  },
  {
   "cell_type": "code",
   "execution_count": 147,
   "metadata": {},
   "outputs": [],
   "source": [
    "# Step 2: Create a Sparse User-Tag Matrix\n",
    "rows, cols, data = [], [], []\n",
    "for question in dic_merged:\n",
    "    user_idx = user_to_index[question['AnswerOwnerId']]\n",
    "    for tag in question['QuestionTags']:\n",
    "        tag_idx = tag_to_index[tag]\n",
    "        rows.append(user_idx)\n",
    "        cols.append(tag_idx)\n",
    "        data.append(1)\n",
    "\n",
    "# Create a sparse matrix \n",
    "user_tag_matrix_sparse = csr_matrix((data, (rows, cols)), shape=(len(unique_users), len(unique_tags)))\n"
   ]
  },
  {
   "cell_type": "markdown",
   "metadata": {},
   "source": [
    "### Calculating Tags Similarity Matrix"
   ]
  },
  {
   "cell_type": "code",
   "execution_count": 148,
   "metadata": {},
   "outputs": [],
   "source": [
    "# Compute Tag Similarity\n",
    "cos_sim_matrix = cosine_similarity(user_tag_matrix_sparse.T)"
   ]
  },
  {
   "cell_type": "markdown",
   "metadata": {},
   "source": [
    "### Recommending User"
   ]
  },
  {
   "cell_type": "code",
   "execution_count": 149,
   "metadata": {},
   "outputs": [],
   "source": [
    "## Example to 1 question\n",
    "# tags = test_data[\"QuestionTags\"].iloc[0]\n",
    "# tags\n",
    "\n",
    "tags = [\"r\", \"radar-chart\", \"spider-chart\"]"
   ]
  },
  {
   "cell_type": "code",
   "execution_count": 150,
   "metadata": {},
   "outputs": [],
   "source": [
    "# Divide by the user activity (Normalization to avoid bias)\n",
    "user_activity = user_tag_matrix_sparse.sum(axis=1).A1  # Total user interactions\n"
   ]
  },
  {
   "cell_type": "code",
   "execution_count": 151,
   "metadata": {},
   "outputs": [
    {
     "data": {
      "text/plain": [
       "array([  3,   8,   2, ..., 859,  25,   3])"
      ]
     },
     "execution_count": 151,
     "metadata": {},
     "output_type": "execute_result"
    }
   ],
   "source": [
    "user_activity"
   ]
  },
  {
   "cell_type": "code",
   "execution_count": 152,
   "metadata": {},
   "outputs": [],
   "source": [
    "user_average_activity = np.array(user_tag_matrix_sparse.mean(axis=1)).flatten()"
   ]
  },
  {
   "cell_type": "code",
   "execution_count": 153,
   "metadata": {},
   "outputs": [],
   "source": [
    "def recommend_users_collaborative(tags):\n",
    "    # Get indices of the tags\n",
    "    tag_indices = [tag_to_index[tag] for tag in tags if tag in tag_to_index]\n",
    "    if len(tag_indices)==0:\n",
    "        return [] ## No tag found to make the suggestion\n",
    "    \n",
    "    # Combine similarities for the requested tags\n",
    "    similarity_tags = cos_sim_matrix[:, tag_indices] #selected tags\n",
    "    # combined_similarity = np.sum(similarity_tags, axis=1)\n",
    "    # combined_similarity = np.mean(similarity_tags, axis=1)\n",
    "    combined_similarity = np.prod(similarity_tags, axis=1) # Best values\n",
    "\n",
    "    # Compute weighted user scores using item-based collaborative filtering\n",
    "    numerator = user_tag_matrix_sparse.dot(combined_similarity)  # Weighted sum of ratings\n",
    "    denominator = np.sum(combined_similarity)  # Correct sum of similarity scores\n",
    "\n",
    "    # Avoid division by zero\n",
    "    user_scores_vector = np.where(denominator != 0, numerator / denominator, 0)  \n",
    "\n",
    "    # Adjust scores using user average ratings\n",
    "    user_scores_vector += user_average_activity  # Incorporating user mean rating\n",
    "\n",
    "\n",
    "    # Map scores to users\n",
    "    user_scores = {unique_users[idx]: score for idx, score in enumerate(user_scores_vector)}\n",
    "\n",
    "    # Rank users by scores\n",
    "    ranked_users = sorted(user_scores.items(), key=lambda x: x[1], reverse=True)\n",
    "    return ranked_users"
   ]
  },
  {
   "cell_type": "code",
   "execution_count": 154,
   "metadata": {},
   "outputs": [],
   "source": [
    "return_1 = recommend_users_collaborative(tags)"
   ]
  },
  {
   "cell_type": "markdown",
   "metadata": {},
   "source": [
    "## Prototype 2 - Approach Content Based-Filtering\n",
    "\n",
    "\n",
    "- **Goal:** Find answerers to new posted question.\n",
    "  \n",
    "- **Approach:** Content Based-Filtering --> Utilize question tags of previous answered questions, to indicate the most appropriate user.\n",
    "\n",
    "- **Steps:**\n",
    "\n",
    "1. Create Matrix of User-Tags\n",
    "2. Create vector of to the new tag based on the Matrix of User-tags \n",
    "3. Calculate cosine similarity for each user with vector created in step 2\n",
    "4. Order list to show the most recommended users"
   ]
  },
  {
   "cell_type": "code",
   "execution_count": 155,
   "metadata": {},
   "outputs": [],
   "source": [
    "# We are going start using some User-Tag matrix of the previous approach\n",
    "\n",
    "def recommend_users_content(tags):\n",
    "    # Get index of the tags\n",
    "    tag_indices = [tag_to_index[tag] for tag in tags if tag in tag_to_index]\n",
    "    if len(tag_indices)==0:\n",
    "        return [] ## No tag found to make the suggestion\n",
    "            \n",
    "    # Create vector of the tags in question\n",
    "    question_vector = np.zeros(user_tag_matrix_sparse.shape[1])\n",
    "    question_vector[tag_indices] = 1\n",
    "    question_vector= question_vector.reshape(1, -1) #Reshaping array to calculate similarity\n",
    "\n",
    "    user_scores_vector = cosine_similarity(user_tag_matrix_sparse, question_vector)\n",
    "    user_scores_vector = user_scores_vector.flatten()\n",
    "\n",
    "    # Map scores to users\n",
    "    user_scores = {unique_users[idx]: score for idx, score in enumerate(user_scores_vector)}\n",
    "\n",
    "    # Rank users by scores\n",
    "    ranked_users = sorted(user_scores.items(), key=lambda x: x[1], reverse=True)\n",
    "    # return ranked_users[:10]\n",
    "    return ranked_users\n"
   ]
  },
  {
   "cell_type": "code",
   "execution_count": 156,
   "metadata": {},
   "outputs": [],
   "source": [
    "return_2 = recommend_users_content(tags)"
   ]
  },
  {
   "cell_type": "markdown",
   "metadata": {},
   "source": [
    "## Evaluation"
   ]
  },
  {
   "cell_type": "markdown",
   "metadata": {},
   "source": [
    "Top-N Accuracy"
   ]
  },
  {
   "cell_type": "code",
   "execution_count": 19,
   "metadata": {},
   "outputs": [],
   "source": [
    "df_merged_test = test_data[[\"QuestionId\",\"QuestionTags\"]].merge(df_answer[[\"QuestionId\", \"AnswerOwnerId\"]], how='inner', on = \"QuestionId\", )"
   ]
  },
  {
   "cell_type": "markdown",
   "metadata": {},
   "source": [
    "Joining the Users to form a single ground truth"
   ]
  },
  {
   "cell_type": "code",
   "execution_count": 20,
   "metadata": {},
   "outputs": [],
   "source": [
    "# Convert QuestionTags from lists to tuples\n",
    "df_merged_test[\"QuestionTags\"] = df_merged_test[\"QuestionTags\"].apply(tuple)\n",
    "\n",
    "# Group AnswerOwnerId by QuestionId and QuestionTags\n",
    "grouped_df = (\n",
    "    df_merged_test.groupby([\"QuestionId\", \"QuestionTags\"])[\"AnswerOwnerId\"]\n",
    "    .apply(list)  # Combine AnswerOwnerId values into a list\n",
    "    .reset_index()\n",
    "    .rename(columns={\"AnswerOwnerId\": \"GroundTruth\"})\n",
    ")"
   ]
  },
  {
   "cell_type": "code",
   "execution_count": 21,
   "metadata": {},
   "outputs": [
    {
     "data": {
      "text/plain": [
       "71983"
      ]
     },
     "execution_count": 21,
     "metadata": {},
     "output_type": "execute_result"
    }
   ],
   "source": [
    "df_merged_test[\"QuestionId\"].nunique()"
   ]
  },
  {
   "cell_type": "code",
   "execution_count": 159,
   "metadata": {},
   "outputs": [],
   "source": [
    "ground_truth_dic = grouped_df.to_dict(orient='records')"
   ]
  },
  {
   "cell_type": "markdown",
   "metadata": {},
   "source": [
    "Calculate the results for all questions"
   ]
  },
  {
   "cell_type": "code",
   "execution_count": 160,
   "metadata": {},
   "outputs": [],
   "source": [
    "# def top_n_accuracy(users_ground_truth_list, users_recommendation_list, top_n):\n",
    "#     tp = 0\n",
    "    \n",
    "#     for users_ground_truth, users_rec in zip(users_ground_truth_list, users_recommendation_list):    \n",
    "#         # Checking if it is in the answer\n",
    "#         users_recommendation = users_rec[:top_n]\n",
    "#         if set(users_recommendation) & set(users_ground_truth):\n",
    "#             tp += 1\n",
    "            \n",
    "#     print(tp)\n",
    "#     return tp/len(users_ground_truth_list)"
   ]
  },
  {
   "cell_type": "code",
   "execution_count": 161,
   "metadata": {},
   "outputs": [],
   "source": [
    "def evaluate_recommendations(users_ground_truth_list, users_recommendation_list, top_n):\n",
    "\n",
    "    total_recall = 0\n",
    "    successful_recommendations = 0\n",
    "    num_questions = len(users_ground_truth_list)\n",
    "\n",
    "    for users_ground_truth, users_rec in zip(users_ground_truth_list, users_recommendation_list):\n",
    "        # Get the top-N recommended users\n",
    "        users_recommendation = users_rec[:top_n]\n",
    "        # Convert to sets for intersection\n",
    "        recommended_set = set(users_recommendation)\n",
    "        ground_truth_set = set(users_ground_truth)\n",
    "        # Calculate the number of relevant users in the top-N recommendations\n",
    "        true_positives = len(recommended_set & ground_truth_set)\n",
    "        # Recall@N: Proportion of relevant users that are recommended in top-N\n",
    "        recall = true_positives / len(ground_truth_set) if ground_truth_set else 0\n",
    "        # Accumulate recall\n",
    "        total_recall += recall\n",
    "        # Accuracy@N: Check if there's at least one relevant user in the top-N recommendations\n",
    "        if true_positives > 0:\n",
    "            successful_recommendations += 1\n",
    "\n",
    "    # Calculate average recall over all questions\n",
    "    avg_recall = total_recall / num_questions if num_questions > 0 else 0\n",
    "    # Calculate accuracy over all questions\n",
    "    accuracy = successful_recommendations / num_questions if num_questions > 0 else 0\n",
    "\n",
    "    return avg_recall, accuracy"
   ]
  },
  {
   "cell_type": "code",
   "execution_count": 162,
   "metadata": {},
   "outputs": [],
   "source": [
    "users_ground_truth = [ground_truth_item[\"GroundTruth\"] for ground_truth_item in ground_truth_dic]\n",
    "tags_ground_truth = [tuple(sorted(ground_truth_item[\"QuestionTags\"])) for ground_truth_item in ground_truth_dic]"
   ]
  },
  {
   "cell_type": "markdown",
   "metadata": {},
   "source": [
    "Collaborative"
   ]
  },
  {
   "cell_type": "code",
   "execution_count": 163,
   "metadata": {},
   "outputs": [
    {
     "name": "stderr",
     "output_type": "stream",
     "text": [
      "Processing Recommendations:   1%|          | 443/71983 [03:01<6:40:41,  2.98it/s] /var/folders/s7/3gb_v_vn6ns01664c_jtg6hh0000gn/T/ipykernel_12458/2135894720.py:18: RuntimeWarning: invalid value encountered in divide\n",
      "  user_scores_vector = np.where(denominator != 0, numerator / denominator, 0)\n",
      "Processing Recommendations: 100%|██████████| 71983/71983 [7:04:33<00:00,  2.83it/s]   \n"
     ]
    }
   ],
   "source": [
    "top_n = [5, 10, 20, 50, 100]\n",
    "\n",
    "users_recommendation_list = []\n",
    "for tags_tuple in tqdm(tags_ground_truth, desc=\"Processing Recommendations\"):\n",
    "    recommendation = recommend_users_collaborative(tags_tuple)[:max(top_n)]\n",
    "    users_rec = [rec[0] for rec in recommendation]\n",
    "    users_recommendation_list.append(users_rec)"
   ]
  },
  {
   "cell_type": "code",
   "execution_count": 164,
   "metadata": {},
   "outputs": [
    {
     "name": "stdout",
     "output_type": "stream",
     "text": [
      "{'acc': 0.14276982065209842, 'recall': 0.11186542374776025, 'top': 5, 'type': 'collaborative'}\n",
      "{'acc': 0.18357112095911535, 'recall': 0.14531995052289914, 'top': 10, 'type': 'collaborative'}\n",
      "{'acc': 0.23026270091549395, 'recall': 0.1831991424912531, 'top': 20, 'type': 'collaborative'}\n",
      "{'acc': 0.3035994609838434, 'recall': 0.24429204196146714, 'top': 50, 'type': 'collaborative'}\n",
      "{'acc': 0.3599322062153564, 'recall': 0.2928825330744972, 'top': 100, 'type': 'collaborative'}\n"
     ]
    }
   ],
   "source": [
    "# Evaluate Recommendation\n",
    "results = []\n",
    "\n",
    "for top in top_n:\n",
    "    recall, acc = evaluate_recommendations(users_ground_truth, users_recommendation_list, top)\n",
    "    result = {\n",
    "        \"acc\": acc,\n",
    "        \"recall\": recall,\n",
    "        \"top\": top,\n",
    "        \"type\": \"collaborative\"\n",
    "    }\n",
    "    \n",
    "    print(result)\n",
    "    results.append(result)"
   ]
  },
  {
   "cell_type": "markdown",
   "metadata": {},
   "source": [
    "Content"
   ]
  },
  {
   "cell_type": "code",
   "execution_count": 31,
   "metadata": {},
   "outputs": [
    {
     "name": "stderr",
     "output_type": "stream",
     "text": [
      "Processing Recommendations: 100%|██████████| 71983/71983 [2:08:41<00:00,  9.32it/s]  \n"
     ]
    }
   ],
   "source": [
    "top_n = [5, 10, 20, 50, 100]\n",
    "\n",
    "users_recommendation_list_content = []\n",
    "for tags_tuple in tqdm(tags_ground_truth, desc=\"Processing Recommendations\"):\n",
    "    recommendation = recommend_users_content(tags_tuple)[:max(top_n)]\n",
    "    users_rec = [rec[0] for rec in recommendation]\n",
    "    users_recommendation_list_content.append(users_rec)"
   ]
  },
  {
   "cell_type": "code",
   "execution_count": 35,
   "metadata": {},
   "outputs": [
    {
     "name": "stdout",
     "output_type": "stream",
     "text": [
      "{'acc': 0.0323965380714891, 'recall': 0.027661734064634715, 'top': 5, 'type': 'content'}\n",
      "{'acc': 0.05451287109456399, 'recall': 0.04647207266089512, 'top': 10, 'type': 'content'}\n",
      "{'acc': 0.08392259283441923, 'recall': 0.07104401744768207, 'top': 20, 'type': 'content'}\n",
      "{'acc': 0.13562924579414584, 'recall': 0.11485829406675252, 'top': 50, 'type': 'content'}\n",
      "{'acc': 0.18982259700206994, 'recall': 0.15924446583636914, 'top': 100, 'type': 'content'}\n"
     ]
    }
   ],
   "source": [
    "# Evaluate Recommendation\n",
    "for top in top_n:\n",
    "    recall, acc = evaluate_recommendations(users_ground_truth, users_recommendation_list_content, top)\n",
    "    result = {\n",
    "        \"acc\": acc,\n",
    "        \"recall\": recall,\n",
    "        \"top\": top,\n",
    "        \"type\": \"content\"\n",
    "    }\n",
    "    \n",
    "    print(result)\n",
    "    results.append(result)"
   ]
  },
  {
   "cell_type": "markdown",
   "metadata": {},
   "source": [
    "Random Pick"
   ]
  },
  {
   "cell_type": "code",
   "execution_count": 64,
   "metadata": {},
   "outputs": [
    {
     "data": {
      "text/html": [
       "<div>\n",
       "<style scoped>\n",
       "    .dataframe tbody tr th:only-of-type {\n",
       "        vertical-align: middle;\n",
       "    }\n",
       "\n",
       "    .dataframe tbody tr th {\n",
       "        vertical-align: top;\n",
       "    }\n",
       "\n",
       "    .dataframe thead th {\n",
       "        text-align: right;\n",
       "    }\n",
       "</style>\n",
       "<table border=\"1\" class=\"dataframe\">\n",
       "  <thead>\n",
       "    <tr style=\"text-align: right;\">\n",
       "      <th></th>\n",
       "      <th>QuestionId</th>\n",
       "      <th>QuestionTags</th>\n",
       "      <th>AnswerOwnerId</th>\n",
       "    </tr>\n",
       "  </thead>\n",
       "  <tbody>\n",
       "    <tr>\n",
       "      <th>0</th>\n",
       "      <td>53992215</td>\n",
       "      <td>[java, executorservice, java-threads]</td>\n",
       "      <td>5004157</td>\n",
       "    </tr>\n",
       "    <tr>\n",
       "      <th>1</th>\n",
       "      <td>53992219</td>\n",
       "      <td>[c++, qt, qt5, qtstylesheets, qpushbutton]</td>\n",
       "      <td>10605013</td>\n",
       "    </tr>\n",
       "    <tr>\n",
       "      <th>2</th>\n",
       "      <td>53992219</td>\n",
       "      <td>[c++, qt, qt5, qtstylesheets, qpushbutton]</td>\n",
       "      <td>6622587</td>\n",
       "    </tr>\n",
       "    <tr>\n",
       "      <th>3</th>\n",
       "      <td>53992220</td>\n",
       "      <td>[]</td>\n",
       "      <td>369434</td>\n",
       "    </tr>\n",
       "    <tr>\n",
       "      <th>4</th>\n",
       "      <td>53992220</td>\n",
       "      <td>[]</td>\n",
       "      <td>6266364</td>\n",
       "    </tr>\n",
       "    <tr>\n",
       "      <th>...</th>\n",
       "      <td>...</td>\n",
       "      <td>...</td>\n",
       "      <td>...</td>\n",
       "    </tr>\n",
       "    <tr>\n",
       "      <th>996212</th>\n",
       "      <td>56546947</td>\n",
       "      <td>[authentication, microsoft-graph-api, access-t...</td>\n",
       "      <td>114029</td>\n",
       "    </tr>\n",
       "    <tr>\n",
       "      <th>996213</th>\n",
       "      <td>56546948</td>\n",
       "      <td>[r, shiny]</td>\n",
       "      <td>11427002</td>\n",
       "    </tr>\n",
       "    <tr>\n",
       "      <th>996214</th>\n",
       "      <td>56546958</td>\n",
       "      <td>[php, laravel, laravel-5, guzzle, laravel-5.8]</td>\n",
       "      <td>11824426</td>\n",
       "    </tr>\n",
       "    <tr>\n",
       "      <th>996215</th>\n",
       "      <td>56546958</td>\n",
       "      <td>[php, laravel, laravel-5, guzzle, laravel-5.8]</td>\n",
       "      <td>9687794</td>\n",
       "    </tr>\n",
       "    <tr>\n",
       "      <th>996216</th>\n",
       "      <td>56546963</td>\n",
       "      <td>[javascript, angularjs, data-binding]</td>\n",
       "      <td>5535245</td>\n",
       "    </tr>\n",
       "  </tbody>\n",
       "</table>\n",
       "<p>996217 rows × 3 columns</p>\n",
       "</div>"
      ],
      "text/plain": [
       "        QuestionId                                       QuestionTags  \\\n",
       "0         53992215              [java, executorservice, java-threads]   \n",
       "1         53992219         [c++, qt, qt5, qtstylesheets, qpushbutton]   \n",
       "2         53992219         [c++, qt, qt5, qtstylesheets, qpushbutton]   \n",
       "3         53992220                                                 []   \n",
       "4         53992220                                                 []   \n",
       "...            ...                                                ...   \n",
       "996212    56546947  [authentication, microsoft-graph-api, access-t...   \n",
       "996213    56546948                                         [r, shiny]   \n",
       "996214    56546958     [php, laravel, laravel-5, guzzle, laravel-5.8]   \n",
       "996215    56546958     [php, laravel, laravel-5, guzzle, laravel-5.8]   \n",
       "996216    56546963              [javascript, angularjs, data-binding]   \n",
       "\n",
       "        AnswerOwnerId  \n",
       "0             5004157  \n",
       "1            10605013  \n",
       "2             6622587  \n",
       "3              369434  \n",
       "4             6266364  \n",
       "...               ...  \n",
       "996212         114029  \n",
       "996213       11427002  \n",
       "996214       11824426  \n",
       "996215        9687794  \n",
       "996216        5535245  \n",
       "\n",
       "[996217 rows x 3 columns]"
      ]
     },
     "execution_count": 64,
     "metadata": {},
     "output_type": "execute_result"
    }
   ],
   "source": [
    "df_merged"
   ]
  },
  {
   "cell_type": "code",
   "execution_count": 68,
   "metadata": {},
   "outputs": [],
   "source": [
    "answer_distribution = df_merged.groupby(\"AnswerOwnerId\").size().reset_index(name=\"AnswerCount\")\n",
    "answer_distribution = answer_distribution.sort_values(by=\"AnswerCount\", ascending=False)\n",
    "top_user_100 = answer_distribution[\"AnswerOwnerId\"].to_list()\n"
   ]
  },
  {
   "cell_type": "code",
   "execution_count": null,
   "metadata": {},
   "outputs": [],
   "source": [
    "def recommend_users_collaborative(tags):\n",
    "    # Get indices of the tags\n",
    "    tag_indices = [tag_to_index[tag] for tag in tags if tag in tag_to_index]\n",
    "    if len(tag_indices)==0:\n",
    "        return [] ## No tag found to make the suggestion\n",
    "    \n",
    "    # Combine similarities for the requested tags\n",
    "    similarity_tags = cos_sim_matrix[:, tag_indices] #selected tags\n",
    "    # combined_similarity = np.sum(similarity_tags, axis=1)\n",
    "    # combined_similarity = np.mean(similarity_tags, axis=1)\n",
    "    combined_similarity = np.prod(similarity_tags, axis=1) # Best values\n",
    "\n",
    "    # Compute weighted user scores using item-based collaborative filtering\n",
    "    numerator = user_tag_matrix_sparse.dot(combined_similarity)  # Weighted sum of ratings\n",
    "    denominator = np.sum(combined_similarity)  # Correct sum of similarity scores\n",
    "\n",
    "    # Avoid division by zero\n",
    "    user_scores_vector = np.where(denominator != 0, numerator / denominator, 0)  \n",
    "\n",
    "    # Adjust scores using user average ratings\n",
    "    user_scores_vector += user_average_activity  # Incorporating user mean rating\n",
    "\n",
    "\n",
    "    # Map scores to users\n",
    "    user_scores = {unique_users[idx]: score for idx, score in enumerate(user_scores_vector)}\n",
    "\n",
    "    # Rank users by scores\n",
    "    ranked_users = sorted(user_scores.items(), key=lambda x: x[1], reverse=True)\n",
    "    return ranked_users"
   ]
  },
  {
   "cell_type": "code",
   "execution_count": null,
   "metadata": {},
   "outputs": [
    {
     "name": "stdout",
     "output_type": "stream",
     "text": [
      "{'acc': (0.014166666666666666, 0.02), 'top': 5, 'type': 'random'}\n",
      "{'acc': (0.019566666666666663, 0.028), 'top': 10, 'type': 'random'}\n",
      "{'acc': (0.021566666666666668, 0.03), 'top': 20, 'type': 'random'}\n",
      "{'acc': (0.041133333333333334, 0.054), 'top': 50, 'type': 'random'}\n",
      "{'acc': (0.06988333333333335, 0.09), 'top': 100, 'type': 'random'}\n"
     ]
    }
   ],
   "source": [
    "import random\n",
    "users = list(set(df_merged[\"AnswerOwnerId\"].to_list()))\n",
    "sample = [top_user_100 for i in range(len(users_ground_truth))]\n",
    "\n",
    "for top in top_n:\n",
    "    result = {\n",
    "        \"acc\": evaluate_recommendations(users_ground_truth, sample, top),\n",
    "        \"top\": top,\n",
    "        \"type\": \"top_users\"\n",
    "    }\n",
    "    print(result)\n",
    "    results.append(result)"
   ]
  },
  {
   "cell_type": "markdown",
   "metadata": {},
   "source": [
    "Saving Results"
   ]
  },
  {
   "cell_type": "code",
   "execution_count": 165,
   "metadata": {},
   "outputs": [],
   "source": [
    "pd.DataFrame(results).to_csv(\"setup1_1.csv\", index=False)"
   ]
  }
 ],
 "metadata": {
  "kernelspec": {
   "display_name": "data_science",
   "language": "python",
   "name": "python3"
  },
  "language_info": {
   "codemirror_mode": {
    "name": "ipython",
    "version": 3
   },
   "file_extension": ".py",
   "mimetype": "text/x-python",
   "name": "python",
   "nbconvert_exporter": "python",
   "pygments_lexer": "ipython3",
   "version": "3.9.18"
  }
 },
 "nbformat": 4,
 "nbformat_minor": 2
}
