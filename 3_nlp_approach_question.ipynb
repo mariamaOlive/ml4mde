{
 "cells": [
  {
   "cell_type": "markdown",
   "metadata": {},
   "source": [
    "# Rec Sys of Answerers for StackOverflow\n",
    "## Version 2.1 - NLP Approach"
   ]
  },
  {
   "cell_type": "markdown",
   "metadata": {},
   "source": [
    "Importing Libraries"
   ]
  },
  {
   "cell_type": "code",
   "execution_count": 42,
   "metadata": {},
   "outputs": [],
   "source": [
    "import pandas as pd\n",
    "import numpy as np\n",
    "from sklearn.metrics.pairwise import cosine_similarity\n",
    "from collections import defaultdict\n",
    "from scipy.sparse import csr_matrix\n",
    "from scipy.sparse.linalg import norm\n",
    "from sklearn.model_selection import train_test_split\n",
    "import ast\n",
    "\n",
    "from sentence_transformers import SentenceTransformer\n",
    "import numpy as np\n",
    "from tqdm import tqdm\n",
    "import torch"
   ]
  },
  {
   "cell_type": "markdown",
   "metadata": {},
   "source": [
    "Loading Data"
   ]
  },
  {
   "cell_type": "code",
   "execution_count": 43,
   "metadata": {},
   "outputs": [],
   "source": [
    "df_question = pd.read_csv(\"dataset/questions_2019.csv\")\n",
    "df_answer = pd.read_csv(\"dataset/answers_2019.csv\")"
   ]
  },
  {
   "cell_type": "code",
   "execution_count": 44,
   "metadata": {},
   "outputs": [
    {
     "data": {
      "text/html": [
       "<div>\n",
       "<style scoped>\n",
       "    .dataframe tbody tr th:only-of-type {\n",
       "        vertical-align: middle;\n",
       "    }\n",
       "\n",
       "    .dataframe tbody tr th {\n",
       "        vertical-align: top;\n",
       "    }\n",
       "\n",
       "    .dataframe thead th {\n",
       "        text-align: right;\n",
       "    }\n",
       "</style>\n",
       "<table border=\"1\" class=\"dataframe\">\n",
       "  <thead>\n",
       "    <tr style=\"text-align: right;\">\n",
       "      <th></th>\n",
       "      <th>QuestionId</th>\n",
       "      <th>QuestionOwnerId</th>\n",
       "      <th>QuestionTitle</th>\n",
       "      <th>QuestionTags</th>\n",
       "      <th>QuestionVotes</th>\n",
       "      <th>QuestionCreationDate</th>\n",
       "      <th>AnswerCount</th>\n",
       "    </tr>\n",
       "  </thead>\n",
       "  <tbody>\n",
       "    <tr>\n",
       "      <th>0</th>\n",
       "      <td>54936100</td>\n",
       "      <td>3419772</td>\n",
       "      <td>R 3.5.2: Error in loading stock data from zoo</td>\n",
       "      <td>['r']</td>\n",
       "      <td>0</td>\n",
       "      <td>2019-03-01 00:00:10</td>\n",
       "      <td>1</td>\n",
       "    </tr>\n",
       "    <tr>\n",
       "      <th>1</th>\n",
       "      <td>54936106</td>\n",
       "      <td>3997132</td>\n",
       "      <td>Different behaviour of range with lodash/fp</td>\n",
       "      <td>['functional-programming', 'lodash']</td>\n",
       "      <td>1</td>\n",
       "      <td>2019-03-01 00:01:48</td>\n",
       "      <td>1</td>\n",
       "    </tr>\n",
       "    <tr>\n",
       "      <th>2</th>\n",
       "      <td>54936108</td>\n",
       "      <td>4992551</td>\n",
       "      <td>webPack dev server proxy rewrite URLs in response</td>\n",
       "      <td>['webpack', 'webpack-dev-server']</td>\n",
       "      <td>2</td>\n",
       "      <td>2019-03-01 00:01:55</td>\n",
       "      <td>1</td>\n",
       "    </tr>\n",
       "    <tr>\n",
       "      <th>3</th>\n",
       "      <td>54936109</td>\n",
       "      <td>2239552</td>\n",
       "      <td>EF Core 2.0 Global Filter</td>\n",
       "      <td>['c#']</td>\n",
       "      <td>0</td>\n",
       "      <td>2019-03-01 00:02:36</td>\n",
       "      <td>0</td>\n",
       "    </tr>\n",
       "    <tr>\n",
       "      <th>4</th>\n",
       "      <td>54936112</td>\n",
       "      <td>5505171</td>\n",
       "      <td>Clustered column chart in C# using Chart in Wi...</td>\n",
       "      <td>['c#', 'winforms', 'charts', 'column-chart']</td>\n",
       "      <td>0</td>\n",
       "      <td>2019-03-01 00:02:47</td>\n",
       "      <td>0</td>\n",
       "    </tr>\n",
       "  </tbody>\n",
       "</table>\n",
       "</div>"
      ],
      "text/plain": [
       "   QuestionId  QuestionOwnerId  \\\n",
       "0    54936100          3419772   \n",
       "1    54936106          3997132   \n",
       "2    54936108          4992551   \n",
       "3    54936109          2239552   \n",
       "4    54936112          5505171   \n",
       "\n",
       "                                       QuestionTitle  \\\n",
       "0      R 3.5.2: Error in loading stock data from zoo   \n",
       "1        Different behaviour of range with lodash/fp   \n",
       "2  webPack dev server proxy rewrite URLs in response   \n",
       "3                          EF Core 2.0 Global Filter   \n",
       "4  Clustered column chart in C# using Chart in Wi...   \n",
       "\n",
       "                                   QuestionTags  QuestionVotes  \\\n",
       "0                                         ['r']              0   \n",
       "1          ['functional-programming', 'lodash']              1   \n",
       "2             ['webpack', 'webpack-dev-server']              2   \n",
       "3                                        ['c#']              0   \n",
       "4  ['c#', 'winforms', 'charts', 'column-chart']              0   \n",
       "\n",
       "  QuestionCreationDate  AnswerCount  \n",
       "0  2019-03-01 00:00:10            1  \n",
       "1  2019-03-01 00:01:48            1  \n",
       "2  2019-03-01 00:01:55            1  \n",
       "3  2019-03-01 00:02:36            0  \n",
       "4  2019-03-01 00:02:47            0  "
      ]
     },
     "execution_count": 44,
     "metadata": {},
     "output_type": "execute_result"
    }
   ],
   "source": [
    "df_question.head()"
   ]
  },
  {
   "cell_type": "code",
   "execution_count": 45,
   "metadata": {},
   "outputs": [
    {
     "data": {
      "text/html": [
       "<div>\n",
       "<style scoped>\n",
       "    .dataframe tbody tr th:only-of-type {\n",
       "        vertical-align: middle;\n",
       "    }\n",
       "\n",
       "    .dataframe tbody tr th {\n",
       "        vertical-align: top;\n",
       "    }\n",
       "\n",
       "    .dataframe thead th {\n",
       "        text-align: right;\n",
       "    }\n",
       "</style>\n",
       "<table border=\"1\" class=\"dataframe\">\n",
       "  <thead>\n",
       "    <tr style=\"text-align: right;\">\n",
       "      <th></th>\n",
       "      <th>QuestionId</th>\n",
       "      <th>AnswerOwnerId</th>\n",
       "      <th>AnswerVotes</th>\n",
       "      <th>AnswerCreationDate</th>\n",
       "    </tr>\n",
       "  </thead>\n",
       "  <tbody>\n",
       "    <tr>\n",
       "      <th>0</th>\n",
       "      <td>56140111</td>\n",
       "      <td>10245958</td>\n",
       "      <td>3</td>\n",
       "      <td>2019-05-15 00:07:23</td>\n",
       "    </tr>\n",
       "    <tr>\n",
       "      <th>1</th>\n",
       "      <td>56140157</td>\n",
       "      <td>1226963</td>\n",
       "      <td>0</td>\n",
       "      <td>2019-05-15 00:12:34</td>\n",
       "    </tr>\n",
       "    <tr>\n",
       "      <th>2</th>\n",
       "      <td>56140125</td>\n",
       "      <td>6841773</td>\n",
       "      <td>0</td>\n",
       "      <td>2019-05-15 00:12:44</td>\n",
       "    </tr>\n",
       "    <tr>\n",
       "      <th>3</th>\n",
       "      <td>56140150</td>\n",
       "      <td>1440565</td>\n",
       "      <td>5</td>\n",
       "      <td>2019-05-15 00:12:52</td>\n",
       "    </tr>\n",
       "    <tr>\n",
       "      <th>4</th>\n",
       "      <td>56140150</td>\n",
       "      <td>11015427</td>\n",
       "      <td>15</td>\n",
       "      <td>2019-05-15 00:16:46</td>\n",
       "    </tr>\n",
       "  </tbody>\n",
       "</table>\n",
       "</div>"
      ],
      "text/plain": [
       "   QuestionId  AnswerOwnerId  AnswerVotes   AnswerCreationDate\n",
       "0    56140111       10245958            3  2019-05-15 00:07:23\n",
       "1    56140157        1226963            0  2019-05-15 00:12:34\n",
       "2    56140125        6841773            0  2019-05-15 00:12:44\n",
       "3    56140150        1440565            5  2019-05-15 00:12:52\n",
       "4    56140150       11015427           15  2019-05-15 00:16:46"
      ]
     },
     "execution_count": 45,
     "metadata": {},
     "output_type": "execute_result"
    }
   ],
   "source": [
    "df_answer.head()"
   ]
  },
  {
   "cell_type": "markdown",
   "metadata": {},
   "source": [
    "Transfoming list of tags"
   ]
  },
  {
   "cell_type": "code",
   "execution_count": 46,
   "metadata": {},
   "outputs": [],
   "source": [
    "df_question['QuestionTags'] = df_question['QuestionTags'].apply(ast.literal_eval)\n",
    "# df_question = df_question.head(1000) # For testing"
   ]
  },
  {
   "cell_type": "code",
   "execution_count": 47,
   "metadata": {},
   "outputs": [
    {
     "data": {
      "text/plain": [
       "list"
      ]
     },
     "execution_count": 47,
     "metadata": {},
     "output_type": "execute_result"
    }
   ],
   "source": [
    "type(df_question['QuestionTags'][0])"
   ]
  },
  {
   "cell_type": "markdown",
   "metadata": {},
   "source": [
    "### Filtering Dataset to include only top 5 tags"
   ]
  },
  {
   "cell_type": "code",
   "execution_count": 48,
   "metadata": {},
   "outputs": [],
   "source": [
    "# tags_to_filter = {'java', 'python', 'javascript', 'c#', 'android'}  # Faster lookup structure\n",
    "\n",
    "# # Filter rows where any tag matches one of the target tags\n",
    "# df_question = df_question[df_question['QuestionTags'].apply(lambda tags: any(tag in tags_to_filter for tag in tags))]\n"
   ]
  },
  {
   "cell_type": "markdown",
   "metadata": {},
   "source": [
    "### Dividing the question dataset into Train and Test"
   ]
  },
  {
   "cell_type": "code",
   "execution_count": 49,
   "metadata": {},
   "outputs": [],
   "source": [
    "# Ordering dataframe before split\n",
    "# Convert 'QuestionCreationDate' to datetime format using .loc\n",
    "df_question.loc[:, 'QuestionCreationDate'] = pd.to_datetime(df_question['QuestionCreationDate'])\n",
    "\n",
    "# Sort the DataFrame by 'QuestionCreationDate' without using inplace\n",
    "df_question = df_question.sort_values(by='QuestionCreationDate')"
   ]
  },
  {
   "cell_type": "code",
   "execution_count": 50,
   "metadata": {},
   "outputs": [],
   "source": [
    "# Determine the split index\n",
    "split_index = int(len(df_question) * 0.9) #10% for test \n",
    "\n",
    "# Split the DataFrame into training and testing sets\n",
    "train_data = df_question.iloc[:split_index]\n",
    "test_data = df_question.iloc[split_index:]"
   ]
  },
  {
   "cell_type": "code",
   "execution_count": 51,
   "metadata": {},
   "outputs": [
    {
     "data": {
      "text/html": [
       "<div>\n",
       "<style scoped>\n",
       "    .dataframe tbody tr th:only-of-type {\n",
       "        vertical-align: middle;\n",
       "    }\n",
       "\n",
       "    .dataframe tbody tr th {\n",
       "        vertical-align: top;\n",
       "    }\n",
       "\n",
       "    .dataframe thead th {\n",
       "        text-align: right;\n",
       "    }\n",
       "</style>\n",
       "<table border=\"1\" class=\"dataframe\">\n",
       "  <thead>\n",
       "    <tr style=\"text-align: right;\">\n",
       "      <th></th>\n",
       "      <th>QuestionId</th>\n",
       "      <th>QuestionOwnerId</th>\n",
       "      <th>QuestionTitle</th>\n",
       "      <th>QuestionTags</th>\n",
       "      <th>QuestionVotes</th>\n",
       "      <th>QuestionCreationDate</th>\n",
       "      <th>AnswerCount</th>\n",
       "    </tr>\n",
       "  </thead>\n",
       "  <tbody>\n",
       "    <tr>\n",
       "      <th>568215</th>\n",
       "      <td>56546965</td>\n",
       "      <td>11631967</td>\n",
       "      <td>Percentage for each subgroup</td>\n",
       "      <td>[powerbi]</td>\n",
       "      <td>2</td>\n",
       "      <td>2019-06-11 15:22:52</td>\n",
       "      <td>1</td>\n",
       "    </tr>\n",
       "    <tr>\n",
       "      <th>568216</th>\n",
       "      <td>56546966</td>\n",
       "      <td>10744078</td>\n",
       "      <td>Managing floating point precision - Best pract...</td>\n",
       "      <td>[python, pandas]</td>\n",
       "      <td>0</td>\n",
       "      <td>2019-06-11 15:23:01</td>\n",
       "      <td>0</td>\n",
       "    </tr>\n",
       "    <tr>\n",
       "      <th>568217</th>\n",
       "      <td>56546968</td>\n",
       "      <td>4855106</td>\n",
       "      <td>Is the json import failing because of the JSON...</td>\n",
       "      <td>[json, python-3.x, visual-studio-code]</td>\n",
       "      <td>0</td>\n",
       "      <td>2019-06-11 15:23:12</td>\n",
       "      <td>0</td>\n",
       "    </tr>\n",
       "    <tr>\n",
       "      <th>568218</th>\n",
       "      <td>56546969</td>\n",
       "      <td>9877445</td>\n",
       "      <td>ggplot add text to the center of a donut chart...</td>\n",
       "      <td>[r, ggplot2, text, data-visualization, donut-c...</td>\n",
       "      <td>2</td>\n",
       "      <td>2019-06-11 15:23:14</td>\n",
       "      <td>1</td>\n",
       "    </tr>\n",
       "    <tr>\n",
       "      <th>568219</th>\n",
       "      <td>56546970</td>\n",
       "      <td>11379139</td>\n",
       "      <td>In Angular application, I keep getting this er...</td>\n",
       "      <td>[node.js, angular]</td>\n",
       "      <td>2</td>\n",
       "      <td>2019-06-11 15:23:16</td>\n",
       "      <td>1</td>\n",
       "    </tr>\n",
       "    <tr>\n",
       "      <th>...</th>\n",
       "      <td>...</td>\n",
       "      <td>...</td>\n",
       "      <td>...</td>\n",
       "      <td>...</td>\n",
       "      <td>...</td>\n",
       "      <td>...</td>\n",
       "      <td>...</td>\n",
       "    </tr>\n",
       "    <tr>\n",
       "      <th>156669</th>\n",
       "      <td>56828823</td>\n",
       "      <td>8684836</td>\n",
       "      <td>Embedding localized satellite dll into exe app...</td>\n",
       "      <td>[c++, winforms, c++-cli, clr]</td>\n",
       "      <td>0</td>\n",
       "      <td>2019-06-30 23:55:26</td>\n",
       "      <td>2</td>\n",
       "    </tr>\n",
       "    <tr>\n",
       "      <th>156670</th>\n",
       "      <td>56828825</td>\n",
       "      <td>11721401</td>\n",
       "      <td>PS/2 keyboard won't send keypress interrupts, ...</td>\n",
       "      <td>[c, assembly, x86, interrupt, osdev]</td>\n",
       "      <td>9</td>\n",
       "      <td>2019-06-30 23:55:45</td>\n",
       "      <td>1</td>\n",
       "    </tr>\n",
       "    <tr>\n",
       "      <th>156671</th>\n",
       "      <td>56828831</td>\n",
       "      <td>11721524</td>\n",
       "      <td>How to convert a string to an integer in Power...</td>\n",
       "      <td>[string, powershell, integer, int]</td>\n",
       "      <td>0</td>\n",
       "      <td>2019-06-30 23:58:22</td>\n",
       "      <td>3</td>\n",
       "    </tr>\n",
       "    <tr>\n",
       "      <th>156672</th>\n",
       "      <td>56828833</td>\n",
       "      <td>1889720</td>\n",
       "      <td>How do I return the results from a query in Fi...</td>\n",
       "      <td>[node.js, typescript, firebase, google-cloud-f...</td>\n",
       "      <td>1</td>\n",
       "      <td>2019-06-30 23:58:37</td>\n",
       "      <td>2</td>\n",
       "    </tr>\n",
       "    <tr>\n",
       "      <th>156673</th>\n",
       "      <td>56828835</td>\n",
       "      <td>10671956</td>\n",
       "      <td>How to insert html code block directly to pug</td>\n",
       "      <td>[javascript, html, pug]</td>\n",
       "      <td>1</td>\n",
       "      <td>2019-06-30 23:58:46</td>\n",
       "      <td>1</td>\n",
       "    </tr>\n",
       "  </tbody>\n",
       "</table>\n",
       "<p>87872 rows × 7 columns</p>\n",
       "</div>"
      ],
      "text/plain": [
       "        QuestionId  QuestionOwnerId  \\\n",
       "568215    56546965         11631967   \n",
       "568216    56546966         10744078   \n",
       "568217    56546968          4855106   \n",
       "568218    56546969          9877445   \n",
       "568219    56546970         11379139   \n",
       "...            ...              ...   \n",
       "156669    56828823          8684836   \n",
       "156670    56828825         11721401   \n",
       "156671    56828831         11721524   \n",
       "156672    56828833          1889720   \n",
       "156673    56828835         10671956   \n",
       "\n",
       "                                            QuestionTitle  \\\n",
       "568215                       Percentage for each subgroup   \n",
       "568216  Managing floating point precision - Best pract...   \n",
       "568217  Is the json import failing because of the JSON...   \n",
       "568218  ggplot add text to the center of a donut chart...   \n",
       "568219  In Angular application, I keep getting this er...   \n",
       "...                                                   ...   \n",
       "156669  Embedding localized satellite dll into exe app...   \n",
       "156670  PS/2 keyboard won't send keypress interrupts, ...   \n",
       "156671  How to convert a string to an integer in Power...   \n",
       "156672  How do I return the results from a query in Fi...   \n",
       "156673      How to insert html code block directly to pug   \n",
       "\n",
       "                                             QuestionTags  QuestionVotes  \\\n",
       "568215                                          [powerbi]              2   \n",
       "568216                                   [python, pandas]              0   \n",
       "568217             [json, python-3.x, visual-studio-code]              0   \n",
       "568218  [r, ggplot2, text, data-visualization, donut-c...              2   \n",
       "568219                                 [node.js, angular]              2   \n",
       "...                                                   ...            ...   \n",
       "156669                      [c++, winforms, c++-cli, clr]              0   \n",
       "156670               [c, assembly, x86, interrupt, osdev]              9   \n",
       "156671                 [string, powershell, integer, int]              0   \n",
       "156672  [node.js, typescript, firebase, google-cloud-f...              1   \n",
       "156673                            [javascript, html, pug]              1   \n",
       "\n",
       "       QuestionCreationDate  AnswerCount  \n",
       "568215  2019-06-11 15:22:52            1  \n",
       "568216  2019-06-11 15:23:01            0  \n",
       "568217  2019-06-11 15:23:12            0  \n",
       "568218  2019-06-11 15:23:14            1  \n",
       "568219  2019-06-11 15:23:16            1  \n",
       "...                     ...          ...  \n",
       "156669  2019-06-30 23:55:26            2  \n",
       "156670  2019-06-30 23:55:45            1  \n",
       "156671  2019-06-30 23:58:22            3  \n",
       "156672  2019-06-30 23:58:37            2  \n",
       "156673  2019-06-30 23:58:46            1  \n",
       "\n",
       "[87872 rows x 7 columns]"
      ]
     },
     "execution_count": 51,
     "metadata": {},
     "output_type": "execute_result"
    }
   ],
   "source": [
    "test_data"
   ]
  },
  {
   "cell_type": "code",
   "execution_count": 52,
   "metadata": {},
   "outputs": [
    {
     "data": {
      "text/html": [
       "<div>\n",
       "<style scoped>\n",
       "    .dataframe tbody tr th:only-of-type {\n",
       "        vertical-align: middle;\n",
       "    }\n",
       "\n",
       "    .dataframe tbody tr th {\n",
       "        vertical-align: top;\n",
       "    }\n",
       "\n",
       "    .dataframe thead th {\n",
       "        text-align: right;\n",
       "    }\n",
       "</style>\n",
       "<table border=\"1\" class=\"dataframe\">\n",
       "  <thead>\n",
       "    <tr style=\"text-align: right;\">\n",
       "      <th></th>\n",
       "      <th>QuestionId</th>\n",
       "      <th>QuestionOwnerId</th>\n",
       "      <th>QuestionTitle</th>\n",
       "      <th>QuestionTags</th>\n",
       "      <th>QuestionVotes</th>\n",
       "      <th>QuestionCreationDate</th>\n",
       "      <th>AnswerCount</th>\n",
       "    </tr>\n",
       "  </thead>\n",
       "  <tbody>\n",
       "    <tr>\n",
       "      <th>767371</th>\n",
       "      <td>53992215</td>\n",
       "      <td>1758023</td>\n",
       "      <td>Using a ScheduledExecutorService to run a task...</td>\n",
       "      <td>[java, executorservice, java-threads]</td>\n",
       "      <td>0</td>\n",
       "      <td>2019-01-01 00:00:04</td>\n",
       "      <td>1</td>\n",
       "    </tr>\n",
       "    <tr>\n",
       "      <th>767372</th>\n",
       "      <td>53992219</td>\n",
       "      <td>4298538</td>\n",
       "      <td>How to programmatically change style sheet of ...</td>\n",
       "      <td>[c++, qt, qt5, qtstylesheets, qpushbutton]</td>\n",
       "      <td>1</td>\n",
       "      <td>2019-01-01 00:01:55</td>\n",
       "      <td>2</td>\n",
       "    </tr>\n",
       "    <tr>\n",
       "      <th>767373</th>\n",
       "      <td>53992220</td>\n",
       "      <td>6266364</td>\n",
       "      <td>Trying to put website into Maintenance Mode (3...</td>\n",
       "      <td>[]</td>\n",
       "      <td>2</td>\n",
       "      <td>2019-01-01 00:02:08</td>\n",
       "      <td>2</td>\n",
       "    </tr>\n",
       "    <tr>\n",
       "      <th>767374</th>\n",
       "      <td>53992221</td>\n",
       "      <td>9706003</td>\n",
       "      <td>Node.js Lambda Async return Undefined</td>\n",
       "      <td>[node.js, lambda]</td>\n",
       "      <td>2</td>\n",
       "      <td>2019-01-01 00:02:27</td>\n",
       "      <td>3</td>\n",
       "    </tr>\n",
       "    <tr>\n",
       "      <th>767375</th>\n",
       "      <td>53992223</td>\n",
       "      <td>7035033</td>\n",
       "      <td>Unable to print a class list attribute using i...</td>\n",
       "      <td>[python, python-3.x, list, class, printing]</td>\n",
       "      <td>0</td>\n",
       "      <td>2019-01-01 00:02:37</td>\n",
       "      <td>2</td>\n",
       "    </tr>\n",
       "    <tr>\n",
       "      <th>...</th>\n",
       "      <td>...</td>\n",
       "      <td>...</td>\n",
       "      <td>...</td>\n",
       "      <td>...</td>\n",
       "      <td>...</td>\n",
       "      <td>...</td>\n",
       "      <td>...</td>\n",
       "    </tr>\n",
       "    <tr>\n",
       "      <th>568210</th>\n",
       "      <td>56546947</td>\n",
       "      <td>114029</td>\n",
       "      <td>Resource 'GUID value here' does not exist or o...</td>\n",
       "      <td>[authentication, microsoft-graph-api, access-t...</td>\n",
       "      <td>1</td>\n",
       "      <td>2019-06-11 15:21:47</td>\n",
       "      <td>1</td>\n",
       "    </tr>\n",
       "    <tr>\n",
       "      <th>568211</th>\n",
       "      <td>56546948</td>\n",
       "      <td>11055403</td>\n",
       "      <td>How to add rows to a table based on widget inp...</td>\n",
       "      <td>[r, shiny]</td>\n",
       "      <td>0</td>\n",
       "      <td>2019-06-11 15:21:48</td>\n",
       "      <td>1</td>\n",
       "    </tr>\n",
       "    <tr>\n",
       "      <th>568212</th>\n",
       "      <td>56546956</td>\n",
       "      <td>10152003</td>\n",
       "      <td>Is there any code for recording python seleniu...</td>\n",
       "      <td>[python, selenium, testing, selenium-webdriver...</td>\n",
       "      <td>1</td>\n",
       "      <td>2019-06-11 15:22:18</td>\n",
       "      <td>0</td>\n",
       "    </tr>\n",
       "    <tr>\n",
       "      <th>568213</th>\n",
       "      <td>56546958</td>\n",
       "      <td>9687794</td>\n",
       "      <td>Laravel 5.8.* using GuzzleHttp on production</td>\n",
       "      <td>[php, laravel, laravel-5, guzzle, laravel-5.8]</td>\n",
       "      <td>0</td>\n",
       "      <td>2019-06-11 15:22:32</td>\n",
       "      <td>2</td>\n",
       "    </tr>\n",
       "    <tr>\n",
       "      <th>568214</th>\n",
       "      <td>56546963</td>\n",
       "      <td>10556519</td>\n",
       "      <td>Why is the binding in this application failing...</td>\n",
       "      <td>[javascript, angularjs, data-binding]</td>\n",
       "      <td>0</td>\n",
       "      <td>2019-06-11 15:22:50</td>\n",
       "      <td>1</td>\n",
       "    </tr>\n",
       "  </tbody>\n",
       "</table>\n",
       "<p>790846 rows × 7 columns</p>\n",
       "</div>"
      ],
      "text/plain": [
       "        QuestionId  QuestionOwnerId  \\\n",
       "767371    53992215          1758023   \n",
       "767372    53992219          4298538   \n",
       "767373    53992220          6266364   \n",
       "767374    53992221          9706003   \n",
       "767375    53992223          7035033   \n",
       "...            ...              ...   \n",
       "568210    56546947           114029   \n",
       "568211    56546948         11055403   \n",
       "568212    56546956         10152003   \n",
       "568213    56546958          9687794   \n",
       "568214    56546963         10556519   \n",
       "\n",
       "                                            QuestionTitle  \\\n",
       "767371  Using a ScheduledExecutorService to run a task...   \n",
       "767372  How to programmatically change style sheet of ...   \n",
       "767373  Trying to put website into Maintenance Mode (3...   \n",
       "767374              Node.js Lambda Async return Undefined   \n",
       "767375  Unable to print a class list attribute using i...   \n",
       "...                                                   ...   \n",
       "568210  Resource 'GUID value here' does not exist or o...   \n",
       "568211  How to add rows to a table based on widget inp...   \n",
       "568212  Is there any code for recording python seleniu...   \n",
       "568213       Laravel 5.8.* using GuzzleHttp on production   \n",
       "568214  Why is the binding in this application failing...   \n",
       "\n",
       "                                             QuestionTags  QuestionVotes  \\\n",
       "767371              [java, executorservice, java-threads]              0   \n",
       "767372         [c++, qt, qt5, qtstylesheets, qpushbutton]              1   \n",
       "767373                                                 []              2   \n",
       "767374                                  [node.js, lambda]              2   \n",
       "767375        [python, python-3.x, list, class, printing]              0   \n",
       "...                                                   ...            ...   \n",
       "568210  [authentication, microsoft-graph-api, access-t...              1   \n",
       "568211                                         [r, shiny]              0   \n",
       "568212  [python, selenium, testing, selenium-webdriver...              1   \n",
       "568213     [php, laravel, laravel-5, guzzle, laravel-5.8]              0   \n",
       "568214              [javascript, angularjs, data-binding]              0   \n",
       "\n",
       "       QuestionCreationDate  AnswerCount  \n",
       "767371  2019-01-01 00:00:04            1  \n",
       "767372  2019-01-01 00:01:55            2  \n",
       "767373  2019-01-01 00:02:08            2  \n",
       "767374  2019-01-01 00:02:27            3  \n",
       "767375  2019-01-01 00:02:37            2  \n",
       "...                     ...          ...  \n",
       "568210  2019-06-11 15:21:47            1  \n",
       "568211  2019-06-11 15:21:48            1  \n",
       "568212  2019-06-11 15:22:18            0  \n",
       "568213  2019-06-11 15:22:32            2  \n",
       "568214  2019-06-11 15:22:50            1  \n",
       "\n",
       "[790846 rows x 7 columns]"
      ]
     },
     "execution_count": 52,
     "metadata": {},
     "output_type": "execute_result"
    }
   ],
   "source": [
    "train_data"
   ]
  },
  {
   "cell_type": "markdown",
   "metadata": {},
   "source": [
    "Merging QuestionTags to UserAnswerId"
   ]
  },
  {
   "cell_type": "code",
   "execution_count": 53,
   "metadata": {},
   "outputs": [],
   "source": [
    "df_merged = train_data[[\"QuestionId\",\"QuestionTitle\",\"QuestionTags\"]].merge(df_answer[[\"QuestionId\", \"AnswerOwnerId\"]], how='inner', on = \"QuestionId\", )"
   ]
  },
  {
   "cell_type": "markdown",
   "metadata": {},
   "source": [
    "Getting values to be embedded and indexes"
   ]
  },
  {
   "cell_type": "code",
   "execution_count": 54,
   "metadata": {},
   "outputs": [],
   "source": [
    "list_questions = df_merged[\"QuestionTitle\"].tolist()\n",
    "list_users = df_merged[\"AnswerOwnerId\"].tolist()"
   ]
  },
  {
   "cell_type": "markdown",
   "metadata": {},
   "source": [
    "### Extrating User Profile Vector"
   ]
  },
  {
   "cell_type": "code",
   "execution_count": 55,
   "metadata": {},
   "outputs": [
    {
     "name": "stdout",
     "output_type": "stream",
     "text": [
      "Using device: mps\n"
     ]
    },
    {
     "data": {
      "application/vnd.jupyter.widget-view+json": {
       "model_id": "0eafcc4d392d4a83af77736638354399",
       "version_major": 2,
       "version_minor": 0
      },
      "text/plain": [
       "Batches:   0%|          | 0/15566 [00:00<?, ?it/s]"
      ]
     },
     "metadata": {},
     "output_type": "display_data"
    }
   ],
   "source": [
    "# Check device\n",
    "device = \"mps\" if torch.backends.mps.is_available() else \"cpu\"\n",
    "print(f\"Using device: {device}\")\n",
    "\n",
    "# Initialize model\n",
    "model = SentenceTransformer(\"sentence-transformers/all-MiniLM-L6-v2\").to(device)\n",
    "\n",
    "# Encode all questions in a single batch\n",
    "all_embeddings = model.encode(list_questions, batch_size=64, show_progress_bar=True)"
   ]
  },
  {
   "cell_type": "code",
   "execution_count": 56,
   "metadata": {},
   "outputs": [],
   "source": [
    "# Normalize user embeddings for cosine similarity\n",
    "all_embeddings = all_embeddings / np.linalg.norm(all_embeddings, axis=1, keepdims=True)"
   ]
  },
  {
   "cell_type": "markdown",
   "metadata": {},
   "source": [
    "### Computing Unanswered questions embeddings"
   ]
  },
  {
   "cell_type": "code",
   "execution_count": 57,
   "metadata": {},
   "outputs": [],
   "source": [
    "df_merged_test = test_data[[\"QuestionId\",\"QuestionTitle\",\"QuestionTags\"]].merge(df_answer[[\"QuestionId\", \"AnswerOwnerId\"]], how='inner', on = \"QuestionId\")"
   ]
  },
  {
   "cell_type": "code",
   "execution_count": 58,
   "metadata": {},
   "outputs": [],
   "source": [
    "unanswered_embedding_index = df_merged_test[\"QuestionId\"].to_list()"
   ]
  },
  {
   "cell_type": "code",
   "execution_count": 59,
   "metadata": {},
   "outputs": [],
   "source": [
    "unanswered_questions = df_merged_test[\"QuestionTitle\"].to_list()\n"
   ]
  },
  {
   "cell_type": "markdown",
   "metadata": {},
   "source": [
    "Getting Embedding from Unanswered Questions"
   ]
  },
  {
   "cell_type": "code",
   "execution_count": 60,
   "metadata": {},
   "outputs": [
    {
     "data": {
      "application/vnd.jupyter.widget-view+json": {
       "model_id": "dd5545fdc6e94afdb6b99dfa1bd4ffc8",
       "version_major": 2,
       "version_minor": 0
      },
      "text/plain": [
       "Batches:   0%|          | 0/1711 [00:00<?, ?it/s]"
      ]
     },
     "metadata": {},
     "output_type": "display_data"
    }
   ],
   "source": [
    "# Compute embeddings for unanswered questions\n",
    "unanswered_embeddings = model.encode(unanswered_questions, batch_size=64, show_progress_bar=True) "
   ]
  },
  {
   "cell_type": "code",
   "execution_count": 61,
   "metadata": {},
   "outputs": [],
   "source": [
    "# Normalize unanswered embeddings\n",
    "unanswered_embeddings = unanswered_embeddings / np.linalg.norm(unanswered_embeddings, axis=1, keepdims=True)"
   ]
  },
  {
   "cell_type": "code",
   "execution_count": 62,
   "metadata": {},
   "outputs": [],
   "source": [
    "unanswered_embeddings = unanswered_embeddings.astype('float32')"
   ]
  },
  {
   "cell_type": "markdown",
   "metadata": {},
   "source": [
    "### Providing Recommendation based on Embedding Similarity"
   ]
  },
  {
   "cell_type": "code",
   "execution_count": 63,
   "metadata": {},
   "outputs": [],
   "source": [
    "# Calculate cosine similarity (Matrix multiplication)\n",
    "# Each row is a question and column is a user\n",
    "# similarities = np.dot(unanswered_embeddings, user_embeddings.T)  "
   ]
  },
  {
   "cell_type": "markdown",
   "metadata": {},
   "source": [
    "Alternative method to avoid memory overload"
   ]
  },
  {
   "cell_type": "code",
   "execution_count": 64,
   "metadata": {},
   "outputs": [
    {
     "name": "stderr",
     "output_type": "stream",
     "text": [
      "Processing Batches: 100%|██████████| 110/110 [2:54:51<00:00, 95.38s/it]  \n"
     ]
    }
   ],
   "source": [
    "import gc  # Garbage collector\n",
    "\n",
    "def get_recommendation_top_batched(top_n, batch_size=1000):\n",
    "    num_test = unanswered_embeddings.shape[0]\n",
    "\n",
    "    for start in tqdm(range(0, num_test, batch_size), desc=\"Processing Batches\"):\n",
    "        end = min(start + batch_size, num_test)\n",
    "        batch = unanswered_embeddings[start:end]\n",
    "\n",
    "        # Compute similarities (rows = questions, columns = question of a user)\n",
    "        batch_similarities = np.dot(batch, all_embeddings.T) \n",
    "\n",
    "        # Get top-N indices \n",
    "        top_indices = np.argsort(-batch_similarities, axis=1)[:, :top_n] \n",
    "        \n",
    "        del batch_similarities  \n",
    "        gc.collect()  # Force Python to release memory\n",
    "        # print(top_indices)\n",
    "        # Yield results one batch at a time\n",
    "        for i, question_id in enumerate(unanswered_embedding_index[start:end]):\n",
    "            yield question_id, [list_users[j] for j in top_indices[i]]\n",
    "\n",
    "# Use the generator directly instead of storing everything\n",
    "dic_recommendation = {qid: recommendations for qid, recommendations in get_recommendation_top_batched(top_n=1000)}\n"
   ]
  },
  {
   "cell_type": "code",
   "execution_count": 65,
   "metadata": {},
   "outputs": [],
   "source": [
    "def remove_repeats_numpy(arr):\n",
    "    row, idx = np.unique(arr, return_index=True)  # Get unique values and first occurrence index\n",
    "    sorted_row = row[idx.argsort()] # Sort by the original order\n",
    "    return np.array(sorted_row, dtype=int)"
   ]
  },
  {
   "cell_type": "code",
   "execution_count": 66,
   "metadata": {},
   "outputs": [],
   "source": [
    "dic_recommendation =  {qid: remove_repeats_numpy(recommendations) for qid, recommendations in dic_recommendation.items()}"
   ]
  },
  {
   "cell_type": "markdown",
   "metadata": {},
   "source": [
    "## Evaluation"
   ]
  },
  {
   "cell_type": "markdown",
   "metadata": {},
   "source": [
    "Grouping our **ground truth** that is the users that answered the question in real life"
   ]
  },
  {
   "cell_type": "code",
   "execution_count": 67,
   "metadata": {},
   "outputs": [],
   "source": [
    "# Convert QuestionTags from lists to tuples\n",
    "df_merged_test[\"QuestionTags\"] = df_merged_test[\"QuestionTags\"].apply(tuple)\n",
    "\n",
    "# Group AnswerOwnerId by QuestionId and QuestionTags\n",
    "grouped_df = (\n",
    "    df_merged_test.groupby([\"QuestionId\", \"QuestionTags\", \"QuestionTitle\"])[\"AnswerOwnerId\"]\n",
    "    .apply(list)  # Combine AnswerOwnerId values into a list\n",
    "    .reset_index()\n",
    "    .rename(columns={\"AnswerOwnerId\": \"GroundTruth\"})\n",
    ")"
   ]
  },
  {
   "cell_type": "code",
   "execution_count": 68,
   "metadata": {},
   "outputs": [],
   "source": [
    "ground_truth_dic = grouped_df.to_dict(orient='records')"
   ]
  },
  {
   "cell_type": "markdown",
   "metadata": {},
   "source": [
    "Compare Ground Truth with Recommendation"
   ]
  },
  {
   "cell_type": "code",
   "execution_count": 69,
   "metadata": {},
   "outputs": [],
   "source": [
    "def top_n_accuracy(ground_truth_dic, top_users_list, top_n):\n",
    "    tp = 0\n",
    "    \n",
    "    for question in ground_truth_dic:    \n",
    "        # Checking if it is in the answer\n",
    "        users_recommendation = top_users_list[question[\"QuestionId\"]][:top_n]\n",
    "        users_ground_truth = question[\"GroundTruth\"]\n",
    "        if set(users_recommendation) & set(users_ground_truth):\n",
    "            tp += 1\n",
    "            \n",
    "    print(tp)\n",
    "    return tp/len(ground_truth_dic)"
   ]
  },
  {
   "cell_type": "code",
   "execution_count": 70,
   "metadata": {},
   "outputs": [],
   "source": [
    "def evaluate_recommendations(users_ground_truth_list, users_recommendation_list, top_n):\n",
    "\n",
    "    total_recall = 0\n",
    "    successful_recommendations = 0\n",
    "    num_questions = len(users_ground_truth_list)\n",
    "\n",
    "    for users_ground_truth, users_rec in zip(users_ground_truth_list, users_recommendation_list):\n",
    "        # Get the top-N recommended users\n",
    "        users_recommendation = users_rec[:top_n]\n",
    "        # Convert to sets for intersection\n",
    "        recommended_set = set(users_recommendation)\n",
    "        ground_truth_set = set(users_ground_truth)\n",
    "        # Calculate the number of relevant users in the top-N recommendations\n",
    "        true_positives = len(recommended_set & ground_truth_set)\n",
    "        # Recall@N: Proportion of relevant users that are recommended in top-N\n",
    "        recall = true_positives / len(ground_truth_set) if ground_truth_set else 0\n",
    "        # Accumulate recall\n",
    "        total_recall += recall\n",
    "        # Accuracy@N: Check if there's at least one relevant user in the top-N recommendations\n",
    "        if true_positives > 0:\n",
    "            successful_recommendations += 1\n",
    "\n",
    "    # Calculate average recall over all questions\n",
    "    avg_recall = total_recall / num_questions if num_questions > 0 else 0\n",
    "    # Calculate accuracy over all questions\n",
    "    accuracy = successful_recommendations / num_questions if num_questions > 0 else 0\n",
    "\n",
    "    return avg_recall, accuracy"
   ]
  },
  {
   "cell_type": "code",
   "execution_count": 71,
   "metadata": {},
   "outputs": [],
   "source": [
    "users_ground_truth = [ground_truth_item[\"GroundTruth\"] for ground_truth_item in ground_truth_dic]\n",
    "users_recommendation_list = [dic_recommendation[item[\"QuestionId\"]] for item in ground_truth_dic]"
   ]
  },
  {
   "cell_type": "code",
   "execution_count": 72,
   "metadata": {},
   "outputs": [
    {
     "name": "stdout",
     "output_type": "stream",
     "text": [
      "{'acc': 0.07857410777544697, 'recall': 0.062397348573387204, 'top': 5, 'type': 'nlp_sentence_transformer_question'}\n",
      "{'acc': 0.114040815192476, 'recall': 0.09042604538429572, 'top': 10, 'type': 'nlp_sentence_transformer_question'}\n",
      "{'acc': 0.1554672631037884, 'recall': 0.12352941057529682, 'top': 20, 'type': 'nlp_sentence_transformer_question'}\n",
      "{'acc': 0.2182876512509898, 'recall': 0.17434166728841202, 'top': 50, 'type': 'nlp_sentence_transformer_question'}\n",
      "{'acc': 0.2705083144631371, 'recall': 0.21748667604127372, 'top': 100, 'type': 'nlp_sentence_transformer_question'}\n"
     ]
    }
   ],
   "source": [
    "top_users = [5, 10, 20, 50, 100]\n",
    "results = []\n",
    "\n",
    "for top in top_users:\n",
    "    recall, acc = evaluate_recommendations(users_ground_truth, users_recommendation_list, top)\n",
    "    result = {\n",
    "        \"acc\": acc,\n",
    "        \"recall\": recall,\n",
    "        \"top\": top,\n",
    "        \"type\": \"nlp_sentence_transformer_question\"\n",
    "    }\n",
    "    \n",
    "    print(result)\n",
    "    results.append(result)\n",
    "    "
   ]
  },
  {
   "cell_type": "code",
   "execution_count": 73,
   "metadata": {},
   "outputs": [
    {
     "data": {
      "text/plain": [
       "[{'acc': 0.07857410777544697,\n",
       "  'recall': 0.062397348573387204,\n",
       "  'top': 5,\n",
       "  'type': 'nlp_sentence_transformer_question'},\n",
       " {'acc': 0.114040815192476,\n",
       "  'recall': 0.09042604538429572,\n",
       "  'top': 10,\n",
       "  'type': 'nlp_sentence_transformer_question'},\n",
       " {'acc': 0.1554672631037884,\n",
       "  'recall': 0.12352941057529682,\n",
       "  'top': 20,\n",
       "  'type': 'nlp_sentence_transformer_question'},\n",
       " {'acc': 0.2182876512509898,\n",
       "  'recall': 0.17434166728841202,\n",
       "  'top': 50,\n",
       "  'type': 'nlp_sentence_transformer_question'},\n",
       " {'acc': 0.2705083144631371,\n",
       "  'recall': 0.21748667604127372,\n",
       "  'top': 100,\n",
       "  'type': 'nlp_sentence_transformer_question'}]"
      ]
     },
     "execution_count": 73,
     "metadata": {},
     "output_type": "execute_result"
    }
   ],
   "source": [
    "results"
   ]
  },
  {
   "cell_type": "code",
   "execution_count": 74,
   "metadata": {},
   "outputs": [],
   "source": [
    "pd.DataFrame(results).to_csv(\"setup3.csv\", index=False)"
   ]
  }
 ],
 "metadata": {
  "kernelspec": {
   "display_name": "data_science",
   "language": "python",
   "name": "python3"
  },
  "language_info": {
   "codemirror_mode": {
    "name": "ipython",
    "version": 3
   },
   "file_extension": ".py",
   "mimetype": "text/x-python",
   "name": "python",
   "nbconvert_exporter": "python",
   "pygments_lexer": "ipython3",
   "version": "3.9.18"
  }
 },
 "nbformat": 4,
 "nbformat_minor": 2
}
