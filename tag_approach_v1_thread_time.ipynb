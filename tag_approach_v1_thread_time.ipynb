{
 "cells": [
  {
   "cell_type": "markdown",
   "metadata": {},
   "source": [
    "# Rec Sys of Answerers for StackOverflow\n",
    "## Version 1.0"
   ]
  },
  {
   "cell_type": "markdown",
   "metadata": {},
   "source": [
    "Loading Libraries"
   ]
  },
  {
   "cell_type": "code",
   "execution_count": 82,
   "metadata": {},
   "outputs": [],
   "source": [
    "import pandas as pd\n",
    "import numpy as np\n",
    "from sklearn.metrics.pairwise import cosine_similarity\n",
    "from collections import defaultdict\n",
    "from scipy.sparse import csr_matrix\n",
    "from scipy.sparse.linalg import norm\n",
    "from sklearn.model_selection import train_test_split\n",
    "import ast\n"
   ]
  },
  {
   "cell_type": "markdown",
   "metadata": {},
   "source": [
    "Loading Data"
   ]
  },
  {
   "cell_type": "code",
   "execution_count": 83,
   "metadata": {},
   "outputs": [],
   "source": [
    "df_question = pd.read_csv(\"dataset/questions_2019.csv\")\n",
    "df_answer = pd.read_csv(\"dataset/answers_2019.csv\")"
   ]
  },
  {
   "cell_type": "code",
   "execution_count": 84,
   "metadata": {},
   "outputs": [
    {
     "data": {
      "text/html": [
       "<div>\n",
       "<style scoped>\n",
       "    .dataframe tbody tr th:only-of-type {\n",
       "        vertical-align: middle;\n",
       "    }\n",
       "\n",
       "    .dataframe tbody tr th {\n",
       "        vertical-align: top;\n",
       "    }\n",
       "\n",
       "    .dataframe thead th {\n",
       "        text-align: right;\n",
       "    }\n",
       "</style>\n",
       "<table border=\"1\" class=\"dataframe\">\n",
       "  <thead>\n",
       "    <tr style=\"text-align: right;\">\n",
       "      <th></th>\n",
       "      <th>QuestionId</th>\n",
       "      <th>QuestionOwnerId</th>\n",
       "      <th>QuestionTitle</th>\n",
       "      <th>QuestionTags</th>\n",
       "      <th>QuestionVotes</th>\n",
       "      <th>QuestionCreationDate</th>\n",
       "      <th>AnswerCount</th>\n",
       "    </tr>\n",
       "  </thead>\n",
       "  <tbody>\n",
       "    <tr>\n",
       "      <th>0</th>\n",
       "      <td>54936100</td>\n",
       "      <td>3419772</td>\n",
       "      <td>R 3.5.2: Error in loading stock data from zoo</td>\n",
       "      <td>['r']</td>\n",
       "      <td>0</td>\n",
       "      <td>2019-03-01 00:00:10</td>\n",
       "      <td>1</td>\n",
       "    </tr>\n",
       "    <tr>\n",
       "      <th>1</th>\n",
       "      <td>54936106</td>\n",
       "      <td>3997132</td>\n",
       "      <td>Different behaviour of range with lodash/fp</td>\n",
       "      <td>['functional-programming', 'lodash']</td>\n",
       "      <td>1</td>\n",
       "      <td>2019-03-01 00:01:48</td>\n",
       "      <td>1</td>\n",
       "    </tr>\n",
       "    <tr>\n",
       "      <th>2</th>\n",
       "      <td>54936108</td>\n",
       "      <td>4992551</td>\n",
       "      <td>webPack dev server proxy rewrite URLs in response</td>\n",
       "      <td>['webpack', 'webpack-dev-server']</td>\n",
       "      <td>2</td>\n",
       "      <td>2019-03-01 00:01:55</td>\n",
       "      <td>1</td>\n",
       "    </tr>\n",
       "    <tr>\n",
       "      <th>3</th>\n",
       "      <td>54936109</td>\n",
       "      <td>2239552</td>\n",
       "      <td>EF Core 2.0 Global Filter</td>\n",
       "      <td>['c#']</td>\n",
       "      <td>0</td>\n",
       "      <td>2019-03-01 00:02:36</td>\n",
       "      <td>0</td>\n",
       "    </tr>\n",
       "    <tr>\n",
       "      <th>4</th>\n",
       "      <td>54936112</td>\n",
       "      <td>5505171</td>\n",
       "      <td>Clustered column chart in C# using Chart in Wi...</td>\n",
       "      <td>['c#', 'winforms', 'charts', 'column-chart']</td>\n",
       "      <td>0</td>\n",
       "      <td>2019-03-01 00:02:47</td>\n",
       "      <td>0</td>\n",
       "    </tr>\n",
       "  </tbody>\n",
       "</table>\n",
       "</div>"
      ],
      "text/plain": [
       "   QuestionId  QuestionOwnerId  \\\n",
       "0    54936100          3419772   \n",
       "1    54936106          3997132   \n",
       "2    54936108          4992551   \n",
       "3    54936109          2239552   \n",
       "4    54936112          5505171   \n",
       "\n",
       "                                       QuestionTitle  \\\n",
       "0      R 3.5.2: Error in loading stock data from zoo   \n",
       "1        Different behaviour of range with lodash/fp   \n",
       "2  webPack dev server proxy rewrite URLs in response   \n",
       "3                          EF Core 2.0 Global Filter   \n",
       "4  Clustered column chart in C# using Chart in Wi...   \n",
       "\n",
       "                                   QuestionTags  QuestionVotes  \\\n",
       "0                                         ['r']              0   \n",
       "1          ['functional-programming', 'lodash']              1   \n",
       "2             ['webpack', 'webpack-dev-server']              2   \n",
       "3                                        ['c#']              0   \n",
       "4  ['c#', 'winforms', 'charts', 'column-chart']              0   \n",
       "\n",
       "  QuestionCreationDate  AnswerCount  \n",
       "0  2019-03-01 00:00:10            1  \n",
       "1  2019-03-01 00:01:48            1  \n",
       "2  2019-03-01 00:01:55            1  \n",
       "3  2019-03-01 00:02:36            0  \n",
       "4  2019-03-01 00:02:47            0  "
      ]
     },
     "execution_count": 84,
     "metadata": {},
     "output_type": "execute_result"
    }
   ],
   "source": [
    "df_question.head()"
   ]
  },
  {
   "cell_type": "code",
   "execution_count": 85,
   "metadata": {},
   "outputs": [],
   "source": [
    "df_question['QuestionCreationDate'] = pd.to_datetime(df_question['QuestionCreationDate'])\n",
    "df_question.sort_values(by='QuestionCreationDate', inplace=True)"
   ]
  },
  {
   "cell_type": "code",
   "execution_count": 86,
   "metadata": {},
   "outputs": [
    {
     "data": {
      "text/html": [
       "<div>\n",
       "<style scoped>\n",
       "    .dataframe tbody tr th:only-of-type {\n",
       "        vertical-align: middle;\n",
       "    }\n",
       "\n",
       "    .dataframe tbody tr th {\n",
       "        vertical-align: top;\n",
       "    }\n",
       "\n",
       "    .dataframe thead th {\n",
       "        text-align: right;\n",
       "    }\n",
       "</style>\n",
       "<table border=\"1\" class=\"dataframe\">\n",
       "  <thead>\n",
       "    <tr style=\"text-align: right;\">\n",
       "      <th></th>\n",
       "      <th>QuestionId</th>\n",
       "      <th>AnswerOwnerId</th>\n",
       "      <th>AnswerVotes</th>\n",
       "      <th>AnswerCreationDate</th>\n",
       "    </tr>\n",
       "  </thead>\n",
       "  <tbody>\n",
       "    <tr>\n",
       "      <th>0</th>\n",
       "      <td>56140111</td>\n",
       "      <td>10245958</td>\n",
       "      <td>3</td>\n",
       "      <td>2019-05-15 00:07:23</td>\n",
       "    </tr>\n",
       "    <tr>\n",
       "      <th>1</th>\n",
       "      <td>56140157</td>\n",
       "      <td>1226963</td>\n",
       "      <td>0</td>\n",
       "      <td>2019-05-15 00:12:34</td>\n",
       "    </tr>\n",
       "    <tr>\n",
       "      <th>2</th>\n",
       "      <td>56140125</td>\n",
       "      <td>6841773</td>\n",
       "      <td>0</td>\n",
       "      <td>2019-05-15 00:12:44</td>\n",
       "    </tr>\n",
       "    <tr>\n",
       "      <th>3</th>\n",
       "      <td>56140150</td>\n",
       "      <td>1440565</td>\n",
       "      <td>5</td>\n",
       "      <td>2019-05-15 00:12:52</td>\n",
       "    </tr>\n",
       "    <tr>\n",
       "      <th>4</th>\n",
       "      <td>56140150</td>\n",
       "      <td>11015427</td>\n",
       "      <td>15</td>\n",
       "      <td>2019-05-15 00:16:46</td>\n",
       "    </tr>\n",
       "  </tbody>\n",
       "</table>\n",
       "</div>"
      ],
      "text/plain": [
       "   QuestionId  AnswerOwnerId  AnswerVotes   AnswerCreationDate\n",
       "0    56140111       10245958            3  2019-05-15 00:07:23\n",
       "1    56140157        1226963            0  2019-05-15 00:12:34\n",
       "2    56140125        6841773            0  2019-05-15 00:12:44\n",
       "3    56140150        1440565            5  2019-05-15 00:12:52\n",
       "4    56140150       11015427           15  2019-05-15 00:16:46"
      ]
     },
     "execution_count": 86,
     "metadata": {},
     "output_type": "execute_result"
    }
   ],
   "source": [
    "df_answer.head()"
   ]
  },
  {
   "cell_type": "markdown",
   "metadata": {},
   "source": [
    "Transfoming list of tags"
   ]
  },
  {
   "cell_type": "code",
   "execution_count": 87,
   "metadata": {},
   "outputs": [],
   "source": [
    "df_question['QuestionTags'] = df_question['QuestionTags'].apply(ast.literal_eval)"
   ]
  },
  {
   "cell_type": "code",
   "execution_count": 88,
   "metadata": {},
   "outputs": [
    {
     "data": {
      "text/html": [
       "<div>\n",
       "<style scoped>\n",
       "    .dataframe tbody tr th:only-of-type {\n",
       "        vertical-align: middle;\n",
       "    }\n",
       "\n",
       "    .dataframe tbody tr th {\n",
       "        vertical-align: top;\n",
       "    }\n",
       "\n",
       "    .dataframe thead th {\n",
       "        text-align: right;\n",
       "    }\n",
       "</style>\n",
       "<table border=\"1\" class=\"dataframe\">\n",
       "  <thead>\n",
       "    <tr style=\"text-align: right;\">\n",
       "      <th></th>\n",
       "      <th>QuestionId</th>\n",
       "      <th>QuestionOwnerId</th>\n",
       "      <th>QuestionTitle</th>\n",
       "      <th>QuestionTags</th>\n",
       "      <th>QuestionVotes</th>\n",
       "      <th>QuestionCreationDate</th>\n",
       "      <th>AnswerCount</th>\n",
       "    </tr>\n",
       "  </thead>\n",
       "  <tbody>\n",
       "    <tr>\n",
       "      <th>767371</th>\n",
       "      <td>53992215</td>\n",
       "      <td>1758023</td>\n",
       "      <td>Using a ScheduledExecutorService to run a task...</td>\n",
       "      <td>[java, executorservice, java-threads]</td>\n",
       "      <td>0</td>\n",
       "      <td>2019-01-01 00:00:04</td>\n",
       "      <td>1</td>\n",
       "    </tr>\n",
       "    <tr>\n",
       "      <th>767372</th>\n",
       "      <td>53992219</td>\n",
       "      <td>4298538</td>\n",
       "      <td>How to programmatically change style sheet of ...</td>\n",
       "      <td>[c++, qt, qt5, qtstylesheets, qpushbutton]</td>\n",
       "      <td>1</td>\n",
       "      <td>2019-01-01 00:01:55</td>\n",
       "      <td>2</td>\n",
       "    </tr>\n",
       "    <tr>\n",
       "      <th>767373</th>\n",
       "      <td>53992220</td>\n",
       "      <td>6266364</td>\n",
       "      <td>Trying to put website into Maintenance Mode (3...</td>\n",
       "      <td>[]</td>\n",
       "      <td>2</td>\n",
       "      <td>2019-01-01 00:02:08</td>\n",
       "      <td>2</td>\n",
       "    </tr>\n",
       "    <tr>\n",
       "      <th>767374</th>\n",
       "      <td>53992221</td>\n",
       "      <td>9706003</td>\n",
       "      <td>Node.js Lambda Async return Undefined</td>\n",
       "      <td>[node.js, lambda]</td>\n",
       "      <td>2</td>\n",
       "      <td>2019-01-01 00:02:27</td>\n",
       "      <td>3</td>\n",
       "    </tr>\n",
       "    <tr>\n",
       "      <th>767375</th>\n",
       "      <td>53992223</td>\n",
       "      <td>7035033</td>\n",
       "      <td>Unable to print a class list attribute using i...</td>\n",
       "      <td>[python, python-3.x, list, class, printing]</td>\n",
       "      <td>0</td>\n",
       "      <td>2019-01-01 00:02:37</td>\n",
       "      <td>2</td>\n",
       "    </tr>\n",
       "    <tr>\n",
       "      <th>...</th>\n",
       "      <td>...</td>\n",
       "      <td>...</td>\n",
       "      <td>...</td>\n",
       "      <td>...</td>\n",
       "      <td>...</td>\n",
       "      <td>...</td>\n",
       "      <td>...</td>\n",
       "    </tr>\n",
       "    <tr>\n",
       "      <th>156669</th>\n",
       "      <td>56828823</td>\n",
       "      <td>8684836</td>\n",
       "      <td>Embedding localized satellite dll into exe app...</td>\n",
       "      <td>[c++, winforms, c++-cli, clr]</td>\n",
       "      <td>0</td>\n",
       "      <td>2019-06-30 23:55:26</td>\n",
       "      <td>2</td>\n",
       "    </tr>\n",
       "    <tr>\n",
       "      <th>156670</th>\n",
       "      <td>56828825</td>\n",
       "      <td>11721401</td>\n",
       "      <td>PS/2 keyboard won't send keypress interrupts, ...</td>\n",
       "      <td>[c, assembly, x86, interrupt, osdev]</td>\n",
       "      <td>9</td>\n",
       "      <td>2019-06-30 23:55:45</td>\n",
       "      <td>1</td>\n",
       "    </tr>\n",
       "    <tr>\n",
       "      <th>156671</th>\n",
       "      <td>56828831</td>\n",
       "      <td>11721524</td>\n",
       "      <td>How to convert a string to an integer in Power...</td>\n",
       "      <td>[string, powershell, integer, int]</td>\n",
       "      <td>0</td>\n",
       "      <td>2019-06-30 23:58:22</td>\n",
       "      <td>3</td>\n",
       "    </tr>\n",
       "    <tr>\n",
       "      <th>156672</th>\n",
       "      <td>56828833</td>\n",
       "      <td>1889720</td>\n",
       "      <td>How do I return the results from a query in Fi...</td>\n",
       "      <td>[node.js, typescript, firebase, google-cloud-f...</td>\n",
       "      <td>1</td>\n",
       "      <td>2019-06-30 23:58:37</td>\n",
       "      <td>2</td>\n",
       "    </tr>\n",
       "    <tr>\n",
       "      <th>156673</th>\n",
       "      <td>56828835</td>\n",
       "      <td>10671956</td>\n",
       "      <td>How to insert html code block directly to pug</td>\n",
       "      <td>[javascript, html, pug]</td>\n",
       "      <td>1</td>\n",
       "      <td>2019-06-30 23:58:46</td>\n",
       "      <td>1</td>\n",
       "    </tr>\n",
       "  </tbody>\n",
       "</table>\n",
       "<p>878718 rows × 7 columns</p>\n",
       "</div>"
      ],
      "text/plain": [
       "        QuestionId  QuestionOwnerId  \\\n",
       "767371    53992215          1758023   \n",
       "767372    53992219          4298538   \n",
       "767373    53992220          6266364   \n",
       "767374    53992221          9706003   \n",
       "767375    53992223          7035033   \n",
       "...            ...              ...   \n",
       "156669    56828823          8684836   \n",
       "156670    56828825         11721401   \n",
       "156671    56828831         11721524   \n",
       "156672    56828833          1889720   \n",
       "156673    56828835         10671956   \n",
       "\n",
       "                                            QuestionTitle  \\\n",
       "767371  Using a ScheduledExecutorService to run a task...   \n",
       "767372  How to programmatically change style sheet of ...   \n",
       "767373  Trying to put website into Maintenance Mode (3...   \n",
       "767374              Node.js Lambda Async return Undefined   \n",
       "767375  Unable to print a class list attribute using i...   \n",
       "...                                                   ...   \n",
       "156669  Embedding localized satellite dll into exe app...   \n",
       "156670  PS/2 keyboard won't send keypress interrupts, ...   \n",
       "156671  How to convert a string to an integer in Power...   \n",
       "156672  How do I return the results from a query in Fi...   \n",
       "156673      How to insert html code block directly to pug   \n",
       "\n",
       "                                             QuestionTags  QuestionVotes  \\\n",
       "767371              [java, executorservice, java-threads]              0   \n",
       "767372         [c++, qt, qt5, qtstylesheets, qpushbutton]              1   \n",
       "767373                                                 []              2   \n",
       "767374                                  [node.js, lambda]              2   \n",
       "767375        [python, python-3.x, list, class, printing]              0   \n",
       "...                                                   ...            ...   \n",
       "156669                      [c++, winforms, c++-cli, clr]              0   \n",
       "156670               [c, assembly, x86, interrupt, osdev]              9   \n",
       "156671                 [string, powershell, integer, int]              0   \n",
       "156672  [node.js, typescript, firebase, google-cloud-f...              1   \n",
       "156673                            [javascript, html, pug]              1   \n",
       "\n",
       "       QuestionCreationDate  AnswerCount  \n",
       "767371  2019-01-01 00:00:04            1  \n",
       "767372  2019-01-01 00:01:55            2  \n",
       "767373  2019-01-01 00:02:08            2  \n",
       "767374  2019-01-01 00:02:27            3  \n",
       "767375  2019-01-01 00:02:37            2  \n",
       "...                     ...          ...  \n",
       "156669  2019-06-30 23:55:26            2  \n",
       "156670  2019-06-30 23:55:45            1  \n",
       "156671  2019-06-30 23:58:22            3  \n",
       "156672  2019-06-30 23:58:37            2  \n",
       "156673  2019-06-30 23:58:46            1  \n",
       "\n",
       "[878718 rows x 7 columns]"
      ]
     },
     "execution_count": 88,
     "metadata": {},
     "output_type": "execute_result"
    }
   ],
   "source": [
    "df_question"
   ]
  },
  {
   "cell_type": "markdown",
   "metadata": {},
   "source": [
    "### Filtering Dataset to include only top 5 tags"
   ]
  },
  {
   "cell_type": "code",
   "execution_count": 89,
   "metadata": {},
   "outputs": [],
   "source": [
    "tags_to_filter = {'java', 'python', 'javascript', 'c#', 'android'}  # Faster lookup structure\n",
    "\n",
    "# Filter rows where any tag matches one of the target tags\n",
    "filtered_df = df_question[df_question['QuestionTags'].apply(lambda tags: any(tag in tags_to_filter for tag in tags))]\n"
   ]
  },
  {
   "cell_type": "markdown",
   "metadata": {},
   "source": [
    "## Prototype 1 - Approach Collaborative Filtering\n",
    "\n",
    "\n",
    "- **Goal:** Find answerers to new posted question.\n",
    "  \n",
    "- **Approach:** Collaborative Filtering (Item Based) --> Utilize question tags of previous answered questions, to indicate the most appropriate user.\n",
    "\n",
    "- **Steps:**\n",
    "\n",
    "1. Create Matrix of User-Tags\n",
    "2. Calculate cosine similarity between tags\n",
    "3. Calculate the the score of the user given the number of times they answerered certain question and the similarity of that tag with the the tags of the new question."
   ]
  },
  {
   "cell_type": "markdown",
   "metadata": {},
   "source": [
    "### Dividing the question dataset into Train and Test"
   ]
  },
  {
   "cell_type": "code",
   "execution_count": 90,
   "metadata": {},
   "outputs": [],
   "source": [
    "# train_data, test_data = train_test_split(df_question, test_size=0.05, random_state=42)\n",
    "\n",
    "# Determine the split index\n",
    "split_index = int(len(df_question) * 0.2)\n",
    "\n",
    "# Split the DataFrame into training and testing sets\n",
    "train_data = df_question.iloc[:split_index]\n",
    "test_data = df_question.iloc[split_index:]"
   ]
  },
  {
   "cell_type": "markdown",
   "metadata": {},
   "source": [
    "Merging QuestionTags to UserAnswerId"
   ]
  },
  {
   "cell_type": "code",
   "execution_count": 91,
   "metadata": {},
   "outputs": [],
   "source": [
    "df_merged = train_data[[\"QuestionId\",\"QuestionTags\"]].merge(df_answer[[\"QuestionId\", \"AnswerOwnerId\"]], how='inner', on = \"QuestionId\", )"
   ]
  },
  {
   "cell_type": "code",
   "execution_count": 92,
   "metadata": {},
   "outputs": [
    {
     "data": {
      "text/plain": [
       "1943329"
      ]
     },
     "execution_count": 92,
     "metadata": {},
     "output_type": "execute_result"
    }
   ],
   "source": [
    "1943329"
   ]
  },
  {
   "cell_type": "markdown",
   "metadata": {},
   "source": [
    "### Indexing tags and users"
   ]
  },
  {
   "cell_type": "code",
   "execution_count": 93,
   "metadata": {},
   "outputs": [],
   "source": [
    "dic_merged = df_merged.to_dict(orient=\"records\")"
   ]
  },
  {
   "cell_type": "code",
   "execution_count": 94,
   "metadata": {},
   "outputs": [],
   "source": [
    "unique_tags = list({tag for question in dic_merged for tag in question['QuestionTags']})\n",
    "unique_users = list({question['AnswerOwnerId'] for question in dic_merged})\n",
    "\n",
    "tag_to_index = {tag: idx for idx, tag in enumerate(unique_tags)}\n",
    "user_to_index = {user: idx for idx, user in enumerate(unique_users)}"
   ]
  },
  {
   "cell_type": "markdown",
   "metadata": {},
   "source": [
    "### Creating User-Tag Matrix"
   ]
  },
  {
   "cell_type": "code",
   "execution_count": 95,
   "metadata": {},
   "outputs": [],
   "source": [
    "# Step 2: Create a Sparse User-Tag Matrix\n",
    "rows, cols, data = [], [], []\n",
    "for question in dic_merged:\n",
    "    user_idx = user_to_index[question['AnswerOwnerId']]\n",
    "    for tag in question['QuestionTags']:\n",
    "        tag_idx = tag_to_index[tag]\n",
    "        rows.append(user_idx)\n",
    "        cols.append(tag_idx)\n",
    "        data.append(1)\n",
    "\n",
    "# Create a sparse matrix \n",
    "user_tag_matrix_sparse = csr_matrix((data, (rows, cols)), shape=(len(unique_users), len(unique_tags)))\n"
   ]
  },
  {
   "cell_type": "markdown",
   "metadata": {},
   "source": [
    "### Calculating Tags Similarity Matrix"
   ]
  },
  {
   "cell_type": "code",
   "execution_count": 96,
   "metadata": {},
   "outputs": [],
   "source": [
    "# Compute Tag Similarity\n",
    "cos_sim_matrix = cosine_similarity(user_tag_matrix_sparse.T)"
   ]
  },
  {
   "cell_type": "markdown",
   "metadata": {},
   "source": [
    "### Recommending User"
   ]
  },
  {
   "cell_type": "code",
   "execution_count": 97,
   "metadata": {},
   "outputs": [
    {
     "data": {
      "text/html": [
       "<div>\n",
       "<style scoped>\n",
       "    .dataframe tbody tr th:only-of-type {\n",
       "        vertical-align: middle;\n",
       "    }\n",
       "\n",
       "    .dataframe tbody tr th {\n",
       "        vertical-align: top;\n",
       "    }\n",
       "\n",
       "    .dataframe thead th {\n",
       "        text-align: right;\n",
       "    }\n",
       "</style>\n",
       "<table border=\"1\" class=\"dataframe\">\n",
       "  <thead>\n",
       "    <tr style=\"text-align: right;\">\n",
       "      <th></th>\n",
       "      <th>QuestionId</th>\n",
       "      <th>QuestionOwnerId</th>\n",
       "      <th>QuestionTitle</th>\n",
       "      <th>QuestionTags</th>\n",
       "      <th>QuestionVotes</th>\n",
       "      <th>QuestionCreationDate</th>\n",
       "      <th>AnswerCount</th>\n",
       "    </tr>\n",
       "  </thead>\n",
       "  <tbody>\n",
       "    <tr>\n",
       "      <th>724783</th>\n",
       "      <td>54567464</td>\n",
       "      <td>3292629</td>\n",
       "      <td>Session not getting created after upgrading to...</td>\n",
       "      <td>[hibernate, hibernate-5.x]</td>\n",
       "      <td>0</td>\n",
       "      <td>2019-02-07 06:25:08</td>\n",
       "      <td>0</td>\n",
       "    </tr>\n",
       "    <tr>\n",
       "      <th>724784</th>\n",
       "      <td>54567469</td>\n",
       "      <td>5933293</td>\n",
       "      <td>How to stop printing log4j FileNotFound Error ...</td>\n",
       "      <td>[java, log4j, executable-jar]</td>\n",
       "      <td>0</td>\n",
       "      <td>2019-02-07 06:25:38</td>\n",
       "      <td>1</td>\n",
       "    </tr>\n",
       "    <tr>\n",
       "      <th>724785</th>\n",
       "      <td>54567476</td>\n",
       "      <td>10939832</td>\n",
       "      <td>How to fix Checkbox bug?</td>\n",
       "      <td>[javascript, css, reactjs]</td>\n",
       "      <td>1</td>\n",
       "      <td>2019-02-07 06:26:09</td>\n",
       "      <td>4</td>\n",
       "    </tr>\n",
       "    <tr>\n",
       "      <th>724786</th>\n",
       "      <td>54567484</td>\n",
       "      <td>6438795</td>\n",
       "      <td>Timeout expired. The timeout period elapsed pr...</td>\n",
       "      <td>[sql-server, vb.net]</td>\n",
       "      <td>0</td>\n",
       "      <td>2019-02-07 06:26:54</td>\n",
       "      <td>1</td>\n",
       "    </tr>\n",
       "    <tr>\n",
       "      <th>724787</th>\n",
       "      <td>54567485</td>\n",
       "      <td>11026609</td>\n",
       "      <td>Is there a way to increment after a for-loop u...</td>\n",
       "      <td>[python, python-3.x]</td>\n",
       "      <td>-1</td>\n",
       "      <td>2019-02-07 06:27:12</td>\n",
       "      <td>2</td>\n",
       "    </tr>\n",
       "    <tr>\n",
       "      <th>...</th>\n",
       "      <td>...</td>\n",
       "      <td>...</td>\n",
       "      <td>...</td>\n",
       "      <td>...</td>\n",
       "      <td>...</td>\n",
       "      <td>...</td>\n",
       "      <td>...</td>\n",
       "    </tr>\n",
       "    <tr>\n",
       "      <th>156669</th>\n",
       "      <td>56828823</td>\n",
       "      <td>8684836</td>\n",
       "      <td>Embedding localized satellite dll into exe app...</td>\n",
       "      <td>[c++, winforms, c++-cli, clr]</td>\n",
       "      <td>0</td>\n",
       "      <td>2019-06-30 23:55:26</td>\n",
       "      <td>2</td>\n",
       "    </tr>\n",
       "    <tr>\n",
       "      <th>156670</th>\n",
       "      <td>56828825</td>\n",
       "      <td>11721401</td>\n",
       "      <td>PS/2 keyboard won't send keypress interrupts, ...</td>\n",
       "      <td>[c, assembly, x86, interrupt, osdev]</td>\n",
       "      <td>9</td>\n",
       "      <td>2019-06-30 23:55:45</td>\n",
       "      <td>1</td>\n",
       "    </tr>\n",
       "    <tr>\n",
       "      <th>156671</th>\n",
       "      <td>56828831</td>\n",
       "      <td>11721524</td>\n",
       "      <td>How to convert a string to an integer in Power...</td>\n",
       "      <td>[string, powershell, integer, int]</td>\n",
       "      <td>0</td>\n",
       "      <td>2019-06-30 23:58:22</td>\n",
       "      <td>3</td>\n",
       "    </tr>\n",
       "    <tr>\n",
       "      <th>156672</th>\n",
       "      <td>56828833</td>\n",
       "      <td>1889720</td>\n",
       "      <td>How do I return the results from a query in Fi...</td>\n",
       "      <td>[node.js, typescript, firebase, google-cloud-f...</td>\n",
       "      <td>1</td>\n",
       "      <td>2019-06-30 23:58:37</td>\n",
       "      <td>2</td>\n",
       "    </tr>\n",
       "    <tr>\n",
       "      <th>156673</th>\n",
       "      <td>56828835</td>\n",
       "      <td>10671956</td>\n",
       "      <td>How to insert html code block directly to pug</td>\n",
       "      <td>[javascript, html, pug]</td>\n",
       "      <td>1</td>\n",
       "      <td>2019-06-30 23:58:46</td>\n",
       "      <td>1</td>\n",
       "    </tr>\n",
       "  </tbody>\n",
       "</table>\n",
       "<p>702975 rows × 7 columns</p>\n",
       "</div>"
      ],
      "text/plain": [
       "        QuestionId  QuestionOwnerId  \\\n",
       "724783    54567464          3292629   \n",
       "724784    54567469          5933293   \n",
       "724785    54567476         10939832   \n",
       "724786    54567484          6438795   \n",
       "724787    54567485         11026609   \n",
       "...            ...              ...   \n",
       "156669    56828823          8684836   \n",
       "156670    56828825         11721401   \n",
       "156671    56828831         11721524   \n",
       "156672    56828833          1889720   \n",
       "156673    56828835         10671956   \n",
       "\n",
       "                                            QuestionTitle  \\\n",
       "724783  Session not getting created after upgrading to...   \n",
       "724784  How to stop printing log4j FileNotFound Error ...   \n",
       "724785                           How to fix Checkbox bug?   \n",
       "724786  Timeout expired. The timeout period elapsed pr...   \n",
       "724787  Is there a way to increment after a for-loop u...   \n",
       "...                                                   ...   \n",
       "156669  Embedding localized satellite dll into exe app...   \n",
       "156670  PS/2 keyboard won't send keypress interrupts, ...   \n",
       "156671  How to convert a string to an integer in Power...   \n",
       "156672  How do I return the results from a query in Fi...   \n",
       "156673      How to insert html code block directly to pug   \n",
       "\n",
       "                                             QuestionTags  QuestionVotes  \\\n",
       "724783                         [hibernate, hibernate-5.x]              0   \n",
       "724784                      [java, log4j, executable-jar]              0   \n",
       "724785                         [javascript, css, reactjs]              1   \n",
       "724786                               [sql-server, vb.net]              0   \n",
       "724787                               [python, python-3.x]             -1   \n",
       "...                                                   ...            ...   \n",
       "156669                      [c++, winforms, c++-cli, clr]              0   \n",
       "156670               [c, assembly, x86, interrupt, osdev]              9   \n",
       "156671                 [string, powershell, integer, int]              0   \n",
       "156672  [node.js, typescript, firebase, google-cloud-f...              1   \n",
       "156673                            [javascript, html, pug]              1   \n",
       "\n",
       "       QuestionCreationDate  AnswerCount  \n",
       "724783  2019-02-07 06:25:08            0  \n",
       "724784  2019-02-07 06:25:38            1  \n",
       "724785  2019-02-07 06:26:09            4  \n",
       "724786  2019-02-07 06:26:54            1  \n",
       "724787  2019-02-07 06:27:12            2  \n",
       "...                     ...          ...  \n",
       "156669  2019-06-30 23:55:26            2  \n",
       "156670  2019-06-30 23:55:45            1  \n",
       "156671  2019-06-30 23:58:22            3  \n",
       "156672  2019-06-30 23:58:37            2  \n",
       "156673  2019-06-30 23:58:46            1  \n",
       "\n",
       "[702975 rows x 7 columns]"
      ]
     },
     "execution_count": 97,
     "metadata": {},
     "output_type": "execute_result"
    }
   ],
   "source": [
    "test_data"
   ]
  },
  {
   "cell_type": "code",
   "execution_count": 98,
   "metadata": {},
   "outputs": [],
   "source": [
    "## Example to 1 question\n",
    "# tags = test_data[\"QuestionTags\"].iloc[0]\n",
    "# tags\n",
    "\n",
    "tags = [\"r\", \"radar-chart\", \"spider-chart\"]"
   ]
  },
  {
   "cell_type": "code",
   "execution_count": 99,
   "metadata": {},
   "outputs": [],
   "source": [
    "def recommend_users_collaborative(tags, top_n=10):\n",
    "    # Get indices of the tags\n",
    "    tag_indices = [tag_to_index[tag] for tag in tags if tag in tag_to_index]\n",
    "    if len(tag_indices)==0:\n",
    "        return [] ## No tag found to make the suggestion\n",
    "    \n",
    "    # Combine similarities for the requested tags\n",
    "    similarity_tags = [cos_sim_matrix[:, tag_index] for tag_index in tag_indices]\n",
    "    combined_similarity = sum(similarity_tags)\n",
    "\n",
    "    # Compute user scores \n",
    "    user_scores_vector = user_tag_matrix_sparse.dot(combined_similarity)\n",
    "\n",
    "    # Map scores to users\n",
    "    user_scores = {unique_users[idx]: score for idx, score in enumerate(user_scores_vector)}\n",
    "\n",
    "    # Rank users by scores\n",
    "    ranked_users = sorted(user_scores.items(), key=lambda x: x[1], reverse=True)\n",
    "    # return ranked_users[:top_n]\n",
    "    return ranked_users"
   ]
  },
  {
   "cell_type": "code",
   "execution_count": 100,
   "metadata": {},
   "outputs": [],
   "source": [
    "return_1 = recommend_users_collaborative(tags)"
   ]
  },
  {
   "cell_type": "markdown",
   "metadata": {},
   "source": [
    "## Prototype 2 - Approach Content Based-Filtering\n",
    "\n",
    "\n",
    "- **Goal:** Find answerers to new posted question.\n",
    "  \n",
    "- **Approach:** Content Based-Filtering --> Utilize question tags of previous answered questions, to indicate the most appropriate user.\n",
    "\n",
    "- **Steps:**\n",
    "\n",
    "1. Create Matrix of User-Tags\n",
    "2. Create vector of to the new tag based on the Matrix of User-tags \n",
    "3. Calculate cosine similarity for each user with vector created in step 2\n",
    "4. Order list to show the most recommended users"
   ]
  },
  {
   "cell_type": "code",
   "execution_count": 101,
   "metadata": {},
   "outputs": [],
   "source": [
    "# We are going start using some User-Tag matrix of the previous approach\n",
    "\n",
    "def recommend_users_content(tags, top_n=10):\n",
    "    # Get index of the tags\n",
    "    tag_indices = [tag_to_index[tag] for tag in tags if tag in tag_to_index]\n",
    "    if len(tag_indices)==0:\n",
    "        return [] ## No tag found to make the suggestion\n",
    "            \n",
    "    # Create vector of the tags in question\n",
    "    question_vector = np.zeros(user_tag_matrix_sparse.shape[1])\n",
    "    question_vector[tag_indices] = 1\n",
    "    question_vector= question_vector.reshape(1, -1) #Reshaping array to calculate similarity\n",
    "\n",
    "    user_scores_vector = cosine_similarity(user_tag_matrix_sparse, question_vector)\n",
    "    user_scores_vector = user_scores_vector.flatten()\n",
    "\n",
    "    # Map scores to users\n",
    "    user_scores = {unique_users[idx]: score for idx, score in enumerate(user_scores_vector)}\n",
    "\n",
    "    # Rank users by scores\n",
    "    ranked_users = sorted(user_scores.items(), key=lambda x: x[1], reverse=True)\n",
    "    # return ranked_users[:10]\n",
    "    return ranked_users\n"
   ]
  },
  {
   "cell_type": "code",
   "execution_count": 102,
   "metadata": {},
   "outputs": [],
   "source": [
    "return_2 = recommend_users_content(tags)"
   ]
  },
  {
   "cell_type": "markdown",
   "metadata": {},
   "source": [
    "## Evaluation"
   ]
  },
  {
   "cell_type": "markdown",
   "metadata": {},
   "source": [
    "Top-N Accuracy"
   ]
  },
  {
   "cell_type": "code",
   "execution_count": 103,
   "metadata": {},
   "outputs": [],
   "source": [
    "df_merged_test = test_data[[\"QuestionId\",\"QuestionTags\"]].merge(df_answer[[\"QuestionId\", \"AnswerOwnerId\"]], how='inner', on = \"QuestionId\", )"
   ]
  },
  {
   "cell_type": "markdown",
   "metadata": {},
   "source": [
    "Joining the Users to form a single ground truth"
   ]
  },
  {
   "cell_type": "code",
   "execution_count": 104,
   "metadata": {},
   "outputs": [],
   "source": [
    "# Convert QuestionTags from lists to tuples\n",
    "df_merged_test[\"QuestionTags\"] = df_merged_test[\"QuestionTags\"].apply(tuple)\n",
    "\n",
    "# Group AnswerOwnerId by QuestionId and QuestionTags\n",
    "grouped_df = (\n",
    "    df_merged_test.groupby([\"QuestionId\", \"QuestionTags\"])[\"AnswerOwnerId\"]\n",
    "    .apply(list)  # Combine AnswerOwnerId values into a list\n",
    "    .reset_index()\n",
    "    .rename(columns={\"AnswerOwnerId\": \"GroundTruth\"})\n",
    ")"
   ]
  },
  {
   "cell_type": "code",
   "execution_count": 105,
   "metadata": {},
   "outputs": [],
   "source": [
    "ground_truth_dic = grouped_df.to_dict(orient='records')"
   ]
  },
  {
   "cell_type": "markdown",
   "metadata": {},
   "source": [
    "Calculate the results for all questions"
   ]
  },
  {
   "cell_type": "code",
   "execution_count": 106,
   "metadata": {},
   "outputs": [],
   "source": [
    "import threading\n",
    "from functools import lru_cache\n",
    "\n",
    "# Cached recommendation function wrapper\n",
    "@lru_cache(maxsize=len(ground_truth_dic))\n",
    "def cached_recommendation(tags, recommendation_function, top_n):\n",
    "    return recommendation_function(tuple(tags))[:top_n]\n",
    "\n",
    "# Threaded version of the evaluation process with caching\n",
    "def threaded_top_n_accuracy_with_cache(ground_truth_dic, recommendation_function, top_n=5):\n",
    "    def evaluate_question(question, result, index):\n",
    "        # Get recommendations using cached function\n",
    "        top_users = cached_recommendation(tuple(question[\"QuestionTags\"]), recommendation_function, top_n)\n",
    "        top_users_list = [user[0] for user in top_users]\n",
    "        \n",
    "        # Check for overlap with ground truth\n",
    "        users_groundtruth = question[\"GroundTruth\"]\n",
    "        result[index] = int(bool(set(top_users_list) & set(users_groundtruth)))\n",
    "\n",
    "    # Shared list to store results\n",
    "    results = [0] * len(ground_truth_dic)\n",
    "    threads = []\n",
    "\n",
    "    # Create and start threads\n",
    "    for idx, question in enumerate(ground_truth_dic):\n",
    "        thread = threading.Thread(target=evaluate_question, args=(question, results, idx))\n",
    "        threads.append(thread)\n",
    "        thread.start()\n",
    "\n",
    "    # Wait for all threads to complete\n",
    "    for thread in threads:\n",
    "        thread.join()\n",
    "        \n",
    "\n",
    "    # Calculate accuracy\n",
    "    return sum(results) / len(ground_truth_dic)\n"
   ]
  },
  {
   "cell_type": "markdown",
   "metadata": {},
   "source": [
    "Collaborative"
   ]
  },
  {
   "cell_type": "code",
   "execution_count": 107,
   "metadata": {},
   "outputs": [
    {
     "name": "stdout",
     "output_type": "stream",
     "text": [
      "{'acc': 0.195, 'top': 10, 'type': 'collaborative'}\n",
      "{'acc': 0.235, 'top': 20, 'type': 'collaborative'}\n",
      "{'acc': 0.305, 'top': 50, 'type': 'collaborative'}\n"
     ]
    }
   ],
   "source": [
    "top_n = [10, 20, 50]\n",
    "results = []\n",
    "\n",
    "for top in top_n:\n",
    "    result = {\n",
    "        \"acc\": threaded_top_n_accuracy_with_cache(ground_truth_dic[:200], recommend_users_collaborative, top),\n",
    "        \"top\": top,\n",
    "        \"type\": \"collaborative\"\n",
    "    }\n",
    "    \n",
    "    print(result)\n",
    "    results.append(result)"
   ]
  },
  {
   "cell_type": "markdown",
   "metadata": {},
   "source": [
    "Content"
   ]
  },
  {
   "cell_type": "code",
   "execution_count": 108,
   "metadata": {},
   "outputs": [
    {
     "ename": "KeyboardInterrupt",
     "evalue": "",
     "output_type": "error",
     "traceback": [
      "\u001b[0;31m---------------------------------------------------------------------------\u001b[0m",
      "\u001b[0;31mKeyboardInterrupt\u001b[0m                         Traceback (most recent call last)",
      "Cell \u001b[0;32mIn[108], line 5\u001b[0m\n\u001b[1;32m      2\u001b[0m cached_recommendation\u001b[38;5;241m.\u001b[39mcache_clear()\n\u001b[1;32m      3\u001b[0m \u001b[38;5;28;01mfor\u001b[39;00m top \u001b[38;5;129;01min\u001b[39;00m top_n:\n\u001b[1;32m      4\u001b[0m     result \u001b[38;5;241m=\u001b[39m {\n\u001b[0;32m----> 5\u001b[0m         \u001b[38;5;124m\"\u001b[39m\u001b[38;5;124macc\u001b[39m\u001b[38;5;124m\"\u001b[39m: \u001b[43mthreaded_top_n_accuracy_with_cache\u001b[49m\u001b[43m(\u001b[49m\u001b[43mground_truth_dic\u001b[49m\u001b[43m,\u001b[49m\u001b[43m \u001b[49m\u001b[43mrecommend_users_content\u001b[49m\u001b[43m,\u001b[49m\u001b[43m \u001b[49m\u001b[43mtop\u001b[49m\u001b[43m)\u001b[49m,\n\u001b[1;32m      6\u001b[0m         \u001b[38;5;124m\"\u001b[39m\u001b[38;5;124mtop\u001b[39m\u001b[38;5;124m\"\u001b[39m: top,\n\u001b[1;32m      7\u001b[0m         \u001b[38;5;124m\"\u001b[39m\u001b[38;5;124mtype\u001b[39m\u001b[38;5;124m\"\u001b[39m: \u001b[38;5;124m\"\u001b[39m\u001b[38;5;124mcontent\u001b[39m\u001b[38;5;124m\"\u001b[39m\n\u001b[1;32m      8\u001b[0m     }\n\u001b[1;32m      9\u001b[0m     \u001b[38;5;28mprint\u001b[39m(result)\n\u001b[1;32m     10\u001b[0m     results\u001b[38;5;241m.\u001b[39mappend(result)\n",
      "Cell \u001b[0;32mIn[106], line 28\u001b[0m, in \u001b[0;36mthreaded_top_n_accuracy_with_cache\u001b[0;34m(ground_truth_dic, recommendation_function, top_n)\u001b[0m\n\u001b[1;32m     26\u001b[0m     thread \u001b[38;5;241m=\u001b[39m threading\u001b[38;5;241m.\u001b[39mThread(target\u001b[38;5;241m=\u001b[39mevaluate_question, args\u001b[38;5;241m=\u001b[39m(question, results, idx))\n\u001b[1;32m     27\u001b[0m     threads\u001b[38;5;241m.\u001b[39mappend(thread)\n\u001b[0;32m---> 28\u001b[0m     \u001b[43mthread\u001b[49m\u001b[38;5;241;43m.\u001b[39;49m\u001b[43mstart\u001b[49m\u001b[43m(\u001b[49m\u001b[43m)\u001b[49m\n\u001b[1;32m     30\u001b[0m \u001b[38;5;66;03m# Wait for all threads to complete\u001b[39;00m\n\u001b[1;32m     31\u001b[0m \u001b[38;5;28;01mfor\u001b[39;00m thread \u001b[38;5;129;01min\u001b[39;00m threads:\n",
      "File \u001b[0;32m~/anaconda3/envs/data_science/lib/python3.9/threading.py:904\u001b[0m, in \u001b[0;36mThread.start\u001b[0;34m(self)\u001b[0m\n\u001b[1;32m    902\u001b[0m         \u001b[38;5;28;01mdel\u001b[39;00m _limbo[\u001b[38;5;28mself\u001b[39m]\n\u001b[1;32m    903\u001b[0m     \u001b[38;5;28;01mraise\u001b[39;00m\n\u001b[0;32m--> 904\u001b[0m \u001b[38;5;28;43mself\u001b[39;49m\u001b[38;5;241;43m.\u001b[39;49m\u001b[43m_started\u001b[49m\u001b[38;5;241;43m.\u001b[39;49m\u001b[43mwait\u001b[49m\u001b[43m(\u001b[49m\u001b[43m)\u001b[49m\n",
      "File \u001b[0;32m~/anaconda3/envs/data_science/lib/python3.9/threading.py:581\u001b[0m, in \u001b[0;36mEvent.wait\u001b[0;34m(self, timeout)\u001b[0m\n\u001b[1;32m    579\u001b[0m signaled \u001b[38;5;241m=\u001b[39m \u001b[38;5;28mself\u001b[39m\u001b[38;5;241m.\u001b[39m_flag\n\u001b[1;32m    580\u001b[0m \u001b[38;5;28;01mif\u001b[39;00m \u001b[38;5;129;01mnot\u001b[39;00m signaled:\n\u001b[0;32m--> 581\u001b[0m     signaled \u001b[38;5;241m=\u001b[39m \u001b[38;5;28;43mself\u001b[39;49m\u001b[38;5;241;43m.\u001b[39;49m\u001b[43m_cond\u001b[49m\u001b[38;5;241;43m.\u001b[39;49m\u001b[43mwait\u001b[49m\u001b[43m(\u001b[49m\u001b[43mtimeout\u001b[49m\u001b[43m)\u001b[49m\n\u001b[1;32m    582\u001b[0m \u001b[38;5;28;01mreturn\u001b[39;00m signaled\n",
      "File \u001b[0;32m~/anaconda3/envs/data_science/lib/python3.9/threading.py:312\u001b[0m, in \u001b[0;36mCondition.wait\u001b[0;34m(self, timeout)\u001b[0m\n\u001b[1;32m    310\u001b[0m \u001b[38;5;28;01mtry\u001b[39;00m:    \u001b[38;5;66;03m# restore state no matter what (e.g., KeyboardInterrupt)\u001b[39;00m\n\u001b[1;32m    311\u001b[0m     \u001b[38;5;28;01mif\u001b[39;00m timeout \u001b[38;5;129;01mis\u001b[39;00m \u001b[38;5;28;01mNone\u001b[39;00m:\n\u001b[0;32m--> 312\u001b[0m         \u001b[43mwaiter\u001b[49m\u001b[38;5;241;43m.\u001b[39;49m\u001b[43macquire\u001b[49m\u001b[43m(\u001b[49m\u001b[43m)\u001b[49m\n\u001b[1;32m    313\u001b[0m         gotit \u001b[38;5;241m=\u001b[39m \u001b[38;5;28;01mTrue\u001b[39;00m\n\u001b[1;32m    314\u001b[0m     \u001b[38;5;28;01melse\u001b[39;00m:\n",
      "\u001b[0;31mKeyboardInterrupt\u001b[0m: "
     ]
    }
   ],
   "source": [
    "# Clean cache\n",
    "cached_recommendation.cache_clear()\n",
    "for top in top_n:\n",
    "    result = {\n",
    "        \"acc\": threaded_top_n_accuracy_with_cache(ground_truth_dic, recommend_users_content, top),\n",
    "        \"top\": top,\n",
    "        \"type\": \"content\"\n",
    "    }\n",
    "    print(result)\n",
    "    results.append(result)"
   ]
  },
  {
   "cell_type": "code",
   "execution_count": null,
   "metadata": {},
   "outputs": [],
   "source": [
    "pd.DataFrame(results).to_csv(\"prototype_simple_5tags.csv\", index=False)"
   ]
  },
  {
   "cell_type": "markdown",
   "metadata": {},
   "source": [
    "Random Pick"
   ]
  },
  {
   "cell_type": "code",
   "execution_count": null,
   "metadata": {},
   "outputs": [],
   "source": [
    "import random"
   ]
  },
  {
   "cell_type": "code",
   "execution_count": null,
   "metadata": {},
   "outputs": [],
   "source": [
    "users = list(set(df_merged[\"AnswerOwnerId\"].to_list()))"
   ]
  },
  {
   "cell_type": "code",
   "execution_count": null,
   "metadata": {},
   "outputs": [],
   "source": [
    "def top_n_accuracy(ground_truth_dic, top_n):\n",
    "    tp = 0\n",
    "    \n",
    "    for question in ground_truth_dic:    \n",
    "        # Checking if it is in the answer\n",
    "        users_recommendation = random.sample(users, top_n)\n",
    "        users_ground_truth = question[\"GroundTruth\"]\n",
    "        if set(users_recommendation) & set(users_ground_truth):\n",
    "            tp += 1\n",
    "            \n",
    "    print(tp)\n",
    "    return tp/len(ground_truth_dic)"
   ]
  },
  {
   "cell_type": "code",
   "execution_count": null,
   "metadata": {},
   "outputs": [
    {
     "name": "stdout",
     "output_type": "stream",
     "text": [
      "2\n",
      "{'acc': 5.553550106905839e-05, 'top': 10, 'type': 'random'}\n",
      "9\n",
      "{'acc': 0.00024990975481076276, 'top': 20, 'type': 'random'}\n",
      "6\n",
      "{'acc': 0.0001666065032071752, 'top': 50, 'type': 'random'}\n"
     ]
    }
   ],
   "source": [
    "# Clean cache\n",
    "cached_recommendation.cache_clear()\n",
    "for top in top_n:\n",
    "    result = {\n",
    "        \"acc\": top_n_accuracy(ground_truth_dic, top),\n",
    "        \"top\": top,\n",
    "        \"type\": \"random\"\n",
    "    }\n",
    "    print(result)\n",
    "    results.append(result)"
   ]
  }
 ],
 "metadata": {
  "kernelspec": {
   "display_name": "data_science",
   "language": "python",
   "name": "python3"
  },
  "language_info": {
   "codemirror_mode": {
    "name": "ipython",
    "version": 3
   },
   "file_extension": ".py",
   "mimetype": "text/x-python",
   "name": "python",
   "nbconvert_exporter": "python",
   "pygments_lexer": "ipython3",
   "version": "3.9.18"
  }
 },
 "nbformat": 4,
 "nbformat_minor": 2
}
